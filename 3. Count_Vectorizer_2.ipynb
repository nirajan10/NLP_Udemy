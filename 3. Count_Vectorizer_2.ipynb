{
 "cells": [
  {
   "cell_type": "markdown",
   "id": "8a137996-5e8d-4151-a6ce-daf8c7ecca00",
   "metadata": {},
   "source": [
    "## Importing Libraries"
   ]
  },
  {
   "cell_type": "code",
   "execution_count": 1,
   "id": "e37d2fb0-f483-4378-989f-1221b383ae42",
   "metadata": {},
   "outputs": [],
   "source": [
    "import numpy as np\n",
    "import pandas as pd\n",
    "from sklearn.feature_extraction.text import CountVectorizer\n",
    "from sklearn.naive_bayes import MultinomialNB\n",
    "from sklearn.model_selection import train_test_split\n",
    "import seaborn as sns\n",
    "\n",
    "import nltk\n",
    "from nltk import word_tokenize\n",
    "from nltk.stem import PorterStemmer, WordNetLemmatizer\n",
    "from nltk.corpus import wordnet"
   ]
  },
  {
   "cell_type": "markdown",
   "id": "c0948344-9f5f-44ab-bd39-e200990ffd43",
   "metadata": {},
   "source": [
    "## Downloading necessary package"
   ]
  },
  {
   "cell_type": "code",
   "execution_count": 2,
   "id": "aa37df78-8336-4215-b5cb-5a29f5f20295",
   "metadata": {},
   "outputs": [
    {
     "name": "stderr",
     "output_type": "stream",
     "text": [
      "[nltk_data] Downloading package wordnet to\n",
      "[nltk_data]     C:\\Users\\Nirajan\\AppData\\Roaming\\nltk_data...\n",
      "[nltk_data]   Package wordnet is already up-to-date!\n",
      "[nltk_data] Downloading package punkt to\n",
      "[nltk_data]     C:\\Users\\Nirajan\\AppData\\Roaming\\nltk_data...\n",
      "[nltk_data]   Package punkt is already up-to-date!\n",
      "[nltk_data] Downloading package averaged_perceptron_tagger to\n",
      "[nltk_data]     C:\\Users\\Nirajan\\AppData\\Roaming\\nltk_data...\n",
      "[nltk_data]   Package averaged_perceptron_tagger is already up-to-\n",
      "[nltk_data]       date!\n",
      "[nltk_data] Downloading package omw-1.4 to\n",
      "[nltk_data]     C:\\Users\\Nirajan\\AppData\\Roaming\\nltk_data...\n",
      "[nltk_data]   Package omw-1.4 is already up-to-date!\n"
     ]
    },
    {
     "data": {
      "text/plain": [
       "True"
      ]
     },
     "execution_count": 2,
     "metadata": {},
     "output_type": "execute_result"
    }
   ],
   "source": [
    "nltk.download(\"wordnet\")\n",
    "nltk.download('punkt')\n",
    "nltk.download('averaged_perceptron_tagger')\n",
    "nltk.download('omw-1.4')"
   ]
  },
  {
   "cell_type": "markdown",
   "id": "57453f40-30d7-4ee4-a2aa-6d678f41aa22",
   "metadata": {},
   "source": [
    "## Loading Dataset"
   ]
  },
  {
   "cell_type": "code",
   "execution_count": 3,
   "id": "ea202c28-4926-4c19-a12d-431cb33e5ddf",
   "metadata": {},
   "outputs": [
    {
     "data": {
      "text/html": [
       "<div>\n",
       "<style scoped>\n",
       "    .dataframe tbody tr th:only-of-type {\n",
       "        vertical-align: middle;\n",
       "    }\n",
       "\n",
       "    .dataframe tbody tr th {\n",
       "        vertical-align: top;\n",
       "    }\n",
       "\n",
       "    .dataframe thead th {\n",
       "        text-align: right;\n",
       "    }\n",
       "</style>\n",
       "<table border=\"1\" class=\"dataframe\">\n",
       "  <thead>\n",
       "    <tr style=\"text-align: right;\">\n",
       "      <th></th>\n",
       "      <th>text</th>\n",
       "      <th>labels</th>\n",
       "    </tr>\n",
       "  </thead>\n",
       "  <tbody>\n",
       "    <tr>\n",
       "      <th>0</th>\n",
       "      <td>Ad sales boost Time Warner profit\\n\\nQuarterly...</td>\n",
       "      <td>business</td>\n",
       "    </tr>\n",
       "    <tr>\n",
       "      <th>1</th>\n",
       "      <td>Dollar gains on Greenspan speech\\n\\nThe dollar...</td>\n",
       "      <td>business</td>\n",
       "    </tr>\n",
       "    <tr>\n",
       "      <th>2</th>\n",
       "      <td>Yukos unit buyer faces loan claim\\n\\nThe owner...</td>\n",
       "      <td>business</td>\n",
       "    </tr>\n",
       "    <tr>\n",
       "      <th>3</th>\n",
       "      <td>High fuel prices hit BA's profits\\n\\nBritish A...</td>\n",
       "      <td>business</td>\n",
       "    </tr>\n",
       "    <tr>\n",
       "      <th>4</th>\n",
       "      <td>Pernod takeover talk lifts Domecq\\n\\nShares in...</td>\n",
       "      <td>business</td>\n",
       "    </tr>\n",
       "  </tbody>\n",
       "</table>\n",
       "</div>"
      ],
      "text/plain": [
       "                                                text    labels\n",
       "0  Ad sales boost Time Warner profit\\n\\nQuarterly...  business\n",
       "1  Dollar gains on Greenspan speech\\n\\nThe dollar...  business\n",
       "2  Yukos unit buyer faces loan claim\\n\\nThe owner...  business\n",
       "3  High fuel prices hit BA's profits\\n\\nBritish A...  business\n",
       "4  Pernod takeover talk lifts Domecq\\n\\nShares in...  business"
      ]
     },
     "execution_count": 3,
     "metadata": {},
     "output_type": "execute_result"
    }
   ],
   "source": [
    "df = pd.read_csv('datasets/bbc_text_cls.csv')\n",
    "df.head()"
   ]
  },
  {
   "cell_type": "code",
   "execution_count": 4,
   "id": "9fdcb65c-ec64-4b47-a741-5cc7c675b11f",
   "metadata": {},
   "outputs": [
    {
     "data": {
      "text/plain": [
       "(2225, 2)"
      ]
     },
     "execution_count": 4,
     "metadata": {},
     "output_type": "execute_result"
    }
   ],
   "source": [
    "df.shape"
   ]
  },
  {
   "cell_type": "code",
   "execution_count": 5,
   "id": "bd24a2b6-bd6e-4e8e-ad42-b1be6a598940",
   "metadata": {},
   "outputs": [],
   "source": [
    "inputs = df['text']\n",
    "labels = df['labels']"
   ]
  },
  {
   "cell_type": "code",
   "execution_count": 6,
   "id": "0159879d-3fe6-4c7b-8b85-edf6aa17d446",
   "metadata": {},
   "outputs": [
    {
     "data": {
      "text/plain": [
       "<Axes: xlabel='labels', ylabel='Count'>"
      ]
     },
     "execution_count": 6,
     "metadata": {},
     "output_type": "execute_result"
    },
    {
     "data": {
      "image/png": "[encoded data removed]",
      "text/plain": [
       "<Figure size 640x480 with 1 Axes>"
      ]
     },
     "metadata": {},
     "output_type": "display_data"
    }
   ],
   "source": [
    "sns.histplot(labels)"
   ]
  },
  {
   "cell_type": "markdown",
   "id": "31d11aec-354d-455c-9e60-db43f652f5aa",
   "metadata": {},
   "source": [
    "Dataset is almost balanced."
   ]
  },
  {
   "cell_type": "markdown",
   "id": "9184fe05-1313-4786-9456-08036645be04",
   "metadata": {},
   "source": [
    "### Data prepocessing (Dividing into train, test and also converting to numerical"
   ]
  },
  {
   "cell_type": "code",
   "execution_count": 7,
   "id": "cb4f8038-dece-4240-b256-e3640a7da611",
   "metadata": {},
   "outputs": [],
   "source": [
    "Input_train, Input_test, y_train, y_test = train_test_split(inputs, labels, test_size=0.2, random_state=42)"
   ]
  },
  {
   "cell_type": "code",
   "execution_count": 8,
   "id": "f3b00705-5a31-4426-ab9e-6e7adb3ab5d4",
   "metadata": {},
   "outputs": [],
   "source": [
    "vectorizer = CountVectorizer()"
   ]
  },
  {
   "cell_type": "code",
   "execution_count": 9,
   "id": "245b7dc6-b5d7-4dd6-99e1-5ecbe0e2ff48",
   "metadata": {},
   "outputs": [],
   "source": [
    "X_train = vectorizer.fit_transform(Input_train)\n",
    "X_test = vectorizer.transform(Input_test)"
   ]
  },
  {
   "cell_type": "code",
   "execution_count": 10,
   "id": "3178ad8a-4ac1-4059-af17-0c0408ea1c1d",
   "metadata": {},
   "outputs": [
    {
     "data": {
      "text/plain": [
       "((1780, 26762), (445, 26762), (1780,), (445,))"
      ]
     },
     "execution_count": 10,
     "metadata": {},
     "output_type": "execute_result"
    }
   ],
   "source": [
    "X_train.shape, X_test.shape, y_train.shape, y_test.shape"
   ]
  },
  {
   "cell_type": "markdown",
   "id": "8b03bc3d-f089-48ee-a58d-77775709ada3",
   "metadata": {},
   "source": [
    "### Training the model and checking accuracy"
   ]
  },
  {
   "cell_type": "code",
   "execution_count": 11,
   "id": "ab25a1d6-81a2-4b31-87e0-14f9567c4f6e",
   "metadata": {},
   "outputs": [
    {
     "name": "stdout",
     "output_type": "stream",
     "text": [
      "Training score = 0.9943820224719101\n",
      "Test score = 0.9730337078651685\n"
     ]
    }
   ],
   "source": [
    "model = MultinomialNB()\n",
    "model.fit(X_train, y_train)\n",
    "\n",
    "print(f'Training score = {model.score(X_train, y_train)}')\n",
    "print(f'Test score = {model.score(X_test, y_test)}')"
   ]
  },
  {
   "cell_type": "markdown",
   "id": "d71a883a-dec6-49c7-b2ae-32b9810e9fa6",
   "metadata": {},
   "source": [
    "## With stopwords"
   ]
  },
  {
   "cell_type": "code",
   "execution_count": 12,
   "id": "3e024cdc-cdd1-4ccb-8e72-255e061429a0",
   "metadata": {},
   "outputs": [
    {
     "name": "stdout",
     "output_type": "stream",
     "text": [
      "(1780, 26469) (445, 26469) (1780,) (445,)\n",
      "Training score = 0.9960674157303371\n",
      "Test score = 0.9730337078651685\n"
     ]
    }
   ],
   "source": [
    "vectorizer = CountVectorizer(stop_words='english')\n",
    "X_train = vectorizer.fit_transform(Input_train)\n",
    "X_test = vectorizer.transform(Input_test)\n",
    "\n",
    "print(X_train.shape, X_test.shape, y_train.shape, y_test.shape)\n",
    "\n",
    "model = MultinomialNB()\n",
    "model.fit(X_train, y_train)\n",
    "\n",
    "print(f'Training score = {model.score(X_train, y_train)}')\n",
    "print(f'Test score = {model.score(X_test, y_test)}')"
   ]
  },
  {
   "cell_type": "markdown",
   "id": "0690f27f-d71e-4178-a684-5dcd4bd2b428",
   "metadata": {},
   "source": [
    "## With Lemmatization"
   ]
  },
  {
   "cell_type": "code",
   "execution_count": 13,
   "id": "b5752060-868f-414a-96ad-661c2de60424",
   "metadata": {},
   "outputs": [],
   "source": [
    "def get_wordnet_pos(treebank_tag):\n",
    "  if treebank_tag.startswith('J'):\n",
    "    return wordnet.ADJ\n",
    "  elif treebank_tag.startswith('V'):\n",
    "    return wordnet.VERB\n",
    "  elif treebank_tag.startswith('N'):\n",
    "    return wordnet.NOUN\n",
    "  elif treebank_tag.startswith('R'):\n",
    "    return wordnet.ADV\n",
    "  else:\n",
    "    return wordnet.NOUN"
   ]
  },
  {
   "cell_type": "code",
   "execution_count": 14,
   "id": "19e8eae4-8f9d-41d0-9e5e-e543c6c6cc4e",
   "metadata": {},
   "outputs": [],
   "source": [
    "class LemmaTokenizer:\n",
    "    def __init__(self):\n",
    "        self.wnl = WordNetLemmatizer()\n",
    "    def __call__(self, doc):\n",
    "        tokens = word_tokenize(doc)\n",
    "        words_and_tags = nltk.pos_tag(tokens)\n",
    "        return [self.wnl.lemmatize(word, pos=get_wordnet_pos(tag)) for word, tag in words_and_tags]"
   ]
  },
  {
   "cell_type": "code",
   "execution_count": 15,
   "id": "d2ddc8b5-2e0f-4610-87d1-7bd02383b3c2",
   "metadata": {},
   "outputs": [
    {
     "name": "stderr",
     "output_type": "stream",
     "text": [
      "C:\\Users\\Nirajan\\Desktop\\Artificial Intelligence\\NLP_Udemy\\env\\lib\\site-packages\\sklearn\\feature_extraction\\text.py:525: UserWarning: The parameter 'token_pattern' will not be used since 'tokenizer' is not None'\n",
      "  warnings.warn(\n"
     ]
    },
    {
     "name": "stdout",
     "output_type": "stream",
     "text": [
      "(1780, 26438) (445, 26438) (1780,) (445,)\n",
      "Training score = 0.9932584269662922\n",
      "Test score = 0.9730337078651685\n"
     ]
    }
   ],
   "source": [
    "vectorizer = CountVectorizer(tokenizer=LemmaTokenizer())\n",
    "X_train = vectorizer.fit_transform(Input_train)\n",
    "X_test = vectorizer.transform(Input_test)\n",
    "\n",
    "print(X_train.shape, X_test.shape, y_train.shape, y_test.shape)\n",
    "\n",
    "model = MultinomialNB()\n",
    "model.fit(X_train, y_train)\n",
    "\n",
    "print(f'Training score = {model.score(X_train, y_train)}')\n",
    "print(f'Test score = {model.score(X_test, y_test)}')"
   ]
  },
  {
   "cell_type": "markdown",
   "id": "9420d5d8-beaa-4dbc-b993-b0d8c326551b",
   "metadata": {},
   "source": [
    "## With Stemming"
   ]
  },
  {
   "cell_type": "code",
   "execution_count": 16,
   "id": "0cc23ef0-efb5-424b-bac2-7fbbe4059495",
   "metadata": {},
   "outputs": [],
   "source": [
    "class StemTokenizer:\n",
    "    def __init__(self):\n",
    "        self.porter = PorterStemmer()\n",
    "    def __call__(self, doc):\n",
    "        token = word_tokenize(doc)\n",
    "        return [self.porter.stem(word) for word in token]"
   ]
  },
  {
   "cell_type": "code",
   "execution_count": 17,
   "id": "10cf4120-dbd3-4b7e-95f4-e36ba4e30eac",
   "metadata": {},
   "outputs": [
    {
     "name": "stderr",
     "output_type": "stream",
     "text": [
      "C:\\Users\\Nirajan\\Desktop\\Artificial Intelligence\\NLP_Udemy\\env\\lib\\site-packages\\sklearn\\feature_extraction\\text.py:525: UserWarning: The parameter 'token_pattern' will not be used since 'tokenizer' is not None'\n",
      "  warnings.warn(\n"
     ]
    },
    {
     "name": "stdout",
     "output_type": "stream",
     "text": [
      "(1780, 23209) (445, 23209) (1780,) (445,)\n",
      "Training score = 0.9921348314606742\n",
      "Test score = 0.9730337078651685\n"
     ]
    }
   ],
   "source": [
    "vectorizer = CountVectorizer(tokenizer=StemTokenizer())\n",
    "X_train = vectorizer.fit_transform(Input_train)\n",
    "X_test = vectorizer.transform(Input_test)\n",
    "\n",
    "print(X_train.shape, X_test.shape, y_train.shape, y_test.shape)\n",
    "\n",
    "model = MultinomialNB()\n",
    "model.fit(X_train, y_train)\n",
    "\n",
    "print(f'Training score = {model.score(X_train, y_train)}')\n",
    "print(f'Test score = {model.score(X_test, y_test)}')"
   ]
  },
  {
   "cell_type": "markdown",
   "id": "557527c9-a716-4de8-8bc5-17877a57cf23",
   "metadata": {},
   "source": [
    "## Simple Tokenizer"
   ]
  },
  {
   "cell_type": "code",
   "execution_count": 18,
   "id": "437c6465-39b9-4d03-870b-a22c14e4f131",
   "metadata": {},
   "outputs": [],
   "source": [
    "def simple_tokenizer(s):\n",
    "    return s.split()"
   ]
  },
  {
   "cell_type": "code",
   "execution_count": 19,
   "id": "66b5c7eb-f2b1-4d0b-95f8-5fb3e9228d9b",
   "metadata": {},
   "outputs": [
    {
     "name": "stderr",
     "output_type": "stream",
     "text": [
      "C:\\Users\\Nirajan\\Desktop\\Artificial Intelligence\\NLP_Udemy\\env\\lib\\site-packages\\sklearn\\feature_extraction\\text.py:525: UserWarning: The parameter 'token_pattern' will not be used since 'tokenizer' is not None'\n",
      "  warnings.warn(\n"
     ]
    },
    {
     "name": "stdout",
     "output_type": "stream",
     "text": [
      "(1780, 53531) (445, 53531) (1780,) (445,)\n",
      "Training score = 0.9977528089887641\n",
      "Test score = 0.9595505617977528\n"
     ]
    }
   ],
   "source": [
    "vectorizer = CountVectorizer(tokenizer=simple_tokenizer)\n",
    "X_train = vectorizer.fit_transform(Input_train)\n",
    "X_test = vectorizer.transform(Input_test)\n",
    "\n",
    "print(X_train.shape, X_test.shape, y_train.shape, y_test.shape)\n",
    "\n",
    "model = MultinomialNB()\n",
    "model.fit(X_train, y_train)\n",
    "\n",
    "print(f'Training score = {model.score(X_train, y_train)}')\n",
    "print(f'Test score = {model.score(X_test, y_test)}')"
   ]
  },
  {
   "cell_type": "markdown",
   "id": "5d5e3693-1c3a-4a87-8080-0ef72e60e04c",
   "metadata": {},
   "source": [
    "## Conclusion"
   ]
  },
  {
   "cell_type": "markdown",
   "id": "a823f7ae-65c3-4f49-bc42-218ee3a7d24b",
   "metadata": {},
   "source": [
    "Notice the size of vector in stopwords, lemmatization and stemming is smaller compared to simple tokenier."
   ]
  }
 ],
 "metadata": {
  "kernelspec": {
   "display_name": "Python 3 (ipykernel)",
   "language": "python",
   "name": "python3"
  },
  "language_info": {
   "codemirror_mode": {
    "name": "ipython",
    "version": 3
   },
   "file_extension": ".py",
   "mimetype": "text/x-python",
   "name": "python",
   "nbconvert_exporter": "python",
   "pygments_lexer": "ipython3",
   "version": "3.10.5"
  }
 },
 "nbformat": 4,
 "nbformat_minor": 5
}
