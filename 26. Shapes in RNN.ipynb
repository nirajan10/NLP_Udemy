{
 "cells": [
  {
   "cell_type": "markdown",
   "id": "c5117afd-f423-486b-81ed-d497cac97c34",
   "metadata": {},
   "source": [
    "### Importing dependencies"
   ]
  },
  {
   "cell_type": "code",
   "execution_count": 1,
   "id": "46f25610-3166-49b6-be19-c6d926d57ee7",
   "metadata": {},
   "outputs": [
    {
     "name": "stdout",
     "output_type": "stream",
     "text": [
      "WARNING:tensorflow:From C:\\Users\\Nirajan\\Desktop\\Artificial Intelligence\\NLP_Udemy\\env\\lib\\site-packages\\keras\\src\\losses.py:2976: The name tf.losses.sparse_softmax_cross_entropy is deprecated. Please use tf.compat.v1.losses.sparse_softmax_cross_entropy instead.\n",
      "\n"
     ]
    }
   ],
   "source": [
    "import numpy as np\n",
    "import pandas as pd\n",
    "import matplotlib.pyplot as plt\n",
    "\n",
    "from tensorflow.keras.layers import Input, Dense, Flatten, SimpleRNN\n",
    "from tensorflow.keras.models import Model\n",
    "from tensorflow.keras.optimizers import SGD, Adam"
   ]
  },
  {
   "cell_type": "markdown",
   "id": "faf58e92-1543-4afb-8bfe-8f5bf570ee6f",
   "metadata": {},
   "source": [
    "**Things you should automatically know and memorize:**\n",
    "\n",
    "**N** = Number of samples<br>\n",
    "**T** = Sequence of length<br>\n",
    "**D** = Number of input features<br>\n",
    "**M** = Number of hidden units<br>\n",
    "**K** = Number of output units"
   ]
  },
  {
   "cell_type": "markdown",
   "id": "f6172d41-92f2-4460-aaf4-3d1e7b44f66f",
   "metadata": {},
   "source": [
    "### Make some data"
   ]
  },
  {
   "cell_type": "code",
   "execution_count": 2,
   "id": "1bd4db83-1e80-4511-a420-290e8f224387",
   "metadata": {},
   "outputs": [],
   "source": [
    "N = 1\n",
    "T = 10\n",
    "D = 3\n",
    "K = 2\n",
    "X = np.random.randn(N, T, D)"
   ]
  },
  {
   "cell_type": "code",
   "execution_count": 3,
   "id": "f4db694b-286c-43d9-a682-91b32743c3bd",
   "metadata": {},
   "outputs": [
    {
     "data": {
      "text/plain": [
       "array([[[-1.43623521,  0.47876681, -0.84119578],\n",
       "        [ 0.444773  ,  0.66736841,  0.55960827],\n",
       "        [-0.8710904 , -1.25502943, -1.89549606],\n",
       "        [ 0.76475397,  0.18554303,  1.6659261 ],\n",
       "        [ 0.48443908,  0.44171948, -0.31515384],\n",
       "        [ 0.46547723,  1.24103132, -1.57995658],\n",
       "        [ 0.84239627, -0.75920677, -0.44038738],\n",
       "        [-1.30888582, -0.31479177,  0.71211389],\n",
       "        [ 0.05097859, -0.55301796,  0.89242714],\n",
       "        [-0.47924422, -0.07483556, -1.75579194]]])"
      ]
     },
     "execution_count": 3,
     "metadata": {},
     "output_type": "execute_result"
    }
   ],
   "source": [
    "X"
   ]
  },
  {
   "cell_type": "markdown",
   "id": "a8877ddf-b546-4502-b2d7-21f77d5b9eb2",
   "metadata": {},
   "source": [
    "### Make RNN"
   ]
  },
  {
   "cell_type": "code",
   "execution_count": 4,
   "id": "ac098011-024d-40b4-b438-3890f29b05bb",
   "metadata": {},
   "outputs": [
    {
     "name": "stdout",
     "output_type": "stream",
     "text": [
      "WARNING:tensorflow:From C:\\Users\\Nirajan\\Desktop\\Artificial Intelligence\\NLP_Udemy\\env\\lib\\site-packages\\keras\\src\\backend.py:1398: The name tf.executing_eagerly_outside_functions is deprecated. Please use tf.compat.v1.executing_eagerly_outside_functions instead.\n",
      "\n"
     ]
    }
   ],
   "source": [
    "M = 5\n",
    "i = Input(shape = (T,D))\n",
    "x = SimpleRNN(M)(i)\n",
    "x = Dense(K)(x)\n",
    "\n",
    "model = Model(i, x)"
   ]
  },
  {
   "cell_type": "code",
   "execution_count": 5,
   "id": "c0a29ea5-f648-419a-9b2e-1a285d9b8b06",
   "metadata": {},
   "outputs": [
    {
     "name": "stdout",
     "output_type": "stream",
     "text": [
      "1/1 [==============================] - 0s 193ms/step\n"
     ]
    }
   ],
   "source": [
    "Yhat = model.predict(X)"
   ]
  },
  {
   "cell_type": "code",
   "execution_count": 6,
   "id": "b8adf01b-89f0-40a3-a3e0-f9cd2c2481a6",
   "metadata": {},
   "outputs": [
    {
     "name": "stdout",
     "output_type": "stream",
     "text": [
      "[[-1.2232696  1.0081006]]\n"
     ]
    }
   ],
   "source": [
    "print(Yhat)"
   ]
  },
  {
   "cell_type": "markdown",
   "id": "f548c16c-869e-4ed6-8335-5bb2120b092e",
   "metadata": {},
   "source": [
    "Output size is (1, 2) i.e. (N, K)."
   ]
  },
  {
   "cell_type": "code",
   "execution_count": 7,
   "id": "89a8b022-3e8e-4858-946e-6b13acbb3307",
   "metadata": {},
   "outputs": [
    {
     "name": "stdout",
     "output_type": "stream",
     "text": [
      "Model: \"model\"\n",
      "_________________________________________________________________\n",
      " Layer (type)                Output Shape              Param #   \n",
      "=================================================================\n",
      " input_1 (InputLayer)        [(None, 10, 3)]           0         \n",
      "                                                                 \n",
      " simple_rnn (SimpleRNN)      (None, 5)                 45        \n",
      "                                                                 \n",
      " dense (Dense)               (None, 2)                 12        \n",
      "                                                                 \n",
      "=================================================================\n",
      "Total params: 57 (228.00 Byte)\n",
      "Trainable params: 57 (228.00 Byte)\n",
      "Non-trainable params: 0 (0.00 Byte)\n",
      "_________________________________________________________________\n"
     ]
    }
   ],
   "source": [
    "model.summary()"
   ]
  },
  {
   "cell_type": "code",
   "execution_count": 8,
   "id": "481c36da-d5f9-4780-876c-9f51c1447825",
   "metadata": {},
   "outputs": [
    {
     "data": {
      "text/plain": [
       "[array([[ 0.13595778,  0.46882063,  0.39732057, -0.42152104,  0.84948987],\n",
       "        [ 0.42945594,  0.01535523, -0.2985717 ,  0.41874665, -0.03360796],\n",
       "        [ 0.61703366, -0.80372256,  0.5747407 ,  0.5906499 , -0.3564192 ]],\n",
       "       dtype=float32),\n",
       " array([[ 0.21126842,  0.40024236,  0.78311306,  0.3360117 , -0.26268223],\n",
       "        [-0.02324926, -0.57324743,  0.5938863 , -0.32787365,  0.45896092],\n",
       "        [-0.6799957 ,  0.5610718 ,  0.1010887 , -0.13071303,  0.44215316],\n",
       "        [ 0.59040684,  0.24186799, -0.15305823,  0.25316545,  0.71091497],\n",
       "        [-0.37927657, -0.371338  , -0.01968719,  0.8357131 ,  0.13947557]],\n",
       "       dtype=float32),\n",
       " array([0., 0., 0., 0., 0.], dtype=float32)]"
      ]
     },
     "execution_count": 8,
     "metadata": {},
     "output_type": "execute_result"
    }
   ],
   "source": [
    "model.layers[1].get_weights()"
   ]
  },
  {
   "cell_type": "code",
   "execution_count": 9,
   "id": "94d2edb7-a6bd-4200-a2dc-1bd2217ccf24",
   "metadata": {},
   "outputs": [
    {
     "data": {
      "text/plain": [
       "((3, 5), (5, 5), (5,))"
      ]
     },
     "execution_count": 9,
     "metadata": {},
     "output_type": "execute_result"
    }
   ],
   "source": [
    "# Check their shapes\n",
    "# First output is input > hidden\n",
    "# Second output is hidden > hidden\n",
    "# Third output is bias term (vector of length M)\n",
    "a, b, c = model.layers[1].get_weights()\n",
    "a.shape, b.shape, c.shape"
   ]
  },
  {
   "cell_type": "markdown",
   "id": "623498a0-b8aa-4973-b24f-282c4e250525",
   "metadata": {},
   "source": [
    "(D,M), (M,M), (M,)"
   ]
  },
  {
   "cell_type": "markdown",
   "id": "cf528fb7-a50b-4f02-8a70-ba51cb709800",
   "metadata": {},
   "source": [
    "### Computing manually"
   ]
  },
  {
   "cell_type": "code",
   "execution_count": 10,
   "id": "d7707f28-2773-4aae-99fe-ab09c1c5b70c",
   "metadata": {},
   "outputs": [],
   "source": [
    "Wx, Wh, bh = model.layers[1].get_weights()\n",
    "Wo, bo = model.layers[2].get_weights()"
   ]
  },
  {
   "cell_type": "code",
   "execution_count": 11,
   "id": "400fa5a2-9cc5-41f4-b363-e7472847f900",
   "metadata": {},
   "outputs": [
    {
     "name": "stdout",
     "output_type": "stream",
     "text": [
      "[-1.2232696   1.00810052]\n"
     ]
    }
   ],
   "source": [
    "h_last = np.zeros(M) # initial hidden state\n",
    "x = X[0] # the one and only sample\n",
    "Yhat = [] # where we store the output\n",
    "\n",
    "for t in range(T):\n",
    "    h = np.tanh(x[t].dot(Wx) + h_last.dot(Wh) + bh)\n",
    "    y = h.dot(Wo) + bo # We only care about his value on the last iteration\n",
    "    Yhat.append(y)\n",
    "\n",
    "    # imoportant: assign h to h_last\n",
    "    h_last = h\n",
    "\n",
    "# Print the final output\n",
    "print(Yhat[-1])"
   ]
  },
  {
   "cell_type": "markdown",
   "id": "cf931935-ed7b-434f-969d-a881b2e04e96",
   "metadata": {},
   "source": [
    "### Bonus exercise: Calculate the output for multiple samples at once (N>1)"
   ]
  },
  {
   "cell_type": "code",
   "execution_count": 12,
   "id": "497e38d3-7edd-4796-93cf-4bf117e4e472",
   "metadata": {},
   "outputs": [],
   "source": [
    "N = 3\n",
    "T = 10\n",
    "D = 4\n",
    "K = 2\n",
    "X = np.random.randn(N, T, D)"
   ]
  },
  {
   "cell_type": "markdown",
   "id": "869e2176-5954-472d-b900-997922b17cf6",
   "metadata": {},
   "source": [
    "**Using API**"
   ]
  },
  {
   "cell_type": "code",
   "execution_count": 13,
   "id": "bab5b5c6-51a3-48e5-8f5d-3583517820db",
   "metadata": {},
   "outputs": [],
   "source": [
    "M = 5\n",
    "i = Input(shape = (T,D))\n",
    "x = SimpleRNN(M)(i)\n",
    "x = Dense(K)(x)\n",
    "\n",
    "model = Model(i, x)"
   ]
  },
  {
   "cell_type": "code",
   "execution_count": 14,
   "id": "70845937-b9e5-4471-8b45-9c60e0d18183",
   "metadata": {},
   "outputs": [
    {
     "name": "stdout",
     "output_type": "stream",
     "text": [
      "1/1 [==============================] - 0s 144ms/step\n"
     ]
    }
   ],
   "source": [
    "Yhat = model.predict(X)"
   ]
  },
  {
   "cell_type": "code",
   "execution_count": 15,
   "id": "fa22c677-99a5-4cc0-aaa3-488ebff9cfcf",
   "metadata": {},
   "outputs": [
    {
     "name": "stdout",
     "output_type": "stream",
     "text": [
      "Model: \"model_1\"\n",
      "_________________________________________________________________\n",
      " Layer (type)                Output Shape              Param #   \n",
      "=================================================================\n",
      " input_2 (InputLayer)        [(None, 10, 4)]           0         \n",
      "                                                                 \n",
      " simple_rnn_1 (SimpleRNN)    (None, 5)                 50        \n",
      "                                                                 \n",
      " dense_1 (Dense)             (None, 2)                 12        \n",
      "                                                                 \n",
      "=================================================================\n",
      "Total params: 62 (248.00 Byte)\n",
      "Trainable params: 62 (248.00 Byte)\n",
      "Non-trainable params: 0 (0.00 Byte)\n",
      "_________________________________________________________________\n"
     ]
    }
   ],
   "source": [
    "model.summary()"
   ]
  },
  {
   "cell_type": "code",
   "execution_count": 16,
   "id": "b5a4afb7-3feb-437f-813f-25676508c64a",
   "metadata": {},
   "outputs": [
    {
     "name": "stdout",
     "output_type": "stream",
     "text": [
      "[[-1.4181659  -1.0003536 ]\n",
      " [ 0.13516168  0.62432885]\n",
      " [-0.02000346 -1.0792183 ]]\n"
     ]
    }
   ],
   "source": [
    "print(Yhat)"
   ]
  },
  {
   "cell_type": "markdown",
   "id": "6a7a07b0-8e63-4751-9c29-424f74f2a825",
   "metadata": {},
   "source": [
    "**Manually**"
   ]
  },
  {
   "cell_type": "code",
   "execution_count": 17,
   "id": "af3acc75-7959-41bd-8671-637685d083e7",
   "metadata": {},
   "outputs": [],
   "source": [
    "Wx, Wh, bh = model.layers[1].get_weights()\n",
    "Wo, bo = model.layers[2].get_weights()"
   ]
  },
  {
   "cell_type": "code",
   "execution_count": 18,
   "id": "d3cef426-c0b2-49b3-b3bb-b2bb1d6013ae",
   "metadata": {},
   "outputs": [
    {
     "name": "stdout",
     "output_type": "stream",
     "text": [
      "[[-1.41816593 -1.00035351]\n",
      " [ 0.13516156  0.62432858]\n",
      " [-0.02000353 -1.07921828]]\n"
     ]
    }
   ],
   "source": [
    "Yhat_all_samples = []\n",
    "\n",
    "for s in range(N):\n",
    "    h_last = np.zeros(M) # initial hidden state for each sample\n",
    "    x = X[s] # get one sample\n",
    "    Yhat = [] # where we store the output for each sample\n",
    "\n",
    "    for t in range(T):\n",
    "        h = np.tanh(x[t].dot(Wx) + h_last.dot(Wh) + bh)\n",
    "        y = h.dot(Wo) + bo \n",
    "        Yhat.append(y)\n",
    "\n",
    "        # imoportant: assign h to h_last\n",
    "        h_last = h\n",
    "\n",
    "    # Append the final output for this sample to Yhat_all_samples\n",
    "    Yhat_all_samples.append(Yhat[-1])\n",
    "\n",
    "# Convert Yhat_all_samples to a numpy array\n",
    "Yhat_all_samples = np.array(Yhat_all_samples)\n",
    "\n",
    "# Print the final outputs for all samples\n",
    "print(Yhat_all_samples)"
   ]
  },
  {
   "cell_type": "code",
   "execution_count": null,
   "id": "ca527bc8-8104-4703-8f2e-e25b5e2e775d",
   "metadata": {},
   "outputs": [],
   "source": []
  }
 ],
 "metadata": {
  "kernelspec": {
   "display_name": "Python 3 (ipykernel)",
   "language": "python",
   "name": "python3"
  },
  "language_info": {
   "codemirror_mode": {
    "name": "ipython",
    "version": 3
   },
   "file_extension": ".py",
   "mimetype": "text/x-python",
   "name": "python",
   "nbconvert_exporter": "python",
   "pygments_lexer": "ipython3",
   "version": "3.10.5"
  }
 },
 "nbformat": 4,
 "nbformat_minor": 5
}
