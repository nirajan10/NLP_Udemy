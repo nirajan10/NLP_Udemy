{
 "cells": [
  {
   "cell_type": "markdown",
   "id": "34cff879-12d2-4854-bec1-d435b658cf82",
   "metadata": {},
   "source": [
    "## Importing libraries"
   ]
  },
  {
   "cell_type": "code",
   "execution_count": 1,
   "id": "8275a7e9-32ff-4096-8b05-3bacf3eafe2c",
   "metadata": {},
   "outputs": [],
   "source": [
    "import nltk\n",
    "from nltk.stem import PorterStemmer\n",
    "from nltk.stem import WordNetLemmatizer"
   ]
  },
  {
   "cell_type": "markdown",
   "id": "90dbe393-1c64-40cc-a4d8-f8868e086b3f",
   "metadata": {},
   "source": [
    "## Stemming (Porter algorithm)"
   ]
  },
  {
   "cell_type": "markdown",
   "id": "3a254260-ecdd-4ad1-b9b8-42b76d26dd21",
   "metadata": {},
   "source": [
    "First making a instance of porterStemmer and trying different words and also sentence.\n",
    "\n",
    "(Note: Porterstemmer only takes 1 word at a time.)"
   ]
  },
  {
   "cell_type": "code",
   "execution_count": 2,
   "id": "7d7f52cd-a247-480d-8979-b605ac26bde8",
   "metadata": {},
   "outputs": [],
   "source": [
    "porter = PorterStemmer()"
   ]
  },
  {
   "cell_type": "code",
   "execution_count": 3,
   "id": "77fa4e9a-94ff-4280-84f6-d6156ef9fdc7",
   "metadata": {},
   "outputs": [
    {
     "data": {
      "text/plain": [
       "'walk'"
      ]
     },
     "execution_count": 3,
     "metadata": {},
     "output_type": "execute_result"
    }
   ],
   "source": [
    "porter.stem('Walking')"
   ]
  },
  {
   "cell_type": "code",
   "execution_count": 4,
   "id": "06c77cd8-35d0-47a0-a98c-bdcce6113b9f",
   "metadata": {},
   "outputs": [
    {
     "data": {
      "text/plain": [
       "'walk'"
      ]
     },
     "execution_count": 4,
     "metadata": {},
     "output_type": "execute_result"
    }
   ],
   "source": [
    "porter.stem('walked')"
   ]
  },
  {
   "cell_type": "code",
   "execution_count": 6,
   "id": "58a557ef-641c-4974-bfce-c6f0f4f71ef0",
   "metadata": {},
   "outputs": [
    {
     "data": {
      "text/plain": [
       "'walk'"
      ]
     },
     "execution_count": 6,
     "metadata": {},
     "output_type": "execute_result"
    }
   ],
   "source": [
    "porter.stem('walks')"
   ]
  },
  {
   "cell_type": "code",
   "execution_count": 7,
   "id": "1a41121c-b8e4-42f6-a69d-d0b1b9fb0f4c",
   "metadata": {},
   "outputs": [
    {
     "data": {
      "text/plain": [
       "'ran'"
      ]
     },
     "execution_count": 7,
     "metadata": {},
     "output_type": "execute_result"
    }
   ],
   "source": [
    "porter.stem('ran')"
   ]
  },
  {
   "cell_type": "code",
   "execution_count": 8,
   "id": "e146249c-2b72-4d8d-ae7e-0ed64385c4f7",
   "metadata": {},
   "outputs": [
    {
     "data": {
      "text/plain": [
       "'run'"
      ]
     },
     "execution_count": 8,
     "metadata": {},
     "output_type": "execute_result"
    }
   ],
   "source": [
    "porter.stem('running')"
   ]
  },
  {
   "cell_type": "code",
   "execution_count": 9,
   "id": "2820c12b-2a7b-4d9f-9e8d-c60fa42075cb",
   "metadata": {},
   "outputs": [
    {
     "data": {
      "text/plain": [
       "'boss'"
      ]
     },
     "execution_count": 9,
     "metadata": {},
     "output_type": "execute_result"
    }
   ],
   "source": [
    "porter.stem('bosses')"
   ]
  },
  {
   "cell_type": "code",
   "execution_count": 10,
   "id": "c1fb768e-4b3b-4e29-a3f9-f29ec1436cc5",
   "metadata": {},
   "outputs": [
    {
     "data": {
      "text/plain": [
       "'replac'"
      ]
     },
     "execution_count": 10,
     "metadata": {},
     "output_type": "execute_result"
    }
   ],
   "source": [
    "porter.stem('replacement')"
   ]
  },
  {
   "cell_type": "code",
   "execution_count": 11,
   "id": "d27363f7-2ee7-4c63-b9fd-b632bfa5a301",
   "metadata": {},
   "outputs": [],
   "source": [
    "sentence = 'Lemmatization is more sophisticated than stemming'.split()"
   ]
  },
  {
   "cell_type": "code",
   "execution_count": 13,
   "id": "60a94277-c69e-4ba5-9b73-84b9a005b87c",
   "metadata": {},
   "outputs": [
    {
     "name": "stdout",
     "output_type": "stream",
     "text": [
      "lemmat is more sophist than stem "
     ]
    }
   ],
   "source": [
    "for token in sentence:\n",
    "    print(porter.stem(token), end=\" \")"
   ]
  },
  {
   "cell_type": "code",
   "execution_count": 14,
   "id": "184f7525-5345-42b9-9a81-472b92276a65",
   "metadata": {},
   "outputs": [
    {
     "data": {
      "text/plain": [
       "'unnecessari'"
      ]
     },
     "execution_count": 14,
     "metadata": {},
     "output_type": "execute_result"
    }
   ],
   "source": [
    "porter.stem('unnecessary')"
   ]
  },
  {
   "cell_type": "code",
   "execution_count": 15,
   "id": "44ec3874-311f-41ad-8f42-1b26cbc35d9f",
   "metadata": {},
   "outputs": [
    {
     "data": {
      "text/plain": [
       "'berri'"
      ]
     },
     "execution_count": 15,
     "metadata": {},
     "output_type": "execute_result"
    }
   ],
   "source": [
    "porter.stem('berry')"
   ]
  },
  {
   "cell_type": "markdown",
   "id": "24937fb1-edc3-4489-bc49-6940309dce2d",
   "metadata": {},
   "source": [
    "## Lemmatization"
   ]
  },
  {
   "cell_type": "markdown",
   "id": "a8af6f67-6103-41e7-8e79-330653ae7fc6",
   "metadata": {},
   "source": [
    "To use lemmatization, we need to download the wordnet from nltk. And import the wordnet from corpus.\n",
    "\n",
    "Rest is same as using Porter algorithm."
   ]
  },
  {
   "cell_type": "code",
   "execution_count": 17,
   "id": "da5168f5-ba0c-4cdd-b127-9f78a625a45f",
   "metadata": {},
   "outputs": [
    {
     "name": "stderr",
     "output_type": "stream",
     "text": [
      "[nltk_data] Downloading package wordnet to\n",
      "[nltk_data]     C:\\Users\\Nirajan\\AppData\\Roaming\\nltk_data...\n",
      "[nltk_data]   Package wordnet is already up-to-date!\n"
     ]
    },
    {
     "data": {
      "text/plain": [
       "True"
      ]
     },
     "execution_count": 17,
     "metadata": {},
     "output_type": "execute_result"
    }
   ],
   "source": [
    "nltk.download('wordnet') #This is only done once "
   ]
  },
  {
   "cell_type": "code",
   "execution_count": 18,
   "id": "f8e4827c-ac7c-4a1d-a7b3-d319ea12a4ae",
   "metadata": {},
   "outputs": [],
   "source": [
    "from nltk.corpus import wordnet"
   ]
  },
  {
   "cell_type": "code",
   "execution_count": 19,
   "id": "8f5a4bce-5c2f-4a77-be2a-600aa15e677f",
   "metadata": {},
   "outputs": [],
   "source": [
    "lemmatizer = WordNetLemmatizer()"
   ]
  },
  {
   "cell_type": "code",
   "execution_count": 22,
   "id": "08a29930-957c-4ba0-a949-d10b0d22afdb",
   "metadata": {},
   "outputs": [
    {
     "data": {
      "text/plain": [
       "'Walking'"
      ]
     },
     "execution_count": 22,
     "metadata": {},
     "output_type": "execute_result"
    }
   ],
   "source": [
    "lemmatizer.lemmatize('Walking')"
   ]
  },
  {
   "cell_type": "code",
   "execution_count": 23,
   "id": "a1cf579e-1fe7-4fe9-ac58-145d80dab388",
   "metadata": {},
   "outputs": [
    {
     "data": {
      "text/plain": [
       "'walk'"
      ]
     },
     "execution_count": 23,
     "metadata": {},
     "output_type": "execute_result"
    }
   ],
   "source": [
    "lemmatizer.lemmatize('walking', pos=wordnet.VERB)"
   ]
  },
  {
   "cell_type": "markdown",
   "id": "8022bc6b-6a19-4d57-a0d2-e89e10687417",
   "metadata": {},
   "source": [
    "Lemmatization depends on POS tagging as we can see from the example. The default POS tagging is noun so for other POS tagging, we need to specify them alongside the word."
   ]
  },
  {
   "cell_type": "code",
   "execution_count": 24,
   "id": "b5f5f4e2-a242-4a43-a0ac-da8b6812d455",
   "metadata": {},
   "outputs": [
    {
     "data": {
      "text/plain": [
       "'going'"
      ]
     },
     "execution_count": 24,
     "metadata": {},
     "output_type": "execute_result"
    }
   ],
   "source": [
    "lemmatizer.lemmatize('going')"
   ]
  },
  {
   "cell_type": "code",
   "execution_count": 25,
   "id": "fc077ef2-cce9-4534-bdd7-9209d4cfedc6",
   "metadata": {},
   "outputs": [
    {
     "data": {
      "text/plain": [
       "'go'"
      ]
     },
     "execution_count": 25,
     "metadata": {},
     "output_type": "execute_result"
    }
   ],
   "source": [
    "lemmatizer.lemmatize('going', pos=wordnet.VERB)"
   ]
  },
  {
   "cell_type": "markdown",
   "id": "4bf72656-4877-4fbf-b4bd-6efdce3e60f7",
   "metadata": {},
   "source": [
    "## Comparing Stemming and Lemmatization"
   ]
  },
  {
   "cell_type": "code",
   "execution_count": 26,
   "id": "cff6de15-5b41-421d-88d6-7cc41c2caf5b",
   "metadata": {},
   "outputs": [
    {
     "data": {
      "text/plain": [
       "'mice'"
      ]
     },
     "execution_count": 26,
     "metadata": {},
     "output_type": "execute_result"
    }
   ],
   "source": [
    "porter.stem('mice')"
   ]
  },
  {
   "cell_type": "code",
   "execution_count": 27,
   "id": "4142526a-440e-4a38-abaf-7474e435d4c1",
   "metadata": {},
   "outputs": [
    {
     "data": {
      "text/plain": [
       "'mouse'"
      ]
     },
     "execution_count": 27,
     "metadata": {},
     "output_type": "execute_result"
    }
   ],
   "source": [
    "lemmatizer.lemmatize('mice')"
   ]
  },
  {
   "cell_type": "code",
   "execution_count": 28,
   "id": "35f7e401-7a6d-490b-94eb-183237aa8d67",
   "metadata": {},
   "outputs": [
    {
     "data": {
      "text/plain": [
       "'wa'"
      ]
     },
     "execution_count": 28,
     "metadata": {},
     "output_type": "execute_result"
    }
   ],
   "source": [
    "porter.stem('was')"
   ]
  },
  {
   "cell_type": "code",
   "execution_count": 29,
   "id": "b10ae800-8a59-4198-87c2-1117e764a3d3",
   "metadata": {},
   "outputs": [
    {
     "data": {
      "text/plain": [
       "'be'"
      ]
     },
     "execution_count": 29,
     "metadata": {},
     "output_type": "execute_result"
    }
   ],
   "source": [
    "lemmatizer.lemmatize('was', pos=wordnet.VERB)"
   ]
  },
  {
   "cell_type": "code",
   "execution_count": 30,
   "id": "80878670-49fa-499b-af41-57c904b49a8a",
   "metadata": {},
   "outputs": [
    {
     "data": {
      "text/plain": [
       "'is'"
      ]
     },
     "execution_count": 30,
     "metadata": {},
     "output_type": "execute_result"
    }
   ],
   "source": [
    "porter.stem('is')"
   ]
  },
  {
   "cell_type": "code",
   "execution_count": 31,
   "id": "e09efdc8-14d8-4296-8c05-18f517792e50",
   "metadata": {},
   "outputs": [
    {
     "data": {
      "text/plain": [
       "'be'"
      ]
     },
     "execution_count": 31,
     "metadata": {},
     "output_type": "execute_result"
    }
   ],
   "source": [
    "lemmatizer.lemmatize('is', pos=wordnet.VERB)"
   ]
  },
  {
   "cell_type": "code",
   "execution_count": 32,
   "id": "bc8c35ad-1e69-4614-9ec4-9cb5f7aefc6b",
   "metadata": {},
   "outputs": [
    {
     "data": {
      "text/plain": [
       "'better'"
      ]
     },
     "execution_count": 32,
     "metadata": {},
     "output_type": "execute_result"
    }
   ],
   "source": [
    "porter.stem('better')"
   ]
  },
  {
   "cell_type": "code",
   "execution_count": 33,
   "id": "6835af6e-ee3b-442c-84a2-b816bdb141d0",
   "metadata": {},
   "outputs": [
    {
     "data": {
      "text/plain": [
       "'good'"
      ]
     },
     "execution_count": 33,
     "metadata": {},
     "output_type": "execute_result"
    }
   ],
   "source": [
    "lemmatizer.lemmatize('better', pos=wordnet.ADJ)"
   ]
  },
  {
   "cell_type": "markdown",
   "id": "66aa2792-cd16-4756-8f28-2386df081664",
   "metadata": {},
   "source": [
    "## Problem with lemmatization (with solution)"
   ]
  },
  {
   "cell_type": "markdown",
   "id": "74c102c3-98a0-45a8-91d8-9acb6581df94",
   "metadata": {},
   "source": [
    "We cannot specify POS tagging for each word invidually. It takes a lots of time and sometime it is impossible. **nltk** has a method to get POS tagging for each word in document but is is not compatible with WordNetLemmatizer so we need to convert it to make compatible with it."
   ]
  },
  {
   "cell_type": "code",
   "execution_count": 41,
   "id": "f432edff-9295-44be-b345-83c4d9d50518",
   "metadata": {},
   "outputs": [],
   "source": [
    "def get_wordnet_pos(treebank_tag):\n",
    "    if treebank_tag.startswith('J'):\n",
    "        return wordnet.ADJ\n",
    "    elif treebank_tag.startswith('V'):\n",
    "        return wordnet.VERB\n",
    "    elif treebank_tag.startswith('N'):\n",
    "        return wordnet.NOUN\n",
    "    elif treebank_tag.startswith('R'):\n",
    "        return wordnet.ADV\n",
    "    else:\n",
    "        return wordnet.NOUN"
   ]
  },
  {
   "cell_type": "code",
   "execution_count": 42,
   "id": "47dbadca-2c86-45f7-be3f-975c09dc4747",
   "metadata": {},
   "outputs": [],
   "source": [
    "sentence = \"Donald Trump has devoted following.\".split()"
   ]
  },
  {
   "cell_type": "code",
   "execution_count": 43,
   "id": "c316818a-1a26-4e86-a1da-616eb8ac038a",
   "metadata": {},
   "outputs": [
    {
     "data": {
      "text/plain": [
       "[('Donald', 'NNP'),\n",
       " ('Trump', 'NNP'),\n",
       " ('has', 'VBZ'),\n",
       " ('devoted', 'VBN'),\n",
       " ('following.', 'NNS')]"
      ]
     },
     "execution_count": 43,
     "metadata": {},
     "output_type": "execute_result"
    }
   ],
   "source": [
    "words_and_tags = nltk.pos_tag(sentence)\n",
    "words_and_tags"
   ]
  },
  {
   "cell_type": "code",
   "execution_count": 44,
   "id": "e2924c38-ec0e-40da-b4f8-d37e35598b95",
   "metadata": {},
   "outputs": [
    {
     "name": "stdout",
     "output_type": "stream",
     "text": [
      "Donald Trump have devote following. "
     ]
    }
   ],
   "source": [
    "for token, tag in words_and_tags:\n",
    "    print(lemmatizer.lemmatize(token, pos=get_wordnet_pos(tag)), end=\" \")"
   ]
  },
  {
   "cell_type": "code",
   "execution_count": 46,
   "id": "9588690d-47b2-450b-bae8-d6230ddef89f",
   "metadata": {},
   "outputs": [],
   "source": [
    "sentence_2 = \"The cat was following the bird as it flew by\".split()"
   ]
  },
  {
   "cell_type": "code",
   "execution_count": 47,
   "id": "d1059ee9-cea0-4f72-93b9-7db6dd2bbb5b",
   "metadata": {},
   "outputs": [
    {
     "data": {
      "text/plain": [
       "[('The', 'DT'),\n",
       " ('cat', 'NN'),\n",
       " ('was', 'VBD'),\n",
       " ('following', 'VBG'),\n",
       " ('the', 'DT'),\n",
       " ('bird', 'NN'),\n",
       " ('as', 'IN'),\n",
       " ('it', 'PRP'),\n",
       " ('flew', 'VBD'),\n",
       " ('by', 'IN')]"
      ]
     },
     "execution_count": 47,
     "metadata": {},
     "output_type": "execute_result"
    }
   ],
   "source": [
    "words_and_tags_2 = nltk.pos_tag(sentence_2)\n",
    "words_and_tags_2"
   ]
  },
  {
   "cell_type": "code",
   "execution_count": 48,
   "id": "93bebf68-525e-4221-bf72-f6ec3573ac50",
   "metadata": {},
   "outputs": [
    {
     "name": "stdout",
     "output_type": "stream",
     "text": [
      "The cat be follow the bird a it fly by "
     ]
    }
   ],
   "source": [
    "for token, tag in words_and_tags_2:\n",
    "    print(lemmatizer.lemmatize(token, pos=get_wordnet_pos(tag)), end=\" \")"
   ]
  },
  {
   "cell_type": "code",
   "execution_count": null,
   "id": "153aae93-dc5a-4614-acb2-0d023dad89da",
   "metadata": {},
   "outputs": [],
   "source": [
    "    "
   ]
  }
 ],
 "metadata": {
  "kernelspec": {
   "display_name": "Python 3 (ipykernel)",
   "language": "python",
   "name": "python3"
  },
  "language_info": {
   "codemirror_mode": {
    "name": "ipython",
    "version": 3
   },
   "file_extension": ".py",
   "mimetype": "text/x-python",
   "name": "python",
   "nbconvert_exporter": "python",
   "pygments_lexer": "ipython3",
   "version": "3.10.5"
  }
 },
 "nbformat": 4,
 "nbformat_minor": 5
}
