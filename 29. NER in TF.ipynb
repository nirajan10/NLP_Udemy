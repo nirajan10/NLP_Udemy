{
 "cells": [
  {
   "cell_type": "code",
   "execution_count": 1,
   "id": "aa5fb50b-78fe-4233-926e-bc201e4ff66e",
   "metadata": {},
   "outputs": [],
   "source": [
    "import pickle"
   ]
  },
  {
   "cell_type": "code",
   "execution_count": 2,
   "id": "d172dbe8-84ca-48a5-9762-38560eef6e92",
   "metadata": {},
   "outputs": [],
   "source": [
    "# conll 2003\n",
    "# !wget -nc https://lazyprogrammer.me/course_files/nlp/ner_train.pkl\n",
    "# !wget -nc https://lazyprogrammer.me/course_files/nlp/ner_test.pkl"
   ]
  },
  {
   "cell_type": "code",
   "execution_count": 3,
   "id": "39e2961f-ecbd-4a5c-a68f-5e78d95202c3",
   "metadata": {},
   "outputs": [],
   "source": [
    "with open('datasets/ner_train.pkl', 'rb') as f:\n",
    "  corpus_train = pickle.load(f)\n",
    "\n",
    "with open('datasets/ner_test.pkl', 'rb') as f:\n",
    "  corpus_test = pickle.load(f)"
   ]
  },
  {
   "cell_type": "code",
   "execution_count": 4,
   "id": "917c3771-f991-45a4-880f-8efaf12ee0c8",
   "metadata": {},
   "outputs": [],
   "source": [
    "train_inputs = []\n",
    "train_targets = []\n",
    "\n",
    "for sentence_tag_pairs in corpus_train:\n",
    "  tokens = []\n",
    "  target = []\n",
    "  for token, tag in sentence_tag_pairs:\n",
    "    tokens.append(token)\n",
    "    target.append(tag)\n",
    "  train_inputs.append(tokens)\n",
    "  train_targets.append(target)"
   ]
  },
  {
   "cell_type": "code",
   "execution_count": 5,
   "id": "dbcb990b-105a-4d35-9da2-e43695966143",
   "metadata": {},
   "outputs": [],
   "source": [
    "test_inputs = []\n",
    "test_targets = []\n",
    "\n",
    "for sentence_tag_pairs in corpus_test:\n",
    "  tokens = []\n",
    "  target = []\n",
    "  for token, tag in sentence_tag_pairs:\n",
    "    tokens.append(token)\n",
    "    target.append(tag)\n",
    "  test_inputs.append(tokens)\n",
    "  test_targets.append(target)"
   ]
  },
  {
   "cell_type": "code",
   "execution_count": 6,
   "id": "bbb40f88-a894-4b82-91ce-098358869805",
   "metadata": {},
   "outputs": [],
   "source": [
    "import numpy as np\n",
    "import pandas as pd\n",
    "import tensorflow as tf\n",
    "import matplotlib.pyplot as plt\n",
    "from sklearn.model_selection import train_test_split\n",
    "\n",
    "from tensorflow.keras.preprocessing.text import Tokenizer\n",
    "from tensorflow.keras.preprocessing.sequence import pad_sequences\n",
    "from tensorflow.keras.layers import Dense, Input, Bidirectional\n",
    "from tensorflow.keras.layers import LSTM, GRU, SimpleRNN, Embedding\n",
    "from tensorflow.keras.models import Model\n",
    "from tensorflow.keras.losses import SparseCategoricalCrossentropy"
   ]
  },
  {
   "cell_type": "code",
   "execution_count": 7,
   "id": "51d7cad1-ea99-424b-a66c-2d39484e3c11",
   "metadata": {},
   "outputs": [],
   "source": [
    "# Convert sentences to sequences\n",
    "\n",
    "MAX_VOCAB_SIZE = None\n",
    "\n",
    "# capitalization might be useful - test it\n",
    "should_lowercase = False\n",
    "word_tokenizer = Tokenizer(\n",
    "    num_words=MAX_VOCAB_SIZE,\n",
    "    lower=should_lowercase,\n",
    "    oov_token='UNK',\n",
    ")\n",
    "# otherwise unknown tokens will be removed and len(input) != len(target)\n",
    "# input words and target words will not be aligned!\n",
    "\n",
    "# it's ok to \"fit\" on the whole corpus - it just means some embeddings\n",
    "# won't be trained\n",
    "# this is because for the test set, any unknown tokens will be removed\n",
    "# which will change the length of the input (***CHECK)\n",
    "\n",
    "word_tokenizer.fit_on_texts(train_inputs)\n",
    "train_inputs_int = word_tokenizer.texts_to_sequences(train_inputs)\n",
    "test_inputs_int = word_tokenizer.texts_to_sequences(test_inputs)"
   ]
  },
  {
   "cell_type": "code",
   "execution_count": 8,
   "id": "351d32a8-b14e-4aba-85f7-9926fdd9da81",
   "metadata": {},
   "outputs": [
    {
     "name": "stdout",
     "output_type": "stream",
     "text": [
      "Found 23299 unique tokens.\n"
     ]
    }
   ],
   "source": [
    "# get word -> integer mapping\n",
    "word2idx = word_tokenizer.word_index\n",
    "V = len(word2idx)\n",
    "print('Found %s unique tokens.' % V)"
   ]
  },
  {
   "cell_type": "code",
   "execution_count": 9,
   "id": "ebe50484-d993-4f1b-9725-071e5f7d6aa8",
   "metadata": {},
   "outputs": [],
   "source": [
    "# https://stackoverflow.com/questions/11264684/flatten-list-of-lists\n",
    "def flatten(list_of_lists):\n",
    "  flattened = [val for sublist in list_of_lists for val in sublist]\n",
    "  return flattened"
   ]
  },
  {
   "cell_type": "code",
   "execution_count": 10,
   "id": "bf5ed358-dec3-4493-8d4e-51f63d939f27",
   "metadata": {},
   "outputs": [
    {
     "data": {
      "text/plain": [
       "{'B-LOC', 'B-MISC', 'B-ORG', 'B-PER', 'I-LOC', 'I-MISC', 'I-ORG', 'I-PER', 'O'}"
      ]
     },
     "execution_count": 10,
     "metadata": {},
     "output_type": "execute_result"
    }
   ],
   "source": [
    "all_train_targets = set(flatten(train_targets))\n",
    "all_train_targets"
   ]
  },
  {
   "cell_type": "code",
   "execution_count": 11,
   "id": "88d273de-7d4b-4717-b2c6-388c6c235ddf",
   "metadata": {},
   "outputs": [
    {
     "data": {
      "text/plain": [
       "{'B-LOC', 'B-MISC', 'B-ORG', 'B-PER', 'I-LOC', 'I-MISC', 'I-ORG', 'I-PER', 'O'}"
      ]
     },
     "execution_count": 11,
     "metadata": {},
     "output_type": "execute_result"
    }
   ],
   "source": [
    "all_test_targets = set(flatten(test_targets))\n",
    "all_test_targets"
   ]
  },
  {
   "cell_type": "code",
   "execution_count": 12,
   "id": "4b8f66e7-be1e-4824-8617-fb4a467415a3",
   "metadata": {},
   "outputs": [
    {
     "data": {
      "text/plain": [
       "True"
      ]
     },
     "execution_count": 12,
     "metadata": {},
     "output_type": "execute_result"
    }
   ],
   "source": [
    "all_train_targets == all_test_targets"
   ]
  },
  {
   "cell_type": "code",
   "execution_count": 13,
   "id": "777b672c-063e-4330-87ae-0cf462c2b0d0",
   "metadata": {},
   "outputs": [],
   "source": [
    "# Convert targets to sequences\n",
    "tag_tokenizer = Tokenizer()\n",
    "tag_tokenizer.fit_on_texts(train_targets)\n",
    "train_targets_int = tag_tokenizer.texts_to_sequences(train_targets)\n",
    "test_targets_int = tag_tokenizer.texts_to_sequences(test_targets)\n",
    "\n",
    "# save for later\n",
    "train_targets_int_unpadded = train_targets_int\n",
    "test_targets_int_unpadded = test_targets_int"
   ]
  },
  {
   "cell_type": "code",
   "execution_count": 14,
   "id": "a6e9dd22-6f9d-4454-b1a0-4934471f3fe3",
   "metadata": {},
   "outputs": [],
   "source": [
    "# before padding, find max document length\n",
    "# because we don't want to truncate any inputs\n",
    "# which would also truncate targets\n",
    "maxlen_train = max(len(sent) for sent in train_inputs)\n",
    "maxlen_test = max(len(sent) for sent in test_inputs)\n",
    "T = max((maxlen_train, maxlen_test))"
   ]
  },
  {
   "cell_type": "code",
   "execution_count": 15,
   "id": "0ef25d65-f239-4e45-bfa7-d6803e04fee5",
   "metadata": {},
   "outputs": [
    {
     "name": "stdout",
     "output_type": "stream",
     "text": [
      "Shape of data train tensor: (12733, 113)\n"
     ]
    }
   ],
   "source": [
    "# pad sequences so that we get a N x T matrix\n",
    "train_inputs_int = pad_sequences(train_inputs_int, maxlen=T)\n",
    "print('Shape of data train tensor:', train_inputs_int.shape)"
   ]
  },
  {
   "cell_type": "code",
   "execution_count": 16,
   "id": "f1169303-83ed-472d-a6fc-3fd62f18abd2",
   "metadata": {},
   "outputs": [
    {
     "name": "stdout",
     "output_type": "stream",
     "text": [
      "Shape of data test tensor: (2970, 113)\n"
     ]
    }
   ],
   "source": [
    "test_inputs_int = pad_sequences(test_inputs_int, maxlen=T)\n",
    "print('Shape of data test tensor:', test_inputs_int.shape)"
   ]
  },
  {
   "cell_type": "code",
   "execution_count": 17,
   "id": "72a12647-c38f-4e66-9eaf-4ba1ba51ce91",
   "metadata": {},
   "outputs": [
    {
     "name": "stdout",
     "output_type": "stream",
     "text": [
      "Shape of train targets tensor: (12733, 113)\n"
     ]
    }
   ],
   "source": [
    "train_targets_int = pad_sequences(train_targets_int, maxlen=T)\n",
    "print('Shape of train targets tensor:', train_targets_int.shape)"
   ]
  },
  {
   "cell_type": "code",
   "execution_count": 18,
   "id": "f466dd32-38d9-4976-b138-64662661b6e5",
   "metadata": {},
   "outputs": [
    {
     "name": "stdout",
     "output_type": "stream",
     "text": [
      "Shape of test targets tensor: (2970, 113)\n"
     ]
    }
   ],
   "source": [
    "test_targets_int = pad_sequences(test_targets_int, maxlen=T)\n",
    "print('Shape of test targets tensor:', test_targets_int.shape)"
   ]
  },
  {
   "cell_type": "code",
   "execution_count": 19,
   "id": "3ab2c801-0712-4e86-bcaf-788f5ac0442a",
   "metadata": {},
   "outputs": [
    {
     "data": {
      "text/plain": [
       "10"
      ]
     },
     "execution_count": 19,
     "metadata": {},
     "output_type": "execute_result"
    }
   ],
   "source": [
    "# number of classes\n",
    "K = len(tag_tokenizer.word_index) + 1\n",
    "K"
   ]
  },
  {
   "cell_type": "code",
   "execution_count": 20,
   "id": "2f2a45ab-2e25-4aa1-8cf2-ea5de0549fea",
   "metadata": {},
   "outputs": [],
   "source": [
    "# Create the model\n",
    "\n",
    "# We get to choose embedding dimensionality\n",
    "D = 32\n",
    "\n",
    "# Note: we actually want to the size of the embedding to (V + 1) x D,\n",
    "# because the first index starts from 1 and not 0.\n",
    "# Thus, if the final index of the embedding matrix is V,\n",
    "# then it actually must have size V + 1.\n",
    "\n",
    "i = Input(shape=(T,))\n",
    "# mask_zero=True way slower on GPU than CPU!\n",
    "x = Embedding(V + 1, D, mask_zero=True)(i)\n",
    "x = Bidirectional(LSTM(32, return_sequences=True))(x)\n",
    "# x = SimpleRNN(32, return_sequences=True)(x)\n",
    "x = Dense(K)(x)\n",
    "\n",
    "model = Model(i, x)"
   ]
  },
  {
   "cell_type": "code",
   "execution_count": 21,
   "id": "03e51e88-36c9-4b21-a3f1-23b95acd7547",
   "metadata": {},
   "outputs": [
    {
     "name": "stdout",
     "output_type": "stream",
     "text": [
      "Training model...\n",
      "Epoch 1/5\n",
      "398/398 [==============================] - 35s 74ms/step - loss: 0.1013 - accuracy: 0.8371 - val_loss: 0.0656 - val_accuracy: 0.8644\n",
      "Epoch 2/5\n",
      "398/398 [==============================] - 26s 65ms/step - loss: 0.0431 - accuracy: 0.8987 - val_loss: 0.0455 - val_accuracy: 0.9089\n",
      "Epoch 3/5\n",
      "398/398 [==============================] - 25s 63ms/step - loss: 0.0251 - accuracy: 0.9448 - val_loss: 0.0347 - val_accuracy: 0.9413\n",
      "Epoch 4/5\n",
      "398/398 [==============================] - 25s 64ms/step - loss: 0.0119 - accuracy: 0.9794 - val_loss: 0.0292 - val_accuracy: 0.9436\n",
      "Epoch 5/5\n",
      "398/398 [==============================] - 26s 64ms/step - loss: 0.0064 - accuracy: 0.9896 - val_loss: 0.0277 - val_accuracy: 0.9476\n"
     ]
    }
   ],
   "source": [
    "# Compile and fit\n",
    "model.compile(\n",
    "  loss=SparseCategoricalCrossentropy(from_logits=True),\n",
    "  optimizer='adam',\n",
    "  metrics=['accuracy']\n",
    ")\n",
    "\n",
    "# 60s per epoch on CPU\n",
    "\n",
    "print('Training model...')\n",
    "r = model.fit(\n",
    "  train_inputs_int,\n",
    "  train_targets_int,\n",
    "  epochs=5,\n",
    "  validation_data=(test_inputs_int, test_targets_int)\n",
    ")"
   ]
  },
  {
   "cell_type": "code",
   "execution_count": 22,
   "id": "456e649b-82d5-4742-93e4-17a482e025fc",
   "metadata": {},
   "outputs": [
    {
     "data": {
      "image/png": "[encoded data removed]",
      "text/plain": [
       "<Figure size 640x480 with 1 Axes>"
      ]
     },
     "metadata": {},
     "output_type": "display_data"
    }
   ],
   "source": [
    "# Plot loss per iteration\n",
    "plt.plot(r.history['loss'], label='train loss')\n",
    "plt.plot(r.history['val_loss'], label='val loss')\n",
    "plt.legend();"
   ]
  },
  {
   "cell_type": "code",
   "execution_count": 23,
   "id": "29ae54cc-ada2-4847-9fec-41c1cadd0c47",
   "metadata": {},
   "outputs": [
    {
     "data": {
      "image/png": "[encoded data removed]",
      "text/plain": [
       "<Figure size 640x480 with 1 Axes>"
      ]
     },
     "metadata": {},
     "output_type": "display_data"
    }
   ],
   "source": [
    "# Plot accuracy per iteration\n",
    "plt.plot(r.history['accuracy'], label='train acc')\n",
    "plt.plot(r.history['val_accuracy'], label='val acc')\n",
    "plt.legend();"
   ]
  },
  {
   "cell_type": "code",
   "execution_count": 24,
   "id": "11951a7e-7ce2-4116-9d53-94a35791ae7b",
   "metadata": {},
   "outputs": [],
   "source": [
    "# True model accuracy - above includes padding\n",
    "\n",
    "# first get length of each sequence\n",
    "train_lengths = []\n",
    "for sentence in train_inputs:\n",
    "  train_lengths.append(len(sentence))\n",
    "\n",
    "test_lengths = []\n",
    "for sentence in test_inputs:\n",
    "  test_lengths.append(len(sentence))"
   ]
  },
  {
   "cell_type": "code",
   "execution_count": 25,
   "id": "8d7296b9-ff7e-4415-9e6b-fc46bdae82c4",
   "metadata": {},
   "outputs": [
    {
     "name": "stdout",
     "output_type": "stream",
     "text": [
      "398/398 [==============================] - 9s 16ms/step\n"
     ]
    }
   ],
   "source": [
    "train_probs = model.predict(train_inputs_int) # N x T x K\n",
    "train_predictions = []\n",
    "for probs, length in zip(train_probs, train_lengths):\n",
    "  # probs is T x K\n",
    "  probs_ = probs[-length:]\n",
    "  preds = np.argmax(probs_, axis=1)\n",
    "  train_predictions.append(preds)\n",
    "\n",
    "# flatten\n",
    "flat_train_predictions = flatten(train_predictions)\n",
    "flat_train_targets = flatten(train_targets_int_unpadded)"
   ]
  },
  {
   "cell_type": "code",
   "execution_count": 26,
   "id": "cdeda59e-e901-4a2d-8449-64a8d8d92b4f",
   "metadata": {},
   "outputs": [
    {
     "name": "stdout",
     "output_type": "stream",
     "text": [
      "93/93 [==============================] - 1s 15ms/step\n"
     ]
    }
   ],
   "source": [
    "test_probs = model.predict(test_inputs_int) # N x T x K\n",
    "test_predictions = []\n",
    "for probs, length in zip(test_probs, test_lengths):\n",
    "  # probs is T x K\n",
    "  probs_ = probs[-length:]\n",
    "  preds = np.argmax(probs_, axis=1)\n",
    "  test_predictions.append(preds)\n",
    "\n",
    "# flatten\n",
    "flat_test_predictions = flatten(test_predictions)\n",
    "flat_test_targets = flatten(test_targets_int_unpadded)"
   ]
  },
  {
   "cell_type": "code",
   "execution_count": 27,
   "id": "edff434d-a5f1-4173-9859-88270a4eead8",
   "metadata": {},
   "outputs": [
    {
     "name": "stdout",
     "output_type": "stream",
     "text": [
      "Train acc: 0.9936227533004612\n",
      "Test acc: 0.947576598382431\n",
      "Train f1: 0.9551973512292808\n",
      "Test f1: 0.7846606545160141\n"
     ]
    }
   ],
   "source": [
    "from sklearn.metrics import accuracy_score, f1_score\n",
    "\n",
    "print(\"Train acc:\", accuracy_score(flat_train_targets, flat_train_predictions))\n",
    "print(\"Test acc:\", accuracy_score(flat_test_targets, flat_test_predictions))\n",
    "\n",
    "print(\"Train f1:\", f1_score(flat_train_targets, flat_train_predictions, average='macro'))\n",
    "print(\"Test f1:\", f1_score(flat_test_targets, flat_test_predictions, average='macro'))"
   ]
  },
  {
   "cell_type": "code",
   "execution_count": 28,
   "id": "3ff9822e-5645-4eb7-ab2e-cd0368ab1143",
   "metadata": {},
   "outputs": [],
   "source": [
    "### Baseline model: map word to tag\n",
    "from collections import Counter\n",
    "\n",
    "# https://stackoverflow.com/questions/1518522/find-the-most-common-element-in-a-list\n",
    "def most_common(lst):\n",
    "    data = Counter(lst)\n",
    "    return data.most_common(1)[0][0]"
   ]
  },
  {
   "cell_type": "code",
   "execution_count": 29,
   "id": "a2ad4d73-b274-4851-ac29-10cf8f3185ff",
   "metadata": {},
   "outputs": [],
   "source": [
    "token2tags = {k: [] for k, v in word2idx.items()}\n",
    "\n",
    "# remove UNK token\n",
    "del token2tags['UNK']\n",
    "\n",
    "for tokens, tags in zip(train_inputs, train_targets):\n",
    "  for token, tag in zip(tokens, tags):\n",
    "    if should_lowercase:\n",
    "      token = token.lower()\n",
    "    if token in token2tags:\n",
    "      token2tags[token].append(tag)\n",
    "\n",
    "for k, v in token2tags.items():\n",
    "  if len(v) == 0:\n",
    "    print(k)\n",
    "\n",
    "token2tag = {k: most_common(v) for k, v in token2tags.items()}"
   ]
  },
  {
   "cell_type": "code",
   "execution_count": 30,
   "id": "05b67cbb-af61-4b1d-949a-c1dd994f6e25",
   "metadata": {},
   "outputs": [],
   "source": [
    "# compute accuracy\n",
    "\n",
    "train_predictions = []\n",
    "for sentence in train_inputs:\n",
    "  predictions = []\n",
    "  for token in sentence:\n",
    "    if should_lowercase:\n",
    "      token = token.lower()\n",
    "    predicted_tag = token2tag[token]\n",
    "    predictions.append(predicted_tag)\n",
    "  train_predictions.append(predictions)\n",
    "flat_train_predictions = flatten(train_predictions)\n",
    "flat_train_targets = flatten(train_targets)"
   ]
  },
  {
   "cell_type": "code",
   "execution_count": 31,
   "id": "c5dfd8a6-3872-477a-99b8-5f2f748a75cd",
   "metadata": {},
   "outputs": [],
   "source": [
    "test_predictions = []\n",
    "for sentence in test_inputs:\n",
    "  predictions = []\n",
    "  for token in sentence:\n",
    "    predicted_tag = token2tag.get(token, 'INCORRECT')\n",
    "    predictions.append(predicted_tag)\n",
    "  test_predictions.append(predictions)\n",
    "flat_test_predictions = flatten(test_predictions)\n",
    "flat_test_targets = flatten(test_targets)"
   ]
  },
  {
   "cell_type": "code",
   "execution_count": 32,
   "id": "9ba6e72a-6ca5-4180-8cb2-42a3cb1bc021",
   "metadata": {},
   "outputs": [
    {
     "name": "stdout",
     "output_type": "stream",
     "text": [
      "Train acc: 0.974769365357086\n",
      "Test acc: 0.8881673455733318\n",
      "Train f1: 0.8549353965547479\n",
      "Test f1: 0.6381158268902334\n"
     ]
    }
   ],
   "source": [
    "print(\"Train acc:\", accuracy_score(flat_train_targets, flat_train_predictions))\n",
    "print(\"Test acc:\", accuracy_score(flat_test_targets, flat_test_predictions))\n",
    "\n",
    "print(\"Train f1:\", f1_score(flat_train_targets, flat_train_predictions, average='macro'))\n",
    "print(\"Test f1:\", f1_score(flat_test_targets, flat_test_predictions, average='macro'))"
   ]
  },
  {
   "cell_type": "code",
   "execution_count": null,
   "id": "aa640cb8-3248-49be-a3fc-9ddd0501df7f",
   "metadata": {},
   "outputs": [],
   "source": []
  }
 ],
 "metadata": {
  "kernelspec": {
   "display_name": "Python 3 (ipykernel)",
   "language": "python",
   "name": "python3"
  },
  "language_info": {
   "codemirror_mode": {
    "name": "ipython",
    "version": 3
   },
   "file_extension": ".py",
   "mimetype": "text/x-python",
   "name": "python",
   "nbconvert_exporter": "python",
   "pygments_lexer": "ipython3",
   "version": "3.10.5"
  }
 },
 "nbformat": 4,
 "nbformat_minor": 5
}
