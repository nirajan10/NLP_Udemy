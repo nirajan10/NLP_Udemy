{
 "cells": [
  {
   "cell_type": "code",
   "execution_count": 1,
   "id": "5dc4e306-8854-4dd4-8378-235ee06e890b",
   "metadata": {},
   "outputs": [],
   "source": [
    "# Slower but always guaranteed to work\n",
    "# !wget -nc https://archive.org/download/google-news-vectors-negative-300.bin_202311/GoogleNews-vectors-negative300.bin.gz\n",
    "\n",
    "# You are better off just downloading this from the source\n",
    "# https://drive.google.com/file/d/0B7XkCwpI5KDYNlNUTTlSS21pQmM/edit?usp=sharing"
   ]
  },
  {
   "cell_type": "code",
   "execution_count": 2,
   "id": "8ebc1b35-0dc9-4da0-b113-84232b08a117",
   "metadata": {},
   "outputs": [],
   "source": [
    "from gensim.models import KeyedVectors"
   ]
  },
  {
   "cell_type": "code",
   "execution_count": 3,
   "id": "8de15246-b584-4df9-8017-7b7735500200",
   "metadata": {},
   "outputs": [],
   "source": [
    "word_vectors = KeyedVectors.load_word2vec_format(\n",
    "    'models/GoogleNews-vectors-negative300.bin',\n",
    "    binary=True\n",
    ")"
   ]
  },
  {
   "cell_type": "code",
   "execution_count": 4,
   "id": "7332791a-87c6-44b3-8489-959925f4c2e4",
   "metadata": {},
   "outputs": [],
   "source": [
    "def find_analogies(w1, w2, w3):\n",
    "    # w1 - w2 = ? - w3\n",
    "    # e.g. king - man = ? - woman\n",
    "    #      ? = +king +woman -man\n",
    "    r = word_vectors.most_similar(positive=[w1,w3], negative=[w2])\n",
    "    print(f'{w1} - {w2} = {r[0][0]} - {w3}')"
   ]
  },
  {
   "cell_type": "code",
   "execution_count": 5,
   "id": "d37bcf79-ba9d-491e-b0bd-c04a7ca4f3e9",
   "metadata": {},
   "outputs": [
    {
     "name": "stdout",
     "output_type": "stream",
     "text": [
      "king - man = queen - woman\n"
     ]
    }
   ],
   "source": [
    "find_analogies('king', 'man', 'woman')"
   ]
  },
  {
   "cell_type": "code",
   "execution_count": 6,
   "id": "9691d59d-ba00-4b0b-8d61-d371ba20b8bb",
   "metadata": {},
   "outputs": [
    {
     "name": "stdout",
     "output_type": "stream",
     "text": [
      "france - paris = england - london\n"
     ]
    }
   ],
   "source": [
    "find_analogies('france', 'paris', 'london')"
   ]
  },
  {
   "cell_type": "code",
   "execution_count": 7,
   "id": "528dccf1-30b7-4eea-9bd1-c0e170cdd6f6",
   "metadata": {},
   "outputs": [
    {
     "name": "stdout",
     "output_type": "stream",
     "text": [
      "france - paris = italy - rome\n"
     ]
    }
   ],
   "source": [
    "find_analogies('france', 'paris', 'rome')"
   ]
  },
  {
   "cell_type": "code",
   "execution_count": 8,
   "id": "8a69c9b8-89a7-4a7f-b9b2-49af10369c01",
   "metadata": {},
   "outputs": [
    {
     "name": "stdout",
     "output_type": "stream",
     "text": [
      "paris - france = lohan - italy\n"
     ]
    }
   ],
   "source": [
    "find_analogies('paris', 'france', 'italy')"
   ]
  },
  {
   "cell_type": "code",
   "execution_count": 9,
   "id": "b821a0fa-b1b4-46ab-a722-eda5ace9f935",
   "metadata": {},
   "outputs": [
    {
     "name": "stdout",
     "output_type": "stream",
     "text": [
      "france - french = england - english\n"
     ]
    }
   ],
   "source": [
    "find_analogies('france', 'french', 'english')"
   ]
  },
  {
   "cell_type": "code",
   "execution_count": 10,
   "id": "10efa2f7-97ad-47f7-8c4b-69abed1687cb",
   "metadata": {},
   "outputs": [
    {
     "name": "stdout",
     "output_type": "stream",
     "text": [
      "japan - japanese = tibet - chinese\n"
     ]
    }
   ],
   "source": [
    "find_analogies('japan', 'japanese', 'chinese')"
   ]
  },
  {
   "cell_type": "code",
   "execution_count": 11,
   "id": "6c1fe1c8-8c2e-407f-99f4-262aacd3cde0",
   "metadata": {},
   "outputs": [
    {
     "name": "stdout",
     "output_type": "stream",
     "text": [
      "japan - japanese = italy - italian\n"
     ]
    }
   ],
   "source": [
    "find_analogies('japan', 'japanese', 'italian')"
   ]
  },
  {
   "cell_type": "code",
   "execution_count": 12,
   "id": "67fd354f-49a7-427a-9b3d-cecc4af4c66b",
   "metadata": {},
   "outputs": [
    {
     "name": "stdout",
     "output_type": "stream",
     "text": [
      "december - november = september - june\n"
     ]
    }
   ],
   "source": [
    "find_analogies('december', 'november', 'june')"
   ]
  },
  {
   "cell_type": "code",
   "execution_count": 13,
   "id": "a6af27ca-f29b-48ba-bc4d-59c99796b8fb",
   "metadata": {},
   "outputs": [
    {
     "name": "stdout",
     "output_type": "stream",
     "text": [
      "miami - florida = dallas - texas\n"
     ]
    }
   ],
   "source": [
    "find_analogies('miami', 'florida', 'texas')"
   ]
  },
  {
   "cell_type": "code",
   "execution_count": 14,
   "id": "b0921859-254b-41c4-a6b2-e9efe42596aa",
   "metadata": {},
   "outputs": [
    {
     "name": "stdout",
     "output_type": "stream",
     "text": [
      "einstein - scientist = jude - painter\n"
     ]
    }
   ],
   "source": [
    "find_analogies('einstein', 'scientist', 'painter')"
   ]
  },
  {
   "cell_type": "code",
   "execution_count": 15,
   "id": "99b00837-0567-4775-82d3-6c9e432933ae",
   "metadata": {},
   "outputs": [
    {
     "name": "stdout",
     "output_type": "stream",
     "text": [
      "man - woman = he - she\n"
     ]
    }
   ],
   "source": [
    "find_analogies('man', 'woman', 'she')"
   ]
  },
  {
   "cell_type": "code",
   "execution_count": 16,
   "id": "99c68789-969b-4d8b-b497-c4de65a02344",
   "metadata": {},
   "outputs": [
    {
     "name": "stdout",
     "output_type": "stream",
     "text": [
      "man - woman = uncle - aunt\n"
     ]
    }
   ],
   "source": [
    "find_analogies('man', 'woman', 'aunt')"
   ]
  },
  {
   "cell_type": "code",
   "execution_count": 17,
   "id": "a2898842-c9bf-40a2-a9df-9695d14c7c07",
   "metadata": {},
   "outputs": [
    {
     "name": "stdout",
     "output_type": "stream",
     "text": [
      "man - woman = brother - sister\n"
     ]
    }
   ],
   "source": [
    "find_analogies('man', 'woman', 'sister')"
   ]
  },
  {
   "cell_type": "code",
   "execution_count": 18,
   "id": "27a45a05-00e5-42c6-aff1-3f4c84d246c0",
   "metadata": {},
   "outputs": [
    {
     "name": "stdout",
     "output_type": "stream",
     "text": [
      "man - woman = son - wife\n"
     ]
    }
   ],
   "source": [
    "find_analogies('man', 'woman', 'wife')"
   ]
  },
  {
   "cell_type": "code",
   "execution_count": 19,
   "id": "da4b5bad-ca4f-40e6-823e-3379c90e721d",
   "metadata": {},
   "outputs": [
    {
     "name": "stdout",
     "output_type": "stream",
     "text": [
      "man - woman = actor - actress\n"
     ]
    }
   ],
   "source": [
    "find_analogies('man', 'woman', 'actress')"
   ]
  },
  {
   "cell_type": "code",
   "execution_count": 20,
   "id": "f539bcc0-e82e-4e13-b89e-109d44c38c7f",
   "metadata": {},
   "outputs": [
    {
     "name": "stdout",
     "output_type": "stream",
     "text": [
      "man - woman = father - mother\n"
     ]
    }
   ],
   "source": [
    "find_analogies('man', 'woman', 'mother')"
   ]
  },
  {
   "cell_type": "code",
   "execution_count": 21,
   "id": "4bb92e3f-eaa9-4f07-ae17-c0e1d109a761",
   "metadata": {},
   "outputs": [
    {
     "name": "stdout",
     "output_type": "stream",
     "text": [
      "nephew - niece = uncle - aunt\n"
     ]
    }
   ],
   "source": [
    "find_analogies('nephew', 'niece', 'aunt')"
   ]
  },
  {
   "cell_type": "code",
   "execution_count": 22,
   "id": "d7201545-498b-4b07-8937-a7e300a0fb43",
   "metadata": {},
   "outputs": [],
   "source": [
    "def nearest_neighbors(w):\n",
    "    r = word_vectors.most_similar(positive=[w])\n",
    "    print(\"neighbors of: %s\" % w)\n",
    "    for word, score in r:\n",
    "        print(\"\\t%s\" % word)"
   ]
  },
  {
   "cell_type": "code",
   "execution_count": 23,
   "id": "1516fd46-11ae-4f3a-b378-99ad53fd9446",
   "metadata": {},
   "outputs": [
    {
     "name": "stdout",
     "output_type": "stream",
     "text": [
      "neighbors of: king\n",
      "\tkings\n",
      "\tqueen\n",
      "\tmonarch\n",
      "\tcrown_prince\n",
      "\tprince\n",
      "\tsultan\n",
      "\truler\n",
      "\tprinces\n",
      "\tPrince_Paras\n",
      "\tthrone\n"
     ]
    }
   ],
   "source": [
    "nearest_neighbors('king')"
   ]
  },
  {
   "cell_type": "code",
   "execution_count": 24,
   "id": "d5df475d-2855-4121-9178-48fccabf2ed1",
   "metadata": {},
   "outputs": [
    {
     "name": "stdout",
     "output_type": "stream",
     "text": [
      "neighbors of: france\n",
      "\tspain\n",
      "\tfrench\n",
      "\tgermany\n",
      "\teurope\n",
      "\titaly\n",
      "\tengland\n",
      "\teuropean\n",
      "\tbelgium\n",
      "\tusa\n",
      "\tserbia\n"
     ]
    }
   ],
   "source": [
    "nearest_neighbors('france')"
   ]
  },
  {
   "cell_type": "code",
   "execution_count": 25,
   "id": "f1d9948a-f3bd-4301-87a9-98d7325528a1",
   "metadata": {},
   "outputs": [
    {
     "name": "stdout",
     "output_type": "stream",
     "text": [
      "neighbors of: japan\n",
      "\tjapanese\n",
      "\ttokyo\n",
      "\tamerica\n",
      "\teurope\n",
      "\tgermany\n",
      "\tchinese\n",
      "\tindia\n",
      "\thawaii\n",
      "\tusa\n",
      "\tkorea\n"
     ]
    }
   ],
   "source": [
    "nearest_neighbors('japan')"
   ]
  },
  {
   "cell_type": "code",
   "execution_count": 26,
   "id": "968ea9f5-5af9-4211-b368-fafa863c1f26",
   "metadata": {},
   "outputs": [
    {
     "name": "stdout",
     "output_type": "stream",
     "text": [
      "neighbors of: einstein\n",
      "\tnikki\n",
      "\tlmfao\n",
      "\talbert\n",
      "\tarmstrong\n",
      "\tjoan\n",
      "\tbecky\n",
      "\tmcmahon\n",
      "\tconrad\n",
      "\tlori\n",
      "\thaley\n"
     ]
    }
   ],
   "source": [
    "nearest_neighbors('einstein')"
   ]
  },
  {
   "cell_type": "code",
   "execution_count": 27,
   "id": "9d363f3a-7b43-4abf-99b6-e3a3b0b8e19c",
   "metadata": {},
   "outputs": [
    {
     "name": "stdout",
     "output_type": "stream",
     "text": [
      "neighbors of: woman\n",
      "\tman\n",
      "\tgirl\n",
      "\tteenage_girl\n",
      "\tteenager\n",
      "\tlady\n",
      "\tteenaged_girl\n",
      "\tmother\n",
      "\tpolicewoman\n",
      "\tboy\n",
      "\tWoman\n"
     ]
    }
   ],
   "source": [
    "nearest_neighbors('woman')"
   ]
  },
  {
   "cell_type": "code",
   "execution_count": 28,
   "id": "d074bf89-1edd-455d-9f3f-1366221cda11",
   "metadata": {},
   "outputs": [
    {
     "name": "stdout",
     "output_type": "stream",
     "text": [
      "neighbors of: nephew\n",
      "\tson\n",
      "\tuncle\n",
      "\tbrother\n",
      "\tgrandson\n",
      "\tcousin\n",
      "\tfather\n",
      "\tniece\n",
      "\tyounger_brother\n",
      "\tnephews\n",
      "\tstepson\n"
     ]
    }
   ],
   "source": [
    "nearest_neighbors('nephew')"
   ]
  },
  {
   "cell_type": "code",
   "execution_count": 29,
   "id": "598137bf-0e2e-4668-aee6-31aa6bff8cd8",
   "metadata": {},
   "outputs": [
    {
     "name": "stdout",
     "output_type": "stream",
     "text": [
      "neighbors of: february\n",
      "\tjanuary\n",
      "\tapril\n",
      "\tseptember\n",
      "\tdecember\n",
      "\tjuly\n",
      "\toctober\n",
      "\tnovember\n",
      "\tjune\n",
      "\tfeb\n",
      "\tnorway\n"
     ]
    }
   ],
   "source": [
    "nearest_neighbors('february')"
   ]
  },
  {
   "cell_type": "code",
   "execution_count": 30,
   "id": "7fc2a32c-195c-469f-bede-8cce4f1577a6",
   "metadata": {},
   "outputs": [],
   "source": [
    "# Exercise: download pretrained GloVe vectors from\n",
    "# https://nlp.stanford.edu/projects/glove/\n",
    "#\n",
    "# Implement your own find_analogies() and nearest_neighbors()\n",
    "#\n",
    "# Hint: you do NOT have to go hunting around on Stackoverflow\n",
    "#       you do NOT have to copy and paste code from anywhere\n",
    "#       look at the file you downloaded"
   ]
  },
  {
   "cell_type": "code",
   "execution_count": 31,
   "id": "2b129d24-8680-4eb4-938e-1130d0a462cc",
   "metadata": {},
   "outputs": [],
   "source": [
    "import pandas as pd"
   ]
  },
  {
   "cell_type": "code",
   "execution_count": 35,
   "id": "3ae38c35-63cb-4ced-b321-1e71a87bfedf",
   "metadata": {},
   "outputs": [],
   "source": [
    "glo_ve = pd.read_table('models/glove.42B.300d.txt',sep='\\s+', header=None, index_col=0)"
   ]
  },
  {
   "cell_type": "code",
   "execution_count": 36,
   "id": "8b3d36f6-d5f6-48ea-93f4-07fd181f4264",
   "metadata": {},
   "outputs": [
    {
     "data": {
      "text/html": [
       "<div>\n",
       "<style scoped>\n",
       "    .dataframe tbody tr th:only-of-type {\n",
       "        vertical-align: middle;\n",
       "    }\n",
       "\n",
       "    .dataframe tbody tr th {\n",
       "        vertical-align: top;\n",
       "    }\n",
       "\n",
       "    .dataframe thead th {\n",
       "        text-align: right;\n",
       "    }\n",
       "</style>\n",
       "<table border=\"1\" class=\"dataframe\">\n",
       "  <thead>\n",
       "    <tr style=\"text-align: right;\">\n",
       "      <th></th>\n",
       "      <th>1</th>\n",
       "      <th>2</th>\n",
       "      <th>3</th>\n",
       "      <th>4</th>\n",
       "      <th>5</th>\n",
       "      <th>6</th>\n",
       "      <th>7</th>\n",
       "      <th>8</th>\n",
       "      <th>9</th>\n",
       "      <th>10</th>\n",
       "      <th>...</th>\n",
       "      <th>291</th>\n",
       "      <th>292</th>\n",
       "      <th>293</th>\n",
       "      <th>294</th>\n",
       "      <th>295</th>\n",
       "      <th>296</th>\n",
       "      <th>297</th>\n",
       "      <th>298</th>\n",
       "      <th>299</th>\n",
       "      <th>300</th>\n",
       "    </tr>\n",
       "    <tr>\n",
       "      <th>0</th>\n",
       "      <th></th>\n",
       "      <th></th>\n",
       "      <th></th>\n",
       "      <th></th>\n",
       "      <th></th>\n",
       "      <th></th>\n",
       "      <th></th>\n",
       "      <th></th>\n",
       "      <th></th>\n",
       "      <th></th>\n",
       "      <th></th>\n",
       "      <th></th>\n",
       "      <th></th>\n",
       "      <th></th>\n",
       "      <th></th>\n",
       "      <th></th>\n",
       "      <th></th>\n",
       "      <th></th>\n",
       "      <th></th>\n",
       "      <th></th>\n",
       "      <th></th>\n",
       "    </tr>\n",
       "  </thead>\n",
       "  <tbody>\n",
       "    <tr>\n",
       "      <th>,</th>\n",
       "      <td>0.183780</td>\n",
       "      <td>-0.121230</td>\n",
       "      <td>-0.119870</td>\n",
       "      <td>0.015227</td>\n",
       "      <td>-0.191210</td>\n",
       "      <td>-0.066074</td>\n",
       "      <td>-2.98760</td>\n",
       "      <td>0.807950</td>\n",
       "      <td>0.067338</td>\n",
       "      <td>-0.131840</td>\n",
       "      <td>...</td>\n",
       "      <td>0.136150</td>\n",
       "      <td>0.109990</td>\n",
       "      <td>-0.334740</td>\n",
       "      <td>-0.046109</td>\n",
       "      <td>0.107800</td>\n",
       "      <td>-0.035657</td>\n",
       "      <td>-0.012921</td>\n",
       "      <td>-0.039038</td>\n",
       "      <td>0.182740</td>\n",
       "      <td>0.146540</td>\n",
       "    </tr>\n",
       "    <tr>\n",
       "      <th>the</th>\n",
       "      <td>-0.208380</td>\n",
       "      <td>-0.149320</td>\n",
       "      <td>-0.017528</td>\n",
       "      <td>-0.028432</td>\n",
       "      <td>-0.060104</td>\n",
       "      <td>-0.264600</td>\n",
       "      <td>-4.14450</td>\n",
       "      <td>0.629320</td>\n",
       "      <td>0.336720</td>\n",
       "      <td>-0.433950</td>\n",
       "      <td>...</td>\n",
       "      <td>-0.041244</td>\n",
       "      <td>-0.461820</td>\n",
       "      <td>0.027903</td>\n",
       "      <td>0.546570</td>\n",
       "      <td>-0.258940</td>\n",
       "      <td>0.395150</td>\n",
       "      <td>0.261440</td>\n",
       "      <td>-0.540660</td>\n",
       "      <td>0.211990</td>\n",
       "      <td>-0.009436</td>\n",
       "    </tr>\n",
       "    <tr>\n",
       "      <th>.</th>\n",
       "      <td>0.108760</td>\n",
       "      <td>0.002244</td>\n",
       "      <td>0.222130</td>\n",
       "      <td>-0.121020</td>\n",
       "      <td>-0.048959</td>\n",
       "      <td>0.018135</td>\n",
       "      <td>-3.81740</td>\n",
       "      <td>-0.032631</td>\n",
       "      <td>-0.625940</td>\n",
       "      <td>-0.518980</td>\n",
       "      <td>...</td>\n",
       "      <td>0.063131</td>\n",
       "      <td>-0.212300</td>\n",
       "      <td>-0.300880</td>\n",
       "      <td>-0.451610</td>\n",
       "      <td>0.264800</td>\n",
       "      <td>0.075971</td>\n",
       "      <td>-0.406880</td>\n",
       "      <td>-0.296960</td>\n",
       "      <td>0.159390</td>\n",
       "      <td>-0.149020</td>\n",
       "    </tr>\n",
       "    <tr>\n",
       "      <th>and</th>\n",
       "      <td>-0.096110</td>\n",
       "      <td>-0.257880</td>\n",
       "      <td>-0.358600</td>\n",
       "      <td>-0.328870</td>\n",
       "      <td>0.579500</td>\n",
       "      <td>-0.517740</td>\n",
       "      <td>-4.15820</td>\n",
       "      <td>-0.113710</td>\n",
       "      <td>-0.108480</td>\n",
       "      <td>-0.488850</td>\n",
       "      <td>...</td>\n",
       "      <td>0.477810</td>\n",
       "      <td>-0.021213</td>\n",
       "      <td>-0.212360</td>\n",
       "      <td>0.423740</td>\n",
       "      <td>0.140830</td>\n",
       "      <td>0.067498</td>\n",
       "      <td>-0.126750</td>\n",
       "      <td>-0.370300</td>\n",
       "      <td>-0.092774</td>\n",
       "      <td>0.390580</td>\n",
       "    </tr>\n",
       "    <tr>\n",
       "      <th>to</th>\n",
       "      <td>-0.248370</td>\n",
       "      <td>-0.454610</td>\n",
       "      <td>0.039227</td>\n",
       "      <td>-0.284220</td>\n",
       "      <td>-0.031852</td>\n",
       "      <td>0.263550</td>\n",
       "      <td>-4.63230</td>\n",
       "      <td>0.013890</td>\n",
       "      <td>-0.539280</td>\n",
       "      <td>-0.084454</td>\n",
       "      <td>...</td>\n",
       "      <td>0.082736</td>\n",
       "      <td>-0.624690</td>\n",
       "      <td>0.044267</td>\n",
       "      <td>0.606730</td>\n",
       "      <td>-0.124580</td>\n",
       "      <td>-0.154430</td>\n",
       "      <td>-0.163390</td>\n",
       "      <td>0.053097</td>\n",
       "      <td>0.154580</td>\n",
       "      <td>-0.380530</td>\n",
       "    </tr>\n",
       "    <tr>\n",
       "      <th>...</th>\n",
       "      <td>...</td>\n",
       "      <td>...</td>\n",
       "      <td>...</td>\n",
       "      <td>...</td>\n",
       "      <td>...</td>\n",
       "      <td>...</td>\n",
       "      <td>...</td>\n",
       "      <td>...</td>\n",
       "      <td>...</td>\n",
       "      <td>...</td>\n",
       "      <td>...</td>\n",
       "      <td>...</td>\n",
       "      <td>...</td>\n",
       "      <td>...</td>\n",
       "      <td>...</td>\n",
       "      <td>...</td>\n",
       "      <td>...</td>\n",
       "      <td>...</td>\n",
       "      <td>...</td>\n",
       "      <td>...</td>\n",
       "      <td>...</td>\n",
       "    </tr>\n",
       "    <tr>\n",
       "      <th>zuuk</th>\n",
       "      <td>0.608420</td>\n",
       "      <td>0.048046</td>\n",
       "      <td>0.209550</td>\n",
       "      <td>0.248390</td>\n",
       "      <td>-0.068118</td>\n",
       "      <td>0.079349</td>\n",
       "      <td>0.71066</td>\n",
       "      <td>-0.293760</td>\n",
       "      <td>0.172980</td>\n",
       "      <td>0.228020</td>\n",
       "      <td>...</td>\n",
       "      <td>0.240000</td>\n",
       "      <td>-0.351030</td>\n",
       "      <td>0.151880</td>\n",
       "      <td>-0.229650</td>\n",
       "      <td>-0.102250</td>\n",
       "      <td>0.167500</td>\n",
       "      <td>0.113140</td>\n",
       "      <td>0.075930</td>\n",
       "      <td>-0.018494</td>\n",
       "      <td>0.001097</td>\n",
       "    </tr>\n",
       "    <tr>\n",
       "      <th>zycon</th>\n",
       "      <td>-0.004568</td>\n",
       "      <td>-0.043397</td>\n",
       "      <td>-0.103270</td>\n",
       "      <td>0.230870</td>\n",
       "      <td>-0.247030</td>\n",
       "      <td>0.184900</td>\n",
       "      <td>0.92469</td>\n",
       "      <td>0.004070</td>\n",
       "      <td>-0.024026</td>\n",
       "      <td>0.166960</td>\n",
       "      <td>...</td>\n",
       "      <td>-0.231200</td>\n",
       "      <td>0.076072</td>\n",
       "      <td>-0.161420</td>\n",
       "      <td>0.308680</td>\n",
       "      <td>-0.167090</td>\n",
       "      <td>-0.100380</td>\n",
       "      <td>-0.087986</td>\n",
       "      <td>0.019121</td>\n",
       "      <td>0.305140</td>\n",
       "      <td>0.217410</td>\n",
       "    </tr>\n",
       "    <tr>\n",
       "      <th>zytron</th>\n",
       "      <td>0.273600</td>\n",
       "      <td>0.041336</td>\n",
       "      <td>-0.122680</td>\n",
       "      <td>0.146310</td>\n",
       "      <td>-0.285840</td>\n",
       "      <td>0.155210</td>\n",
       "      <td>0.80294</td>\n",
       "      <td>-0.106330</td>\n",
       "      <td>-0.004705</td>\n",
       "      <td>0.509860</td>\n",
       "      <td>...</td>\n",
       "      <td>0.030169</td>\n",
       "      <td>0.153280</td>\n",
       "      <td>-0.112860</td>\n",
       "      <td>0.231080</td>\n",
       "      <td>-0.219830</td>\n",
       "      <td>0.113910</td>\n",
       "      <td>0.161930</td>\n",
       "      <td>-0.331820</td>\n",
       "      <td>0.037883</td>\n",
       "      <td>0.056439</td>\n",
       "    </tr>\n",
       "    <tr>\n",
       "      <th>þa</th>\n",
       "      <td>-0.052387</td>\n",
       "      <td>0.321420</td>\n",
       "      <td>0.232420</td>\n",
       "      <td>0.401000</td>\n",
       "      <td>-0.418730</td>\n",
       "      <td>0.245340</td>\n",
       "      <td>0.64645</td>\n",
       "      <td>-0.584110</td>\n",
       "      <td>-0.091796</td>\n",
       "      <td>0.511560</td>\n",
       "      <td>...</td>\n",
       "      <td>0.264470</td>\n",
       "      <td>-0.002212</td>\n",
       "      <td>-0.017225</td>\n",
       "      <td>-0.035388</td>\n",
       "      <td>-0.029108</td>\n",
       "      <td>0.037574</td>\n",
       "      <td>0.077145</td>\n",
       "      <td>-0.081346</td>\n",
       "      <td>0.048100</td>\n",
       "      <td>-0.087230</td>\n",
       "    </tr>\n",
       "    <tr>\n",
       "      <th>þi</th>\n",
       "      <td>-0.119690</td>\n",
       "      <td>0.160200</td>\n",
       "      <td>-0.249170</td>\n",
       "      <td>0.128780</td>\n",
       "      <td>-0.198740</td>\n",
       "      <td>0.446840</td>\n",
       "      <td>0.43726</td>\n",
       "      <td>-0.194300</td>\n",
       "      <td>0.013091</td>\n",
       "      <td>0.043389</td>\n",
       "      <td>...</td>\n",
       "      <td>-0.306970</td>\n",
       "      <td>-0.277710</td>\n",
       "      <td>0.346540</td>\n",
       "      <td>0.232450</td>\n",
       "      <td>0.012919</td>\n",
       "      <td>0.124750</td>\n",
       "      <td>-0.081428</td>\n",
       "      <td>-0.090892</td>\n",
       "      <td>0.278270</td>\n",
       "      <td>0.113740</td>\n",
       "    </tr>\n",
       "  </tbody>\n",
       "</table>\n",
       "<p>1783087 rows × 300 columns</p>\n",
       "</div>"
      ],
      "text/plain": [
       "             1         2         3         4         5         6        7    \\\n",
       "0                                                                             \n",
       ",       0.183780 -0.121230 -0.119870  0.015227 -0.191210 -0.066074 -2.98760   \n",
       "the    -0.208380 -0.149320 -0.017528 -0.028432 -0.060104 -0.264600 -4.14450   \n",
       ".       0.108760  0.002244  0.222130 -0.121020 -0.048959  0.018135 -3.81740   \n",
       "and    -0.096110 -0.257880 -0.358600 -0.328870  0.579500 -0.517740 -4.15820   \n",
       "to     -0.248370 -0.454610  0.039227 -0.284220 -0.031852  0.263550 -4.63230   \n",
       "...          ...       ...       ...       ...       ...       ...      ...   \n",
       "zuuk    0.608420  0.048046  0.209550  0.248390 -0.068118  0.079349  0.71066   \n",
       "zycon  -0.004568 -0.043397 -0.103270  0.230870 -0.247030  0.184900  0.92469   \n",
       "zytron  0.273600  0.041336 -0.122680  0.146310 -0.285840  0.155210  0.80294   \n",
       "þa     -0.052387  0.321420  0.232420  0.401000 -0.418730  0.245340  0.64645   \n",
       "þi     -0.119690  0.160200 -0.249170  0.128780 -0.198740  0.446840  0.43726   \n",
       "\n",
       "             8         9         10   ...       291       292       293  \\\n",
       "0                                     ...                                 \n",
       ",       0.807950  0.067338 -0.131840  ...  0.136150  0.109990 -0.334740   \n",
       "the     0.629320  0.336720 -0.433950  ... -0.041244 -0.461820  0.027903   \n",
       ".      -0.032631 -0.625940 -0.518980  ...  0.063131 -0.212300 -0.300880   \n",
       "and    -0.113710 -0.108480 -0.488850  ...  0.477810 -0.021213 -0.212360   \n",
       "to      0.013890 -0.539280 -0.084454  ...  0.082736 -0.624690  0.044267   \n",
       "...          ...       ...       ...  ...       ...       ...       ...   \n",
       "zuuk   -0.293760  0.172980  0.228020  ...  0.240000 -0.351030  0.151880   \n",
       "zycon   0.004070 -0.024026  0.166960  ... -0.231200  0.076072 -0.161420   \n",
       "zytron -0.106330 -0.004705  0.509860  ...  0.030169  0.153280 -0.112860   \n",
       "þa     -0.584110 -0.091796  0.511560  ...  0.264470 -0.002212 -0.017225   \n",
       "þi     -0.194300  0.013091  0.043389  ... -0.306970 -0.277710  0.346540   \n",
       "\n",
       "             294       295       296       297       298       299       300  \n",
       "0                                                                             \n",
       ",      -0.046109  0.107800 -0.035657 -0.012921 -0.039038  0.182740  0.146540  \n",
       "the     0.546570 -0.258940  0.395150  0.261440 -0.540660  0.211990 -0.009436  \n",
       ".      -0.451610  0.264800  0.075971 -0.406880 -0.296960  0.159390 -0.149020  \n",
       "and     0.423740  0.140830  0.067498 -0.126750 -0.370300 -0.092774  0.390580  \n",
       "to      0.606730 -0.124580 -0.154430 -0.163390  0.053097  0.154580 -0.380530  \n",
       "...          ...       ...       ...       ...       ...       ...       ...  \n",
       "zuuk   -0.229650 -0.102250  0.167500  0.113140  0.075930 -0.018494  0.001097  \n",
       "zycon   0.308680 -0.167090 -0.100380 -0.087986  0.019121  0.305140  0.217410  \n",
       "zytron  0.231080 -0.219830  0.113910  0.161930 -0.331820  0.037883  0.056439  \n",
       "þa     -0.035388 -0.029108  0.037574  0.077145 -0.081346  0.048100 -0.087230  \n",
       "þi      0.232450  0.012919  0.124750 -0.081428 -0.090892  0.278270  0.113740  \n",
       "\n",
       "[1783087 rows x 300 columns]"
      ]
     },
     "execution_count": 36,
     "metadata": {},
     "output_type": "execute_result"
    }
   ],
   "source": [
    "glo_ve"
   ]
  },
  {
   "cell_type": "code",
   "execution_count": null,
   "id": "a543d087-af14-4a4f-80a3-115146c6be6c",
   "metadata": {},
   "outputs": [],
   "source": []
  }
 ],
 "metadata": {
  "kernelspec": {
   "display_name": "Python 3 (ipykernel)",
   "language": "python",
   "name": "python3"
  },
  "language_info": {
   "codemirror_mode": {
    "name": "ipython",
    "version": 3
   },
   "file_extension": ".py",
   "mimetype": "text/x-python",
   "name": "python",
   "nbconvert_exporter": "python",
   "pygments_lexer": "ipython3",
   "version": "3.10.5"
  }
 },
 "nbformat": 4,
 "nbformat_minor": 5
}
