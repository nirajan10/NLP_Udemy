{
 "cells": [
  {
   "cell_type": "markdown",
   "id": "c8a20838-39a9-47e0-bf3c-01625994b882",
   "metadata": {},
   "source": [
    "### Importing libraries"
   ]
  },
  {
   "cell_type": "code",
   "execution_count": 1,
   "id": "b804bca5-370c-47b3-9536-45fdd986d196",
   "metadata": {},
   "outputs": [
    {
     "name": "stdout",
     "output_type": "stream",
     "text": [
      "WARNING:tensorflow:From C:\\Users\\Nirajan\\Desktop\\Artificial Intelligence\\NLP_Udemy\\env\\lib\\site-packages\\keras\\src\\losses.py:2976: The name tf.losses.sparse_softmax_cross_entropy is deprecated. Please use tf.compat.v1.losses.sparse_softmax_cross_entropy instead.\n",
      "\n"
     ]
    }
   ],
   "source": [
    "import numpy as np\n",
    "import tensorflow as tf\n",
    "import matplotlib.pyplot as plt\n",
    "\n",
    "from tensorflow.keras.layers import Dense, Input\n",
    "from tensorflow.keras.models import Model\n",
    "from tensorflow.keras.optimizers import Adam"
   ]
  },
  {
   "cell_type": "markdown",
   "id": "19ff1ca7-700c-4f2e-83fd-cf21bda4f0fc",
   "metadata": {},
   "source": [
    "### Creating Dataset"
   ]
  },
  {
   "cell_type": "code",
   "execution_count": 2,
   "id": "c3d0da21-de39-4fac-b761-3d596d5b239f",
   "metadata": {},
   "outputs": [],
   "source": [
    "N = 100\n",
    "X = np.random.random(N) * 6 - 3\n",
    "y = 0.5 * X - 1 + np.random.randn(N) * 0.5"
   ]
  },
  {
   "cell_type": "code",
   "execution_count": 3,
   "id": "24f5838d-4b7b-4d3c-843f-cbc35c0487d6",
   "metadata": {},
   "outputs": [
    {
     "data": {
      "image/png": "[encoded data removed]",
      "text/plain": [
       "<Figure size 640x480 with 1 Axes>"
      ]
     },
     "metadata": {},
     "output_type": "display_data"
    }
   ],
   "source": [
    "plt.scatter(X, y);"
   ]
  },
  {
   "cell_type": "code",
   "execution_count": 4,
   "id": "6c81d61e-6871-42a9-a709-fbd763206f14",
   "metadata": {},
   "outputs": [
    {
     "data": {
      "text/plain": [
       "(100,)"
      ]
     },
     "execution_count": 4,
     "metadata": {},
     "output_type": "execute_result"
    }
   ],
   "source": [
    "X.shape"
   ]
  },
  {
   "cell_type": "markdown",
   "id": "f316c87c-1120-463e-840e-b066f0e07369",
   "metadata": {},
   "source": [
    "### Building Model"
   ]
  },
  {
   "cell_type": "code",
   "execution_count": 5,
   "id": "d4bc1413-cf20-4939-bfcf-da7839ec82d8",
   "metadata": {},
   "outputs": [
    {
     "name": "stdout",
     "output_type": "stream",
     "text": [
      "WARNING:tensorflow:From C:\\Users\\Nirajan\\Desktop\\Artificial Intelligence\\NLP_Udemy\\env\\lib\\site-packages\\keras\\src\\backend.py:1398: The name tf.executing_eagerly_outside_functions is deprecated. Please use tf.compat.v1.executing_eagerly_outside_functions instead.\n",
      "\n"
     ]
    }
   ],
   "source": [
    "i = Input(shape=(1,))\n",
    "x = Dense(1)(i)\n",
    "\n",
    "model = Model(i, x)"
   ]
  },
  {
   "cell_type": "code",
   "execution_count": 6,
   "id": "adba70c5-bddf-4d41-8362-e4e4f821ef2e",
   "metadata": {},
   "outputs": [
    {
     "name": "stdout",
     "output_type": "stream",
     "text": [
      "Model: \"model\"\n",
      "_________________________________________________________________\n",
      " Layer (type)                Output Shape              Param #   \n",
      "=================================================================\n",
      " input_1 (InputLayer)        [(None, 1)]               0         \n",
      "                                                                 \n",
      " dense (Dense)               (None, 1)                 2         \n",
      "                                                                 \n",
      "=================================================================\n",
      "Total params: 2 (8.00 Byte)\n",
      "Trainable params: 2 (8.00 Byte)\n",
      "Non-trainable params: 0 (0.00 Byte)\n",
      "_________________________________________________________________\n"
     ]
    }
   ],
   "source": [
    "model.summary()"
   ]
  },
  {
   "cell_type": "code",
   "execution_count": 7,
   "id": "a4fb8c7b-d50f-456f-8de1-7f5e8bb7bb89",
   "metadata": {},
   "outputs": [],
   "source": [
    "model.compile(\n",
    "        loss = 'mse',\n",
    "        optimizer = Adam(learning_rate=0.01),\n",
    "        metrics = ['mae']\n",
    "    )"
   ]
  },
  {
   "cell_type": "code",
   "execution_count": 8,
   "id": "80846218-eb3a-4f73-92cc-e7dfbac6041b",
   "metadata": {},
   "outputs": [
    {
     "name": "stdout",
     "output_type": "stream",
     "text": [
      "Epoch 1/200\n",
      "WARNING:tensorflow:From C:\\Users\\Nirajan\\Desktop\\Artificial Intelligence\\NLP_Udemy\\env\\lib\\site-packages\\keras\\src\\utils\\tf_utils.py:492: The name tf.ragged.RaggedTensorValue is deprecated. Please use tf.compat.v1.ragged.RaggedTensorValue instead.\n",
      "\n",
      "WARNING:tensorflow:From C:\\Users\\Nirajan\\Desktop\\Artificial Intelligence\\NLP_Udemy\\env\\lib\\site-packages\\keras\\src\\engine\\base_layer_utils.py:384: The name tf.executing_eagerly_outside_functions is deprecated. Please use tf.compat.v1.executing_eagerly_outside_functions instead.\n",
      "\n",
      "4/4 [==============================] - 0s 3ms/step - loss: 1.1506 - mae: 0.9541\n",
      "Epoch 2/200\n",
      "4/4 [==============================] - 0s 2ms/step - loss: 1.0443 - mae: 0.9069\n",
      "Epoch 3/200\n",
      "4/4 [==============================] - 0s 2ms/step - loss: 0.9576 - mae: 0.8634\n",
      "Epoch 4/200\n",
      "4/4 [==============================] - 0s 3ms/step - loss: 0.8789 - mae: 0.8197\n",
      "Epoch 5/200\n",
      "4/4 [==============================] - 0s 5ms/step - loss: 0.8194 - mae: 0.7844\n",
      "Epoch 6/200\n",
      "4/4 [==============================] - 0s 4ms/step - loss: 0.7614 - mae: 0.7509\n",
      "Epoch 7/200\n",
      "4/4 [==============================] - 0s 4ms/step - loss: 0.7092 - mae: 0.7192\n",
      "Epoch 8/200\n",
      "4/4 [==============================] - 0s 3ms/step - loss: 0.6621 - mae: 0.6912\n",
      "Epoch 9/200\n",
      "4/4 [==============================] - 0s 2ms/step - loss: 0.6177 - mae: 0.6635\n",
      "Epoch 10/200\n",
      "4/4 [==============================] - 0s 2ms/step - loss: 0.5799 - mae: 0.6398\n",
      "Epoch 11/200\n",
      "4/4 [==============================] - 0s 2ms/step - loss: 0.5456 - mae: 0.6180\n",
      "Epoch 12/200\n",
      "4/4 [==============================] - 0s 4ms/step - loss: 0.5124 - mae: 0.5955\n",
      "Epoch 13/200\n",
      "4/4 [==============================] - 0s 3ms/step - loss: 0.4824 - mae: 0.5745\n",
      "Epoch 14/200\n",
      "4/4 [==============================] - 0s 2ms/step - loss: 0.4553 - mae: 0.5556\n",
      "Epoch 15/200\n",
      "4/4 [==============================] - 0s 1ms/step - loss: 0.4298 - mae: 0.5359\n",
      "Epoch 16/200\n",
      "4/4 [==============================] - 0s 2ms/step - loss: 0.4067 - mae: 0.5193\n",
      "Epoch 17/200\n",
      "4/4 [==============================] - 0s 2ms/step - loss: 0.3877 - mae: 0.5044\n",
      "Epoch 18/200\n",
      "4/4 [==============================] - 0s 3ms/step - loss: 0.3716 - mae: 0.4913\n",
      "Epoch 19/200\n",
      "4/4 [==============================] - 0s 4ms/step - loss: 0.3559 - mae: 0.4787\n",
      "Epoch 20/200\n",
      "4/4 [==============================] - 0s 3ms/step - loss: 0.3410 - mae: 0.4681\n",
      "Epoch 21/200\n",
      "4/4 [==============================] - 0s 3ms/step - loss: 0.3257 - mae: 0.4582\n",
      "Epoch 22/200\n",
      "4/4 [==============================] - 0s 2ms/step - loss: 0.3126 - mae: 0.4477\n",
      "Epoch 23/200\n",
      "4/4 [==============================] - 0s 5ms/step - loss: 0.3001 - mae: 0.4372\n",
      "Epoch 24/200\n",
      "4/4 [==============================] - 0s 4ms/step - loss: 0.2911 - mae: 0.4307\n",
      "Epoch 25/200\n",
      "4/4 [==============================] - 0s 3ms/step - loss: 0.2822 - mae: 0.4224\n",
      "Epoch 26/200\n",
      "4/4 [==============================] - 0s 2ms/step - loss: 0.2759 - mae: 0.4176\n",
      "Epoch 27/200\n",
      "4/4 [==============================] - 0s 2ms/step - loss: 0.2694 - mae: 0.4136\n",
      "Epoch 28/200\n",
      "4/4 [==============================] - 0s 3ms/step - loss: 0.2629 - mae: 0.4094\n",
      "Epoch 29/200\n",
      "4/4 [==============================] - 0s 3ms/step - loss: 0.2584 - mae: 0.4078\n",
      "Epoch 30/200\n",
      "4/4 [==============================] - 0s 3ms/step - loss: 0.2538 - mae: 0.4068\n",
      "Epoch 31/200\n",
      "4/4 [==============================] - 0s 3ms/step - loss: 0.2509 - mae: 0.4061\n",
      "Epoch 32/200\n",
      "4/4 [==============================] - 0s 2ms/step - loss: 0.2485 - mae: 0.4054\n",
      "Epoch 33/200\n",
      "4/4 [==============================] - 0s 2ms/step - loss: 0.2464 - mae: 0.4047\n",
      "Epoch 34/200\n",
      "4/4 [==============================] - 0s 3ms/step - loss: 0.2453 - mae: 0.4046\n",
      "Epoch 35/200\n",
      "4/4 [==============================] - 0s 2ms/step - loss: 0.2438 - mae: 0.4031\n",
      "Epoch 36/200\n",
      "4/4 [==============================] - 0s 3ms/step - loss: 0.2426 - mae: 0.4016\n",
      "Epoch 37/200\n",
      "4/4 [==============================] - 0s 3ms/step - loss: 0.2421 - mae: 0.4014\n",
      "Epoch 38/200\n",
      "4/4 [==============================] - 0s 2ms/step - loss: 0.2413 - mae: 0.4007\n",
      "Epoch 39/200\n",
      "4/4 [==============================] - 0s 2ms/step - loss: 0.2408 - mae: 0.4001\n",
      "Epoch 40/200\n",
      "4/4 [==============================] - 0s 4ms/step - loss: 0.2411 - mae: 0.4006\n",
      "Epoch 41/200\n",
      "4/4 [==============================] - 0s 2ms/step - loss: 0.2405 - mae: 0.4000\n",
      "Epoch 42/200\n",
      "4/4 [==============================] - 0s 3ms/step - loss: 0.2401 - mae: 0.3993\n",
      "Epoch 43/200\n",
      "4/4 [==============================] - 0s 2ms/step - loss: 0.2395 - mae: 0.3991\n",
      "Epoch 44/200\n",
      "4/4 [==============================] - 0s 2ms/step - loss: 0.2407 - mae: 0.3993\n",
      "Epoch 45/200\n",
      "4/4 [==============================] - 0s 2ms/step - loss: 0.2399 - mae: 0.3981\n",
      "Epoch 46/200\n",
      "4/4 [==============================] - 0s 3ms/step - loss: 0.2398 - mae: 0.3983\n",
      "Epoch 47/200\n",
      "4/4 [==============================] - 0s 2ms/step - loss: 0.2393 - mae: 0.3979\n",
      "Epoch 48/200\n",
      "4/4 [==============================] - 0s 6ms/step - loss: 0.2392 - mae: 0.3979\n",
      "Epoch 49/200\n",
      "4/4 [==============================] - 0s 4ms/step - loss: 0.2392 - mae: 0.3981\n",
      "Epoch 50/200\n",
      "4/4 [==============================] - 0s 4ms/step - loss: 0.2396 - mae: 0.3984\n",
      "Epoch 51/200\n",
      "4/4 [==============================] - 0s 3ms/step - loss: 0.2396 - mae: 0.3983\n",
      "Epoch 52/200\n",
      "4/4 [==============================] - 0s 2ms/step - loss: 0.2399 - mae: 0.3988\n",
      "Epoch 53/200\n",
      "4/4 [==============================] - 0s 3ms/step - loss: 0.2395 - mae: 0.3985\n",
      "Epoch 54/200\n",
      "4/4 [==============================] - 0s 2ms/step - loss: 0.2395 - mae: 0.3986\n",
      "Epoch 55/200\n",
      "4/4 [==============================] - 0s 2ms/step - loss: 0.2393 - mae: 0.3984\n",
      "Epoch 56/200\n",
      "4/4 [==============================] - 0s 2ms/step - loss: 0.2392 - mae: 0.3980\n",
      "Epoch 57/200\n",
      "4/4 [==============================] - 0s 5ms/step - loss: 0.2391 - mae: 0.3978\n",
      "Epoch 58/200\n",
      "4/4 [==============================] - 0s 2ms/step - loss: 0.2393 - mae: 0.3981\n",
      "Epoch 59/200\n",
      "4/4 [==============================] - 0s 2ms/step - loss: 0.2395 - mae: 0.3982\n",
      "Epoch 60/200\n",
      "4/4 [==============================] - 0s 2ms/step - loss: 0.2394 - mae: 0.3983\n",
      "Epoch 61/200\n",
      "4/4 [==============================] - 0s 2ms/step - loss: 0.2394 - mae: 0.3985\n",
      "Epoch 62/200\n",
      "4/4 [==============================] - 0s 2ms/step - loss: 0.2395 - mae: 0.3986\n",
      "Epoch 63/200\n",
      "4/4 [==============================] - 0s 3ms/step - loss: 0.2392 - mae: 0.3981\n",
      "Epoch 64/200\n",
      "4/4 [==============================] - 0s 2ms/step - loss: 0.2391 - mae: 0.3981\n",
      "Epoch 65/200\n",
      "4/4 [==============================] - 0s 3ms/step - loss: 0.2399 - mae: 0.3990\n",
      "Epoch 66/200\n",
      "4/4 [==============================] - 0s 3ms/step - loss: 0.2405 - mae: 0.3997\n",
      "Epoch 67/200\n",
      "4/4 [==============================] - 0s 2ms/step - loss: 0.2400 - mae: 0.3990\n",
      "Epoch 68/200\n",
      "4/4 [==============================] - 0s 2ms/step - loss: 0.2396 - mae: 0.3982\n",
      "Epoch 69/200\n",
      "4/4 [==============================] - 0s 2ms/step - loss: 0.2391 - mae: 0.3977\n",
      "Epoch 70/200\n",
      "4/4 [==============================] - 0s 2ms/step - loss: 0.2392 - mae: 0.3974\n",
      "Epoch 71/200\n",
      "4/4 [==============================] - 0s 2ms/step - loss: 0.2393 - mae: 0.3972\n",
      "Epoch 72/200\n",
      "4/4 [==============================] - 0s 3ms/step - loss: 0.2401 - mae: 0.3982\n",
      "Epoch 73/200\n",
      "4/4 [==============================] - 0s 2ms/step - loss: 0.2416 - mae: 0.3996\n",
      "Epoch 74/200\n",
      "4/4 [==============================] - 0s 2ms/step - loss: 0.2412 - mae: 0.3992\n",
      "Epoch 75/200\n",
      "4/4 [==============================] - 0s 3ms/step - loss: 0.2401 - mae: 0.3984\n",
      "Epoch 76/200\n",
      "4/4 [==============================] - 0s 2ms/step - loss: 0.2396 - mae: 0.3978\n",
      "Epoch 77/200\n",
      "4/4 [==============================] - 0s 2ms/step - loss: 0.2396 - mae: 0.3978\n",
      "Epoch 78/200\n",
      "4/4 [==============================] - 0s 3ms/step - loss: 0.2398 - mae: 0.3980\n",
      "Epoch 79/200\n",
      "4/4 [==============================] - 0s 2ms/step - loss: 0.2398 - mae: 0.3979\n",
      "Epoch 80/200\n",
      "4/4 [==============================] - 0s 2ms/step - loss: 0.2396 - mae: 0.3979\n",
      "Epoch 81/200\n",
      "4/4 [==============================] - 0s 3ms/step - loss: 0.2394 - mae: 0.3978\n",
      "Epoch 82/200\n",
      "4/4 [==============================] - 0s 2ms/step - loss: 0.2394 - mae: 0.3982\n",
      "Epoch 83/200\n",
      "4/4 [==============================] - 0s 2ms/step - loss: 0.2393 - mae: 0.3978\n",
      "Epoch 84/200\n",
      "4/4 [==============================] - 0s 2ms/step - loss: 0.2392 - mae: 0.3973\n",
      "Epoch 85/200\n",
      "4/4 [==============================] - 0s 2ms/step - loss: 0.2392 - mae: 0.3975\n",
      "Epoch 86/200\n",
      "4/4 [==============================] - 0s 2ms/step - loss: 0.2399 - mae: 0.3981\n",
      "Epoch 87/200\n",
      "4/4 [==============================] - 0s 3ms/step - loss: 0.2400 - mae: 0.3983\n",
      "Epoch 88/200\n",
      "4/4 [==============================] - 0s 2ms/step - loss: 0.2394 - mae: 0.3975\n",
      "Epoch 89/200\n",
      "4/4 [==============================] - 0s 2ms/step - loss: 0.2393 - mae: 0.3980\n",
      "Epoch 90/200\n",
      "4/4 [==============================] - 0s 2ms/step - loss: 0.2393 - mae: 0.3982\n",
      "Epoch 91/200\n",
      "4/4 [==============================] - 0s 2ms/step - loss: 0.2390 - mae: 0.3986\n",
      "Epoch 92/200\n",
      "4/4 [==============================] - 0s 893us/step - loss: 0.2404 - mae: 0.3994\n",
      "Epoch 93/200\n",
      "4/4 [==============================] - 0s 2ms/step - loss: 0.2395 - mae: 0.3984\n",
      "Epoch 94/200\n",
      "4/4 [==============================] - 0s 2ms/step - loss: 0.2397 - mae: 0.3986\n",
      "Epoch 95/200\n",
      "4/4 [==============================] - 0s 2ms/step - loss: 0.2392 - mae: 0.3982\n",
      "Epoch 96/200\n",
      "4/4 [==============================] - 0s 2ms/step - loss: 0.2396 - mae: 0.3987\n",
      "Epoch 97/200\n",
      "4/4 [==============================] - 0s 2ms/step - loss: 0.2399 - mae: 0.3981\n",
      "Epoch 98/200\n",
      "4/4 [==============================] - 0s 2ms/step - loss: 0.2400 - mae: 0.3982\n",
      "Epoch 99/200\n",
      "4/4 [==============================] - 0s 4ms/step - loss: 0.2400 - mae: 0.3983\n",
      "Epoch 100/200\n",
      "4/4 [==============================] - 0s 2ms/step - loss: 0.2394 - mae: 0.3978\n",
      "Epoch 101/200\n",
      "4/4 [==============================] - 0s 2ms/step - loss: 0.2394 - mae: 0.3977\n",
      "Epoch 102/200\n",
      "4/4 [==============================] - 0s 2ms/step - loss: 0.2395 - mae: 0.3978\n",
      "Epoch 103/200\n",
      "4/4 [==============================] - 0s 2ms/step - loss: 0.2396 - mae: 0.3979\n",
      "Epoch 104/200\n",
      "4/4 [==============================] - 0s 2ms/step - loss: 0.2395 - mae: 0.3978\n",
      "Epoch 105/200\n",
      "4/4 [==============================] - 0s 3ms/step - loss: 0.2397 - mae: 0.3984\n",
      "Epoch 106/200\n",
      "4/4 [==============================] - 0s 4ms/step - loss: 0.2393 - mae: 0.3982\n",
      "Epoch 107/200\n",
      "4/4 [==============================] - 0s 3ms/step - loss: 0.2392 - mae: 0.3982\n",
      "Epoch 108/200\n",
      "4/4 [==============================] - 0s 2ms/step - loss: 0.2394 - mae: 0.3985\n",
      "Epoch 109/200\n",
      "4/4 [==============================] - 0s 2ms/step - loss: 0.2397 - mae: 0.3988\n",
      "Epoch 110/200\n",
      "4/4 [==============================] - 0s 2ms/step - loss: 0.2398 - mae: 0.3989\n",
      "Epoch 111/200\n",
      "4/4 [==============================] - 0s 2ms/step - loss: 0.2402 - mae: 0.3994\n",
      "Epoch 112/200\n",
      "4/4 [==============================] - 0s 2ms/step - loss: 0.2405 - mae: 0.4000\n",
      "Epoch 113/200\n",
      "4/4 [==============================] - 0s 2ms/step - loss: 0.2407 - mae: 0.4001\n",
      "Epoch 114/200\n",
      "4/4 [==============================] - 0s 2ms/step - loss: 0.2406 - mae: 0.3996\n",
      "Epoch 115/200\n",
      "4/4 [==============================] - 0s 0s/step - loss: 0.2404 - mae: 0.3997\n",
      "Epoch 116/200\n",
      "4/4 [==============================] - 0s 3ms/step - loss: 0.2402 - mae: 0.3996\n",
      "Epoch 117/200\n",
      "4/4 [==============================] - 0s 2ms/step - loss: 0.2399 - mae: 0.3993\n",
      "Epoch 118/200\n",
      "4/4 [==============================] - 0s 2ms/step - loss: 0.2395 - mae: 0.3983\n",
      "Epoch 119/200\n",
      "4/4 [==============================] - 0s 2ms/step - loss: 0.2391 - mae: 0.3977\n",
      "Epoch 120/200\n",
      "4/4 [==============================] - 0s 2ms/step - loss: 0.2393 - mae: 0.3978\n",
      "Epoch 121/200\n",
      "4/4 [==============================] - 0s 2ms/step - loss: 0.2393 - mae: 0.3977\n",
      "Epoch 122/200\n",
      "4/4 [==============================] - 0s 2ms/step - loss: 0.2393 - mae: 0.3975\n",
      "Epoch 123/200\n",
      "4/4 [==============================] - 0s 2ms/step - loss: 0.2395 - mae: 0.3981\n",
      "Epoch 124/200\n",
      "4/4 [==============================] - 0s 2ms/step - loss: 0.2403 - mae: 0.3995\n",
      "Epoch 125/200\n",
      "4/4 [==============================] - 0s 2ms/step - loss: 0.2402 - mae: 0.3993\n",
      "Epoch 126/200\n",
      "4/4 [==============================] - 0s 2ms/step - loss: 0.2395 - mae: 0.3980\n",
      "Epoch 127/200\n",
      "4/4 [==============================] - 0s 2ms/step - loss: 0.2393 - mae: 0.3978\n",
      "Epoch 128/200\n",
      "4/4 [==============================] - 0s 2ms/step - loss: 0.2391 - mae: 0.3973\n",
      "Epoch 129/200\n",
      "4/4 [==============================] - 0s 2ms/step - loss: 0.2393 - mae: 0.3976\n",
      "Epoch 130/200\n",
      "4/4 [==============================] - 0s 2ms/step - loss: 0.2394 - mae: 0.3972\n",
      "Epoch 131/200\n",
      "4/4 [==============================] - 0s 2ms/step - loss: 0.2397 - mae: 0.3973\n",
      "Epoch 132/200\n",
      "4/4 [==============================] - 0s 2ms/step - loss: 0.2394 - mae: 0.3973\n",
      "Epoch 133/200\n",
      "4/4 [==============================] - 0s 2ms/step - loss: 0.2391 - mae: 0.3970\n",
      "Epoch 134/200\n",
      "4/4 [==============================] - 0s 2ms/step - loss: 0.2391 - mae: 0.3974\n",
      "Epoch 135/200\n",
      "4/4 [==============================] - 0s 2ms/step - loss: 0.2390 - mae: 0.3976\n",
      "Epoch 136/200\n",
      "4/4 [==============================] - 0s 4ms/step - loss: 0.2391 - mae: 0.3978\n",
      "Epoch 137/200\n",
      "4/4 [==============================] - 0s 5ms/step - loss: 0.2395 - mae: 0.3982\n",
      "Epoch 138/200\n",
      "4/4 [==============================] - 0s 3ms/step - loss: 0.2400 - mae: 0.3992\n",
      "Epoch 139/200\n",
      "4/4 [==============================] - 0s 3ms/step - loss: 0.2397 - mae: 0.3990\n",
      "Epoch 140/200\n",
      "4/4 [==============================] - 0s 2ms/step - loss: 0.2397 - mae: 0.3992\n",
      "Epoch 141/200\n",
      "4/4 [==============================] - 0s 2ms/step - loss: 0.2393 - mae: 0.3986\n",
      "Epoch 142/200\n",
      "4/4 [==============================] - 0s 2ms/step - loss: 0.2393 - mae: 0.3982\n",
      "Epoch 143/200\n",
      "4/4 [==============================] - 0s 2ms/step - loss: 0.2393 - mae: 0.3982\n",
      "Epoch 144/200\n",
      "4/4 [==============================] - 0s 4ms/step - loss: 0.2400 - mae: 0.3981\n",
      "Epoch 145/200\n",
      "4/4 [==============================] - 0s 2ms/step - loss: 0.2402 - mae: 0.3985\n",
      "Epoch 146/200\n",
      "4/4 [==============================] - 0s 2ms/step - loss: 0.2399 - mae: 0.3985\n",
      "Epoch 147/200\n",
      "4/4 [==============================] - 0s 2ms/step - loss: 0.2396 - mae: 0.3982\n",
      "Epoch 148/200\n",
      "4/4 [==============================] - 0s 2ms/step - loss: 0.2397 - mae: 0.3981\n",
      "Epoch 149/200\n",
      "4/4 [==============================] - 0s 2ms/step - loss: 0.2395 - mae: 0.3977\n",
      "Epoch 150/200\n",
      "4/4 [==============================] - 0s 2ms/step - loss: 0.2401 - mae: 0.3983\n",
      "Epoch 151/200\n",
      "4/4 [==============================] - 0s 2ms/step - loss: 0.2402 - mae: 0.3980\n",
      "Epoch 152/200\n",
      "4/4 [==============================] - 0s 2ms/step - loss: 0.2399 - mae: 0.3973\n",
      "Epoch 153/200\n",
      "4/4 [==============================] - 0s 2ms/step - loss: 0.2402 - mae: 0.3971\n",
      "Epoch 154/200\n",
      "4/4 [==============================] - 0s 633us/step - loss: 0.2401 - mae: 0.3973\n",
      "Epoch 155/200\n",
      "4/4 [==============================] - 0s 2ms/step - loss: 0.2406 - mae: 0.3978\n",
      "Epoch 156/200\n",
      "4/4 [==============================] - 0s 2ms/step - loss: 0.2402 - mae: 0.3981\n",
      "Epoch 157/200\n",
      "4/4 [==============================] - 0s 3ms/step - loss: 0.2401 - mae: 0.3983\n",
      "Epoch 158/200\n",
      "4/4 [==============================] - 0s 2ms/step - loss: 0.2400 - mae: 0.3980\n",
      "Epoch 159/200\n",
      "4/4 [==============================] - 0s 2ms/step - loss: 0.2401 - mae: 0.3976\n",
      "Epoch 160/200\n",
      "4/4 [==============================] - 0s 2ms/step - loss: 0.2408 - mae: 0.3981\n",
      "Epoch 161/200\n",
      "4/4 [==============================] - 0s 2ms/step - loss: 0.2407 - mae: 0.3978\n",
      "Epoch 162/200\n",
      "4/4 [==============================] - 0s 2ms/step - loss: 0.2406 - mae: 0.3977\n",
      "Epoch 163/200\n",
      "4/4 [==============================] - 0s 2ms/step - loss: 0.2403 - mae: 0.3975\n",
      "Epoch 164/200\n",
      "4/4 [==============================] - 0s 2ms/step - loss: 0.2404 - mae: 0.3983\n",
      "Epoch 165/200\n",
      "4/4 [==============================] - 0s 2ms/step - loss: 0.2409 - mae: 0.3991\n",
      "Epoch 166/200\n",
      "4/4 [==============================] - 0s 3ms/step - loss: 0.2406 - mae: 0.3988\n",
      "Epoch 167/200\n",
      "4/4 [==============================] - 0s 3ms/step - loss: 0.2404 - mae: 0.3983\n",
      "Epoch 168/200\n",
      "4/4 [==============================] - 0s 2ms/step - loss: 0.2405 - mae: 0.3979\n",
      "Epoch 169/200\n",
      "4/4 [==============================] - 0s 2ms/step - loss: 0.2396 - mae: 0.3973\n",
      "Epoch 170/200\n",
      "4/4 [==============================] - 0s 2ms/step - loss: 0.2398 - mae: 0.3976\n",
      "Epoch 171/200\n",
      "4/4 [==============================] - 0s 2ms/step - loss: 0.2393 - mae: 0.3973\n",
      "Epoch 172/200\n",
      "4/4 [==============================] - 0s 3ms/step - loss: 0.2395 - mae: 0.3975\n",
      "Epoch 173/200\n",
      "4/4 [==============================] - 0s 2ms/step - loss: 0.2394 - mae: 0.3975\n",
      "Epoch 174/200\n",
      "4/4 [==============================] - 0s 2ms/step - loss: 0.2398 - mae: 0.3980\n",
      "Epoch 175/200\n",
      "4/4 [==============================] - 0s 2ms/step - loss: 0.2400 - mae: 0.3980\n",
      "Epoch 176/200\n",
      "4/4 [==============================] - 0s 2ms/step - loss: 0.2392 - mae: 0.3977\n",
      "Epoch 177/200\n",
      "4/4 [==============================] - 0s 2ms/step - loss: 0.2387 - mae: 0.3977\n",
      "Epoch 178/200\n",
      "4/4 [==============================] - 0s 2ms/step - loss: 0.2399 - mae: 0.3990\n",
      "Epoch 179/200\n",
      "4/4 [==============================] - 0s 2ms/step - loss: 0.2399 - mae: 0.3991\n",
      "Epoch 180/200\n",
      "4/4 [==============================] - 0s 2ms/step - loss: 0.2392 - mae: 0.3977\n",
      "Epoch 181/200\n",
      "4/4 [==============================] - 0s 2ms/step - loss: 0.2399 - mae: 0.3981\n",
      "Epoch 182/200\n",
      "4/4 [==============================] - 0s 2ms/step - loss: 0.2399 - mae: 0.3979\n",
      "Epoch 183/200\n",
      "4/4 [==============================] - 0s 2ms/step - loss: 0.2400 - mae: 0.3981\n",
      "Epoch 184/200\n",
      "4/4 [==============================] - 0s 861us/step - loss: 0.2398 - mae: 0.3981\n",
      "Epoch 185/200\n",
      "4/4 [==============================] - 0s 2ms/step - loss: 0.2390 - mae: 0.3979\n",
      "Epoch 186/200\n",
      "4/4 [==============================] - 0s 2ms/step - loss: 0.2393 - mae: 0.3982\n",
      "Epoch 187/200\n",
      "4/4 [==============================] - 0s 2ms/step - loss: 0.2396 - mae: 0.3984\n",
      "Epoch 188/200\n",
      "4/4 [==============================] - 0s 2ms/step - loss: 0.2397 - mae: 0.3986\n",
      "Epoch 189/200\n",
      "4/4 [==============================] - 0s 2ms/step - loss: 0.2399 - mae: 0.3991\n",
      "Epoch 190/200\n",
      "4/4 [==============================] - 0s 2ms/step - loss: 0.2406 - mae: 0.3998\n",
      "Epoch 191/200\n",
      "4/4 [==============================] - 0s 2ms/step - loss: 0.2414 - mae: 0.4010\n",
      "Epoch 192/200\n",
      "4/4 [==============================] - 0s 3ms/step - loss: 0.2417 - mae: 0.4015\n",
      "Epoch 193/200\n",
      "4/4 [==============================] - 0s 2ms/step - loss: 0.2420 - mae: 0.4020\n",
      "Epoch 194/200\n",
      "4/4 [==============================] - 0s 2ms/step - loss: 0.2414 - mae: 0.4014\n",
      "Epoch 195/200\n",
      "4/4 [==============================] - 0s 2ms/step - loss: 0.2402 - mae: 0.3983\n",
      "Epoch 196/200\n",
      "4/4 [==============================] - 0s 2ms/step - loss: 0.2389 - mae: 0.3973\n",
      "Epoch 197/200\n",
      "4/4 [==============================] - 0s 2ms/step - loss: 0.2396 - mae: 0.3975\n",
      "Epoch 198/200\n",
      "4/4 [==============================] - 0s 2ms/step - loss: 0.2398 - mae: 0.3978\n",
      "Epoch 199/200\n",
      "4/4 [==============================] - 0s 2ms/step - loss: 0.2399 - mae: 0.3980\n",
      "Epoch 200/200\n",
      "4/4 [==============================] - 0s 2ms/step - loss: 0.2393 - mae: 0.3976\n"
     ]
    }
   ],
   "source": [
    "r = model.fit(\n",
    "    X.reshape(-1,1), y,\n",
    "    epochs=200,\n",
    "    batch_size = 32\n",
    ")"
   ]
  },
  {
   "cell_type": "markdown",
   "id": "a7d08fe7-2302-4ccd-b29d-098555d8b332",
   "metadata": {},
   "source": [
    "### Visualizing the loss and mae"
   ]
  },
  {
   "cell_type": "code",
   "execution_count": 9,
   "id": "6158e08a-e24d-4700-8d96-7524f3c518ea",
   "metadata": {},
   "outputs": [
    {
     "data": {
      "image/png": "[encoded data removed]",
      "text/plain": [
       "<Figure size 640x480 with 1 Axes>"
      ]
     },
     "metadata": {},
     "output_type": "display_data"
    }
   ],
   "source": [
    "plt.plot(r.history['loss'], label='loss')\n",
    "plt.legend();"
   ]
  },
  {
   "cell_type": "code",
   "execution_count": 10,
   "id": "28f0e143-cb75-4bfe-979c-34b1dd000742",
   "metadata": {},
   "outputs": [
    {
     "data": {
      "image/png": "[encoded data removed]",
      "text/plain": [
       "<Figure size 640x480 with 1 Axes>"
      ]
     },
     "metadata": {},
     "output_type": "display_data"
    }
   ],
   "source": [
    "plt.plot(r.history['mae'], label='mae')\n",
    "plt.legend();"
   ]
  },
  {
   "cell_type": "markdown",
   "id": "7c59e216-9860-488a-b453-020830ea4c68",
   "metadata": {},
   "source": [
    "### Making predictions"
   ]
  },
  {
   "cell_type": "code",
   "execution_count": 11,
   "id": "b27e182e-036e-4efd-913f-7fd70a0c88c6",
   "metadata": {},
   "outputs": [
    {
     "name": "stdout",
     "output_type": "stream",
     "text": [
      "1/1 [==============================] - 0s 92ms/step\n"
     ]
    }
   ],
   "source": [
    "X_test = np.linspace(-3, 3, 20).reshape(-1,1)\n",
    "y_pred = model.predict(X_test)"
   ]
  },
  {
   "cell_type": "code",
   "execution_count": 12,
   "id": "2db71337-41fb-43ea-bfa1-d074945882d1",
   "metadata": {},
   "outputs": [
    {
     "data": {
      "image/png": "[encoded data removed]",
      "text/plain": [
       "<Figure size 640x480 with 1 Axes>"
      ]
     },
     "metadata": {},
     "output_type": "display_data"
    }
   ],
   "source": [
    "plt.scatter(X, y)\n",
    "plt.plot(X_test, y_pred);"
   ]
  },
  {
   "cell_type": "markdown",
   "id": "4835b276-09a7-4e1f-b937-07d8ad750ed6",
   "metadata": {},
   "source": [
    "### Checked the learned parameters"
   ]
  },
  {
   "cell_type": "code",
   "execution_count": 13,
   "id": "7173f4c6-aaa0-4fb1-bbad-3123b9fc33ad",
   "metadata": {},
   "outputs": [
    {
     "data": {
      "text/plain": [
       "[<keras.src.engine.input_layer.InputLayer at 0x1b13cb728c0>,\n",
       " <keras.src.layers.core.dense.Dense at 0x1b175596650>]"
      ]
     },
     "execution_count": 13,
     "metadata": {},
     "output_type": "execute_result"
    }
   ],
   "source": [
    "model.layers"
   ]
  },
  {
   "cell_type": "code",
   "execution_count": 14,
   "id": "96942e96-b30f-47e7-bcc4-996374f5b54f",
   "metadata": {},
   "outputs": [
    {
     "data": {
      "text/plain": [
       "[array([[0.45633194]], dtype=float32), array([-0.92530274], dtype=float32)]"
      ]
     },
     "execution_count": 14,
     "metadata": {},
     "output_type": "execute_result"
    }
   ],
   "source": [
    "model.layers[1].get_weights()"
   ]
  },
  {
   "cell_type": "code",
   "execution_count": null,
   "id": "0339102e-ada5-4565-b5d6-860fda92b069",
   "metadata": {},
   "outputs": [],
   "source": []
  }
 ],
 "metadata": {
  "kernelspec": {
   "display_name": "Python 3 (ipykernel)",
   "language": "python",
   "name": "python3"
  },
  "language_info": {
   "codemirror_mode": {
    "name": "ipython",
    "version": 3
   },
   "file_extension": ".py",
   "mimetype": "text/x-python",
   "name": "python",
   "nbconvert_exporter": "python",
   "pygments_lexer": "ipython3",
   "version": "3.10.5"
  }
 },
 "nbformat": 4,
 "nbformat_minor": 5
}
