{
 "cells": [
  {
   "cell_type": "markdown",
   "id": "6defb674-ce67-43d6-b7bd-ec1fc24d04f8",
   "metadata": {},
   "source": [
    "## Importing libraires"
   ]
  },
  {
   "cell_type": "code",
   "execution_count": 1,
   "id": "fd4bf682-0a51-4131-9a81-5a318ef58047",
   "metadata": {},
   "outputs": [],
   "source": [
    "import numpy as np\n",
    "import string"
   ]
  },
  {
   "cell_type": "markdown",
   "id": "a2ccbad8-d593-4e4c-958b-769d71d0769e",
   "metadata": {},
   "source": [
    "## Function for removing puntuation"
   ]
  },
  {
   "cell_type": "code",
   "execution_count": 2,
   "id": "470a85e2-f09d-4efa-b3ac-f4100c23229c",
   "metadata": {},
   "outputs": [],
   "source": [
    "def remove_punctuation(s):\n",
    "    return s.translate(str.maketrans('','',string.punctuation))"
   ]
  },
  {
   "cell_type": "markdown",
   "id": "520bc8e9-0251-4f85-a651-8fe6cb0ecd2d",
   "metadata": {},
   "source": [
    "## Initial state, First order and Second order transition matrix"
   ]
  },
  {
   "cell_type": "code",
   "execution_count": 3,
   "id": "9d0aff55-6821-4285-8dd7-72fcb770fdfe",
   "metadata": {},
   "outputs": [],
   "source": [
    "initial = {}\n",
    "first_order = {}\n",
    "second_order = {}"
   ]
  },
  {
   "cell_type": "code",
   "execution_count": 4,
   "id": "ebadf448-bd8e-404e-a63e-b87be395e318",
   "metadata": {},
   "outputs": [],
   "source": [
    "def add2dict(d, k, v):\n",
    "    if k not in d:\n",
    "        d[k] = {}\n",
    "    d[k][v] = d[k].get(v, 0) +1"
   ]
  },
  {
   "cell_type": "code",
   "execution_count": 5,
   "id": "dd5ef29a-1aba-47ab-83b3-59715ececa53",
   "metadata": {},
   "outputs": [],
   "source": [
    "vocabulary = []\n",
    "for line in open('datasets/robert_frost.txt'):\n",
    "    tokens = remove_punctuation(line.rstrip().lower()).split()\n",
    "\n",
    "    for i in range(len(tokens)):\n",
    "        t = tokens[i]\n",
    "        if t not in vocabulary:\n",
    "            vocabulary.append(t)\n",
    "\n",
    "        if i == 0:\n",
    "            initial[t] = initial.get(t, 0.) + 1 \n",
    "        else:\n",
    "            t_1 = tokens[i-1]\n",
    "            if i == len(tokens) - 1:\n",
    "                add2dict(second_order, (t_1, t), 'stop')\n",
    "            if i == 1:\n",
    "                add2dict(first_order, t_1, t)\n",
    "            else:\n",
    "                t_2 = tokens[i-2]\n",
    "                add2dict(second_order, (t_2, t_1), t)"
   ]
  },
  {
   "cell_type": "code",
   "execution_count": 6,
   "id": "0ab6f4ce-e5c8-4f8b-b771-d7adcc78f084",
   "metadata": {},
   "outputs": [],
   "source": [
    "# Normalizing\n",
    "def normalize(d):\n",
    "    total = sum(d.values())\n",
    "    for k, v in d.items():\n",
    "        d[k] = v/total"
   ]
  },
  {
   "cell_type": "code",
   "execution_count": 7,
   "id": "4e32324f-3eff-484b-9a12-0362aeb59659",
   "metadata": {},
   "outputs": [],
   "source": [
    "normalize(initial)"
   ]
  },
  {
   "cell_type": "code",
   "execution_count": 8,
   "id": "d2186b8e-d4ec-4f14-ad0e-530617251465",
   "metadata": {},
   "outputs": [],
   "source": [
    "for k, v in first_order.items():\n",
    "    normalize(v)"
   ]
  },
  {
   "cell_type": "code",
   "execution_count": 9,
   "id": "b45f4c3a-d9ac-4e16-a5df-62556d988acc",
   "metadata": {},
   "outputs": [],
   "source": [
    "for k, v in second_order.items():\n",
    "    normalize(v)"
   ]
  },
  {
   "cell_type": "markdown",
   "id": "e96b57a4-4cf2-4719-963d-32a6c384ed72",
   "metadata": {},
   "source": [
    "## Size of vocabulary"
   ]
  },
  {
   "cell_type": "code",
   "execution_count": 22,
   "id": "1ded3731-c6e4-40ac-8c12-f0a20121a011",
   "metadata": {},
   "outputs": [
    {
     "name": "stdout",
     "output_type": "stream",
     "text": [
      "Total vocabulary in the poem (V): 2197\n"
     ]
    }
   ],
   "source": [
    "V = len(vocabulary)\n",
    "print(f'Total vocabulary in the poem (V): {V}')"
   ]
  },
  {
   "cell_type": "code",
   "execution_count": 11,
   "id": "82b1c9c0-6288-4dbd-aba8-b4381578506b",
   "metadata": {},
   "outputs": [
    {
     "name": "stdout",
     "output_type": "stream",
     "text": [
      "Size of initial state is: 305\n",
      "Total value stored: 13.8826%\n"
     ]
    }
   ],
   "source": [
    "# pi has shape V\n",
    "i_size = len(initial)\n",
    "print(f'Size of initial state is: {i_size}')\n",
    "print(f'Total value stored: {i_size/V*100:.4f}%')"
   ]
  },
  {
   "cell_type": "code",
   "execution_count": 12,
   "id": "45886e36-78de-4cfb-8f26-ea0a46aca26e",
   "metadata": {},
   "outputs": [
    {
     "name": "stdout",
     "output_type": "stream",
     "text": [
      "Size of first order transition matrix is: 1195\n",
      "Total value stored: 0.0063%\n"
     ]
    }
   ],
   "source": [
    "fo_size = 0\n",
    "for k, v in first_order.items():\n",
    "    fo_size += len(v)\n",
    "\n",
    "print(f'Size of first order transition matrix is: {fo_size}')\n",
    "print(f'Total value stored: {i_size/(V*V)*100:.4f}%')"
   ]
  },
  {
   "cell_type": "code",
   "execution_count": 13,
   "id": "d721749f-b1be-4370-95f2-8b105f307d1a",
   "metadata": {},
   "outputs": [
    {
     "name": "stdout",
     "output_type": "stream",
     "text": [
      "Size of second order transition matrix is: 8854\n",
      "Total value stored: 0.000003%\n"
     ]
    }
   ],
   "source": [
    "so_size = 0\n",
    "for k, v in second_order.items():\n",
    "    so_size += len(v)\n",
    "\n",
    "print(f'Size of second order transition matrix is: {so_size}')\n",
    "print(f'Total value stored: {i_size/(V*V*V)*100:.6f}%')"
   ]
  },
  {
   "cell_type": "markdown",
   "id": "3949750a-1829-4b07-939b-031ed02a98be",
   "metadata": {},
   "source": [
    "## Generate function"
   ]
  },
  {
   "cell_type": "code",
   "execution_count": 14,
   "id": "d0ecf098-ae49-40e2-a376-ff1fbec55e30",
   "metadata": {},
   "outputs": [],
   "source": [
    "def sample_word(d):\n",
    "  p0 = np.random.random()\n",
    "\n",
    "  cumulative = 0\n",
    "  for t, p in d.items():\n",
    "    cumulative += p\n",
    "    if p0 < cumulative:\n",
    "      return t\n",
    "  assert(False)"
   ]
  },
  {
   "cell_type": "code",
   "execution_count": 15,
   "id": "458a1f66-fdaf-47a8-9dc3-8abe875fca19",
   "metadata": {},
   "outputs": [],
   "source": [
    "def generate():\n",
    "  for i in range(4): # generate 4 lines\n",
    "    sentence = []\n",
    "\n",
    "    # initial word\n",
    "    w0 = sample_word(initial)\n",
    "    sentence.append(w0)\n",
    "\n",
    "    # sample second word\n",
    "    w1 = sample_word(first_order[w0])\n",
    "    sentence.append(w1)\n",
    "\n",
    "    # second-order transitions until END\n",
    "    while True:\n",
    "        w2 = sample_word(second_order[(w0, w1)])\n",
    "        if w2 == 'stop':\n",
    "            break\n",
    "        sentence.append(w2)\n",
    "        w0 = w1\n",
    "        w1 = w2\n",
    "    print(' '.join(sentence))"
   ]
  },
  {
   "cell_type": "code",
   "execution_count": 21,
   "id": "450bfbb7-90f3-4d37-a89c-0242b5a82bff",
   "metadata": {},
   "outputs": [
    {
     "name": "stdout",
     "output_type": "stream",
     "text": [
      "oh if youre lost enough to find out what to do right\n",
      "john hall touch me not if he knows hes kinder than the cellar\n",
      "at having eased her heart of one that didnt thrive\n",
      "one and one other yes for there were no cottages found\n"
     ]
    }
   ],
   "source": [
    "generate()"
   ]
  },
  {
   "cell_type": "code",
   "execution_count": 17,
   "id": "99b36c2e-5cfd-48e9-b80f-fbacc310fd58",
   "metadata": {},
   "outputs": [],
   "source": [
    "# Exercise:\n",
    "#\n",
    "# Determine the vocabulary size (V)\n",
    "# We know that pi has shape V, A1 has shape V x V, and A2 has shape V x V x V\n",
    "#\n",
    "# In comparison, how many values are stored in our dictionaries?"
   ]
  },
  {
   "cell_type": "code",
   "execution_count": 18,
   "id": "6ca627bd-cee3-4f05-abd1-b20f89ec360c",
   "metadata": {},
   "outputs": [],
   "source": [
    "# Exercise 2:\n",
    "# We can skip the step where we accumulate all the possible next words in a list\n",
    "# E.g. [cat, cat, dog, dog, dog, ...]\n",
    "#\n",
    "# Instead, like we do with the initial state distribution, create the dictionary\n",
    "# of counts directly as you loop through the data.\n",
    "#\n",
    "# You'll no longer need list2pdict()"
   ]
  },
  {
   "cell_type": "code",
   "execution_count": null,
   "id": "0034cc57-4042-4d79-88e4-8626c5a3855c",
   "metadata": {},
   "outputs": [],
   "source": []
  }
 ],
 "metadata": {
  "kernelspec": {
   "display_name": "Python 3 (ipykernel)",
   "language": "python",
   "name": "python3"
  },
  "language_info": {
   "codemirror_mode": {
    "name": "ipython",
    "version": 3
   },
   "file_extension": ".py",
   "mimetype": "text/x-python",
   "name": "python",
   "nbconvert_exporter": "python",
   "pygments_lexer": "ipython3",
   "version": "3.10.5"
  }
 },
 "nbformat": 4,
 "nbformat_minor": 5
}
