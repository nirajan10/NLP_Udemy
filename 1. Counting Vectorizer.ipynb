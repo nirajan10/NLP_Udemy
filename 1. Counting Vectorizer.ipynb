{
 "cells": [
  {
   "cell_type": "markdown",
   "id": "512bfb10-1dcf-43cf-b217-12732509ca6e",
   "metadata": {},
   "source": [
    "## Importing libraries"
   ]
  },
  {
   "cell_type": "code",
   "execution_count": 1,
   "id": "f262ecef-a673-494e-8ad8-3169a0b45184",
   "metadata": {},
   "outputs": [],
   "source": [
    "import pandas as pd\n",
    "from sklearn.feature_extraction.text import CountVectorizer"
   ]
  },
  {
   "cell_type": "markdown",
   "id": "b4c1cb19-f4c4-4184-94e8-b64c1c49e3e8",
   "metadata": {},
   "source": [
    "## Creating dataframe"
   ]
  },
  {
   "cell_type": "code",
   "execution_count": 2,
   "id": "7171a2a0-ec69-49ed-9d23-f56f8e83a080",
   "metadata": {},
   "outputs": [],
   "source": [
    "dataset = {'Original Document':['I like eggs', 'I hate cats', 'I like eggs and I like cats']}"
   ]
  },
  {
   "cell_type": "code",
   "execution_count": 3,
   "id": "726e1953-97f4-44b7-a2a1-630f70276ce5",
   "metadata": {},
   "outputs": [
    {
     "data": {
      "text/html": [
       "<div>\n",
       "<style scoped>\n",
       "    .dataframe tbody tr th:only-of-type {\n",
       "        vertical-align: middle;\n",
       "    }\n",
       "\n",
       "    .dataframe tbody tr th {\n",
       "        vertical-align: top;\n",
       "    }\n",
       "\n",
       "    .dataframe thead th {\n",
       "        text-align: right;\n",
       "    }\n",
       "</style>\n",
       "<table border=\"1\" class=\"dataframe\">\n",
       "  <thead>\n",
       "    <tr style=\"text-align: right;\">\n",
       "      <th></th>\n",
       "      <th>Original Document</th>\n",
       "    </tr>\n",
       "  </thead>\n",
       "  <tbody>\n",
       "    <tr>\n",
       "      <th>0</th>\n",
       "      <td>I like eggs</td>\n",
       "    </tr>\n",
       "    <tr>\n",
       "      <th>1</th>\n",
       "      <td>I hate cats</td>\n",
       "    </tr>\n",
       "    <tr>\n",
       "      <th>2</th>\n",
       "      <td>I like eggs and I like cats</td>\n",
       "    </tr>\n",
       "  </tbody>\n",
       "</table>\n",
       "</div>"
      ],
      "text/plain": [
       "             Original Document\n",
       "0                  I like eggs\n",
       "1                  I hate cats\n",
       "2  I like eggs and I like cats"
      ]
     },
     "execution_count": 3,
     "metadata": {},
     "output_type": "execute_result"
    }
   ],
   "source": [
    "df = pd.DataFrame(dataset)\n",
    "df"
   ]
  },
  {
   "cell_type": "markdown",
   "id": "6cb83aae-c391-4443-b036-da803394a33a",
   "metadata": {},
   "source": [
    "## Only using python"
   ]
  },
  {
   "cell_type": "code",
   "execution_count": 4,
   "id": "ace93610-2ec6-414b-8352-9518d1e7a92c",
   "metadata": {},
   "outputs": [
    {
     "name": "stdout",
     "output_type": "stream",
     "text": [
      "vocabulary = ['I', 'and', 'cats', 'eggs', 'hate', 'like']\n"
     ]
    }
   ],
   "source": [
    "voc = []\n",
    "for i in df['Original Document']:\n",
    "    for j in i.split():\n",
    "        if j not in voc:\n",
    "            voc.append(j)\n",
    "\n",
    "voc.sort()\n",
    "\n",
    "print(f\"vocabulary = {voc}\")\n",
    "\n",
    "def count_vec(doc, vocab):\n",
    "    out = {}\n",
    "    for i in vocab:\n",
    "        out[i] = 0\n",
    "\n",
    "    for j in doc.split():\n",
    "        out[j] += 1\n",
    "    \n",
    "    return list(out.values())\n",
    "\n",
    "arr = []\n",
    "for i in df['Original Document'].apply(lambda x: count_vec(x, voc)):\n",
    "    arr.append(i)\n",
    "\n",
    "final_df = pd.DataFrame(arr, columns=voc)"
   ]
  },
  {
   "cell_type": "code",
   "execution_count": 5,
   "id": "deaed154-c487-4822-bc68-a235a043d080",
   "metadata": {},
   "outputs": [
    {
     "data": {
      "text/html": [
       "<div>\n",
       "<style scoped>\n",
       "    .dataframe tbody tr th:only-of-type {\n",
       "        vertical-align: middle;\n",
       "    }\n",
       "\n",
       "    .dataframe tbody tr th {\n",
       "        vertical-align: top;\n",
       "    }\n",
       "\n",
       "    .dataframe thead th {\n",
       "        text-align: right;\n",
       "    }\n",
       "</style>\n",
       "<table border=\"1\" class=\"dataframe\">\n",
       "  <thead>\n",
       "    <tr style=\"text-align: right;\">\n",
       "      <th></th>\n",
       "      <th>I</th>\n",
       "      <th>and</th>\n",
       "      <th>cats</th>\n",
       "      <th>eggs</th>\n",
       "      <th>hate</th>\n",
       "      <th>like</th>\n",
       "    </tr>\n",
       "  </thead>\n",
       "  <tbody>\n",
       "    <tr>\n",
       "      <th>0</th>\n",
       "      <td>1</td>\n",
       "      <td>0</td>\n",
       "      <td>0</td>\n",
       "      <td>1</td>\n",
       "      <td>0</td>\n",
       "      <td>1</td>\n",
       "    </tr>\n",
       "    <tr>\n",
       "      <th>1</th>\n",
       "      <td>1</td>\n",
       "      <td>0</td>\n",
       "      <td>1</td>\n",
       "      <td>0</td>\n",
       "      <td>1</td>\n",
       "      <td>0</td>\n",
       "    </tr>\n",
       "    <tr>\n",
       "      <th>2</th>\n",
       "      <td>2</td>\n",
       "      <td>1</td>\n",
       "      <td>1</td>\n",
       "      <td>1</td>\n",
       "      <td>0</td>\n",
       "      <td>2</td>\n",
       "    </tr>\n",
       "  </tbody>\n",
       "</table>\n",
       "</div>"
      ],
      "text/plain": [
       "   I  and  cats  eggs  hate  like\n",
       "0  1    0     0     1     0     1\n",
       "1  1    0     1     0     1     0\n",
       "2  2    1     1     1     0     2"
      ]
     },
     "execution_count": 5,
     "metadata": {},
     "output_type": "execute_result"
    }
   ],
   "source": [
    "final_df"
   ]
  },
  {
   "cell_type": "markdown",
   "id": "22681f69-eea7-4fc8-ab90-8c80c6eaae39",
   "metadata": {},
   "source": [
    "## Using libraries"
   ]
  },
  {
   "cell_type": "code",
   "execution_count": 6,
   "id": "e11c4000-1b49-48e6-ad76-5d1e750db40b",
   "metadata": {},
   "outputs": [],
   "source": [
    "vectorizer = CountVectorizer()\n",
    "count_vector = vectorizer.fit_transform(df['Original Document'])\n",
    "\n",
    "# Convert the count vector to a dense array and get feature names\n",
    "count_vector_array = count_vector.toarray()\n",
    "feature_names = vectorizer.get_feature_names_out()\n",
    "\n",
    "df_count_vector = pd.DataFrame(count_vector_array, columns=feature_names)"
   ]
  },
  {
   "cell_type": "code",
   "execution_count": 7,
   "id": "cb84a082-f0f8-46c0-991c-6afd1d327218",
   "metadata": {},
   "outputs": [
    {
     "data": {
      "text/html": [
       "<div>\n",
       "<style scoped>\n",
       "    .dataframe tbody tr th:only-of-type {\n",
       "        vertical-align: middle;\n",
       "    }\n",
       "\n",
       "    .dataframe tbody tr th {\n",
       "        vertical-align: top;\n",
       "    }\n",
       "\n",
       "    .dataframe thead th {\n",
       "        text-align: right;\n",
       "    }\n",
       "</style>\n",
       "<table border=\"1\" class=\"dataframe\">\n",
       "  <thead>\n",
       "    <tr style=\"text-align: right;\">\n",
       "      <th></th>\n",
       "      <th>and</th>\n",
       "      <th>cats</th>\n",
       "      <th>eggs</th>\n",
       "      <th>hate</th>\n",
       "      <th>like</th>\n",
       "    </tr>\n",
       "  </thead>\n",
       "  <tbody>\n",
       "    <tr>\n",
       "      <th>0</th>\n",
       "      <td>0</td>\n",
       "      <td>0</td>\n",
       "      <td>1</td>\n",
       "      <td>0</td>\n",
       "      <td>1</td>\n",
       "    </tr>\n",
       "    <tr>\n",
       "      <th>1</th>\n",
       "      <td>0</td>\n",
       "      <td>1</td>\n",
       "      <td>0</td>\n",
       "      <td>1</td>\n",
       "      <td>0</td>\n",
       "    </tr>\n",
       "    <tr>\n",
       "      <th>2</th>\n",
       "      <td>1</td>\n",
       "      <td>1</td>\n",
       "      <td>1</td>\n",
       "      <td>0</td>\n",
       "      <td>2</td>\n",
       "    </tr>\n",
       "  </tbody>\n",
       "</table>\n",
       "</div>"
      ],
      "text/plain": [
       "   and  cats  eggs  hate  like\n",
       "0    0     0     1     0     1\n",
       "1    0     1     0     1     0\n",
       "2    1     1     1     0     2"
      ]
     },
     "execution_count": 7,
     "metadata": {},
     "output_type": "execute_result"
    }
   ],
   "source": [
    "df_count_vector"
   ]
  },
  {
   "cell_type": "code",
   "execution_count": null,
   "id": "f98a1bc6-5316-4563-a3ee-93ee885ef981",
   "metadata": {},
   "outputs": [],
   "source": []
  }
 ],
 "metadata": {
  "kernelspec": {
   "display_name": "Python 3 (ipykernel)",
   "language": "python",
   "name": "python3"
  },
  "language_info": {
   "codemirror_mode": {
    "name": "ipython",
    "version": 3
   },
   "file_extension": ".py",
   "mimetype": "text/x-python",
   "name": "python",
   "nbconvert_exporter": "python",
   "pygments_lexer": "ipython3",
   "version": "3.10.5"
  }
 },
 "nbformat": 4,
 "nbformat_minor": 5
}
