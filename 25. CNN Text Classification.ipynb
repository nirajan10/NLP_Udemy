{
 "cells": [
  {
   "cell_type": "code",
   "execution_count": 16,
   "id": "f7691570-a775-42aa-b7fc-24bf771b2d37",
   "metadata": {},
   "outputs": [],
   "source": [
    "import numpy as np\n",
    "import pandas as pd\n",
    "import tensorflow as tf\n",
    "import matplotlib.pyplot as plt\n",
    "from sklearn.model_selection import train_test_split\n",
    "\n",
    "from tensorflow.keras.preprocessing.text import Tokenizer\n",
    "from tensorflow.keras.preprocessing.sequence import pad_sequences\n",
    "from tensorflow.keras.layers import Input, Dense, Embedding, Conv1D, MaxPooling1D, GlobalMaxPooling1D\n",
    "from tensorflow.keras.models import Model\n",
    "from tensorflow.keras.losses import SparseCategoricalCrossentropy"
   ]
  },
  {
   "cell_type": "code",
   "execution_count": 2,
   "id": "56cb1fc0-010d-468e-9b9a-6aafab20adba",
   "metadata": {},
   "outputs": [],
   "source": [
    "df = pd.read_csv('datasets/bbc_text_cls.csv')"
   ]
  },
  {
   "cell_type": "code",
   "execution_count": 3,
   "id": "a2f7ed0e-4933-47b6-9200-5d64a2aeb403",
   "metadata": {},
   "outputs": [
    {
     "data": {
      "text/html": [
       "<div>\n",
       "<style scoped>\n",
       "    .dataframe tbody tr th:only-of-type {\n",
       "        vertical-align: middle;\n",
       "    }\n",
       "\n",
       "    .dataframe tbody tr th {\n",
       "        vertical-align: top;\n",
       "    }\n",
       "\n",
       "    .dataframe thead th {\n",
       "        text-align: right;\n",
       "    }\n",
       "</style>\n",
       "<table border=\"1\" class=\"dataframe\">\n",
       "  <thead>\n",
       "    <tr style=\"text-align: right;\">\n",
       "      <th></th>\n",
       "      <th>text</th>\n",
       "      <th>labels</th>\n",
       "    </tr>\n",
       "  </thead>\n",
       "  <tbody>\n",
       "    <tr>\n",
       "      <th>0</th>\n",
       "      <td>Ad sales boost Time Warner profit\\n\\nQuarterly...</td>\n",
       "      <td>business</td>\n",
       "    </tr>\n",
       "    <tr>\n",
       "      <th>1</th>\n",
       "      <td>Dollar gains on Greenspan speech\\n\\nThe dollar...</td>\n",
       "      <td>business</td>\n",
       "    </tr>\n",
       "    <tr>\n",
       "      <th>2</th>\n",
       "      <td>Yukos unit buyer faces loan claim\\n\\nThe owner...</td>\n",
       "      <td>business</td>\n",
       "    </tr>\n",
       "    <tr>\n",
       "      <th>3</th>\n",
       "      <td>High fuel prices hit BA's profits\\n\\nBritish A...</td>\n",
       "      <td>business</td>\n",
       "    </tr>\n",
       "    <tr>\n",
       "      <th>4</th>\n",
       "      <td>Pernod takeover talk lifts Domecq\\n\\nShares in...</td>\n",
       "      <td>business</td>\n",
       "    </tr>\n",
       "  </tbody>\n",
       "</table>\n",
       "</div>"
      ],
      "text/plain": [
       "                                                text    labels\n",
       "0  Ad sales boost Time Warner profit\\n\\nQuarterly...  business\n",
       "1  Dollar gains on Greenspan speech\\n\\nThe dollar...  business\n",
       "2  Yukos unit buyer faces loan claim\\n\\nThe owner...  business\n",
       "3  High fuel prices hit BA's profits\\n\\nBritish A...  business\n",
       "4  Pernod takeover talk lifts Domecq\\n\\nShares in...  business"
      ]
     },
     "execution_count": 3,
     "metadata": {},
     "output_type": "execute_result"
    }
   ],
   "source": [
    "df.head()"
   ]
  },
  {
   "cell_type": "code",
   "execution_count": 4,
   "id": "491bf6e0-1963-431c-9685-2643c95c1d81",
   "metadata": {},
   "outputs": [],
   "source": [
    "df['target'] = df['labels'].astype('category').cat.codes"
   ]
  },
  {
   "cell_type": "code",
   "execution_count": 5,
   "id": "7deeb5ae-f29c-4d48-a236-add9e5d99e32",
   "metadata": {},
   "outputs": [
    {
     "data": {
      "text/plain": [
       "5"
      ]
     },
     "execution_count": 5,
     "metadata": {},
     "output_type": "execute_result"
    }
   ],
   "source": [
    "# Number of classes\n",
    "K = df['target'].max() + 1\n",
    "K"
   ]
  },
  {
   "cell_type": "code",
   "execution_count": 6,
   "id": "85df263e-6b9d-4b86-9e87-f5257292cd15",
   "metadata": {},
   "outputs": [],
   "source": [
    "X = df['text']\n",
    "y = df['target']"
   ]
  },
  {
   "cell_type": "code",
   "execution_count": 7,
   "id": "de74a10e-786e-4214-a3fc-57f6fd51d8e2",
   "metadata": {},
   "outputs": [],
   "source": [
    "X_train, X_test, y_train, y_test = train_test_split(X, y, test_size=0.2)"
   ]
  },
  {
   "cell_type": "code",
   "execution_count": 8,
   "id": "b50cb156-e399-41d4-be77-f3a7c77c99c1",
   "metadata": {},
   "outputs": [],
   "source": [
    "# Convert text to sequence\n",
    "MAX_VOCAB_SIZE = 2000\n",
    "tokenizer = Tokenizer(num_words=MAX_VOCAB_SIZE)\n",
    "tokenizer.fit_on_texts(X_train)\n",
    "X_train = tokenizer.texts_to_sequences(X_train)\n",
    "X_test = tokenizer.texts_to_sequences(X_test)"
   ]
  },
  {
   "cell_type": "code",
   "execution_count": 9,
   "id": "d2496228-549f-4c66-9a4f-42c040c436ab",
   "metadata": {},
   "outputs": [
    {
     "name": "stdout",
     "output_type": "stream",
     "text": [
      "Found 29505 unique tokens.\n"
     ]
    }
   ],
   "source": [
    "# Get word-to-integer mapping\n",
    "word2idx = tokenizer.word_index\n",
    "V = len(word2idx)\n",
    "print(f'Found {V} unique tokens.')"
   ]
  },
  {
   "cell_type": "code",
   "execution_count": 10,
   "id": "1608d237-e433-4570-b241-80b29a301b9a",
   "metadata": {},
   "outputs": [
    {
     "name": "stdout",
     "output_type": "stream",
     "text": [
      "Shape of data train tensor:  (1780, 3483)\n"
     ]
    }
   ],
   "source": [
    "# Pad sequence so that we get N * T matrix\n",
    "X_train = pad_sequences(X_train)\n",
    "print('Shape of data train tensor: ', X_train.shape)"
   ]
  },
  {
   "cell_type": "code",
   "execution_count": 11,
   "id": "93b86c1e-fb34-4b1d-8c64-c2f4aae22e66",
   "metadata": {},
   "outputs": [],
   "source": [
    "# Get sequence length\n",
    "T = X_train.shape[1]"
   ]
  },
  {
   "cell_type": "code",
   "execution_count": 12,
   "id": "b0c3fc28-1327-4d40-83b1-835ce9421d6b",
   "metadata": {},
   "outputs": [
    {
     "name": "stdout",
     "output_type": "stream",
     "text": [
      "Shape of data test tensor:  (445, 3483)\n"
     ]
    }
   ],
   "source": [
    "X_test = pad_sequences(X_test, maxlen=T)\n",
    "print('Shape of data test tensor: ', X_test.shape)"
   ]
  },
  {
   "cell_type": "code",
   "execution_count": 17,
   "id": "3128cd25-f875-4759-9e6e-a45f024c4ea9",
   "metadata": {},
   "outputs": [],
   "source": [
    "# Create the model\n",
    "\n",
    "# We get to choose embedding dimensionality\n",
    "D = 50\n",
    "\n",
    "# Note: we actually want to the size of the embedding to (V + 1) x D,\n",
    "# because the first index starts from 1 and not 0.\n",
    "# Thus, if the final index of the embedding matrix is V,\n",
    "# then it actually must have size V + 1.\n",
    "\n",
    "i = Input(shape=(T,))\n",
    "x = Embedding(V+1, D)(i)\n",
    "x = Conv1D(32, 3, activation='relu')(x)\n",
    "# x = MaxPooling1D(3)(x)\n",
    "# x = Conv1D(64, 3, activation='relu')(x)\n",
    "# x = MaxPooling1D(3)(x)\n",
    "# x = Conv1D(128, 3, activation='relu')(x)\n",
    "x = GlobalMaxPooling1D()(x)\n",
    "x = Dense(K)(x)\n",
    "\n",
    "model = Model(i, x)"
   ]
  },
  {
   "cell_type": "code",
   "execution_count": 18,
   "id": "2965ec23-3c1e-4585-8e17-34e62df7f414",
   "metadata": {
    "scrolled": true
   },
   "outputs": [
    {
     "name": "stdout",
     "output_type": "stream",
     "text": [
      "WARNING:tensorflow:From C:\\Users\\Nirajan\\Desktop\\Artificial Intelligence\\NLP_Udemy\\env\\lib\\site-packages\\keras\\src\\optimizers\\__init__.py:309: The name tf.train.Optimizer is deprecated. Please use tf.compat.v1.train.Optimizer instead.\n",
      "\n",
      "Epoch 1/50\n",
      "WARNING:tensorflow:From C:\\Users\\Nirajan\\Desktop\\Artificial Intelligence\\NLP_Udemy\\env\\lib\\site-packages\\keras\\src\\utils\\tf_utils.py:492: The name tf.ragged.RaggedTensorValue is deprecated. Please use tf.compat.v1.ragged.RaggedTensorValue instead.\n",
      "\n",
      "WARNING:tensorflow:From C:\\Users\\Nirajan\\Desktop\\Artificial Intelligence\\NLP_Udemy\\env\\lib\\site-packages\\keras\\src\\engine\\base_layer_utils.py:384: The name tf.executing_eagerly_outside_functions is deprecated. Please use tf.compat.v1.executing_eagerly_outside_functions instead.\n",
      "\n",
      "56/56 [==============================] - 5s 68ms/step - loss: 1.5614 - accuracy: 0.3871 - val_loss: 1.4536 - val_accuracy: 0.6225\n",
      "Epoch 2/50\n",
      "56/56 [==============================] - 4s 65ms/step - loss: 1.2731 - accuracy: 0.7865 - val_loss: 1.0179 - val_accuracy: 0.9011\n",
      "Epoch 3/50\n",
      "56/56 [==============================] - 4s 66ms/step - loss: 0.7437 - accuracy: 0.9169 - val_loss: 0.4992 - val_accuracy: 0.9461\n",
      "Epoch 4/50\n",
      "56/56 [==============================] - 4s 65ms/step - loss: 0.3657 - accuracy: 0.9416 - val_loss: 0.2805 - val_accuracy: 0.9506\n",
      "Epoch 5/50\n",
      "56/56 [==============================] - 4s 65ms/step - loss: 0.2196 - accuracy: 0.9584 - val_loss: 0.1998 - val_accuracy: 0.9618\n",
      "Epoch 6/50\n",
      "56/56 [==============================] - 4s 66ms/step - loss: 0.1480 - accuracy: 0.9736 - val_loss: 0.1602 - val_accuracy: 0.9685\n",
      "Epoch 7/50\n",
      "56/56 [==============================] - 4s 66ms/step - loss: 0.1036 - accuracy: 0.9815 - val_loss: 0.1372 - val_accuracy: 0.9663\n",
      "Epoch 8/50\n",
      "56/56 [==============================] - 4s 66ms/step - loss: 0.0738 - accuracy: 0.9910 - val_loss: 0.1240 - val_accuracy: 0.9708\n",
      "Epoch 9/50\n",
      "56/56 [==============================] - 5s 95ms/step - loss: 0.0538 - accuracy: 0.9949 - val_loss: 0.1124 - val_accuracy: 0.9708\n",
      "Epoch 10/50\n",
      "56/56 [==============================] - 5s 95ms/step - loss: 0.0401 - accuracy: 0.9994 - val_loss: 0.1061 - val_accuracy: 0.9685\n",
      "Epoch 11/50\n",
      "56/56 [==============================] - 4s 78ms/step - loss: 0.0304 - accuracy: 0.9994 - val_loss: 0.1007 - val_accuracy: 0.9708\n",
      "Epoch 12/50\n",
      "56/56 [==============================] - 4s 71ms/step - loss: 0.0233 - accuracy: 0.9994 - val_loss: 0.0967 - val_accuracy: 0.9730\n",
      "Epoch 13/50\n",
      "56/56 [==============================] - 4s 70ms/step - loss: 0.0184 - accuracy: 0.9994 - val_loss: 0.0940 - val_accuracy: 0.9730\n",
      "Epoch 14/50\n",
      "56/56 [==============================] - 4s 70ms/step - loss: 0.0149 - accuracy: 1.0000 - val_loss: 0.0917 - val_accuracy: 0.9775\n",
      "Epoch 15/50\n",
      "56/56 [==============================] - 4s 71ms/step - loss: 0.0122 - accuracy: 1.0000 - val_loss: 0.0887 - val_accuracy: 0.9753\n",
      "Epoch 16/50\n",
      "56/56 [==============================] - 4s 69ms/step - loss: 0.0101 - accuracy: 1.0000 - val_loss: 0.0873 - val_accuracy: 0.9730\n",
      "Epoch 17/50\n",
      "56/56 [==============================] - 5s 82ms/step - loss: 0.0086 - accuracy: 1.0000 - val_loss: 0.0866 - val_accuracy: 0.9753\n",
      "Epoch 18/50\n",
      "56/56 [==============================] - 4s 76ms/step - loss: 0.0074 - accuracy: 1.0000 - val_loss: 0.0850 - val_accuracy: 0.9753\n",
      "Epoch 19/50\n",
      "56/56 [==============================] - 5s 93ms/step - loss: 0.0064 - accuracy: 1.0000 - val_loss: 0.0844 - val_accuracy: 0.9753\n",
      "Epoch 20/50\n",
      "56/56 [==============================] - 5s 89ms/step - loss: 0.0055 - accuracy: 1.0000 - val_loss: 0.0834 - val_accuracy: 0.9753\n",
      "Epoch 21/50\n",
      "56/56 [==============================] - 5s 86ms/step - loss: 0.0049 - accuracy: 1.0000 - val_loss: 0.0831 - val_accuracy: 0.9753\n",
      "Epoch 22/50\n",
      "56/56 [==============================] - 5s 97ms/step - loss: 0.0043 - accuracy: 1.0000 - val_loss: 0.0827 - val_accuracy: 0.9753\n",
      "Epoch 23/50\n",
      "56/56 [==============================] - 6s 103ms/step - loss: 0.0038 - accuracy: 1.0000 - val_loss: 0.0819 - val_accuracy: 0.9753\n",
      "Epoch 24/50\n",
      "56/56 [==============================] - 4s 75ms/step - loss: 0.0034 - accuracy: 1.0000 - val_loss: 0.0813 - val_accuracy: 0.9775\n",
      "Epoch 25/50\n",
      "56/56 [==============================] - 5s 82ms/step - loss: 0.0031 - accuracy: 1.0000 - val_loss: 0.0813 - val_accuracy: 0.9775\n",
      "Epoch 26/50\n",
      "56/56 [==============================] - 4s 70ms/step - loss: 0.0028 - accuracy: 1.0000 - val_loss: 0.0807 - val_accuracy: 0.9775\n",
      "Epoch 27/50\n",
      "56/56 [==============================] - 4s 73ms/step - loss: 0.0026 - accuracy: 1.0000 - val_loss: 0.0809 - val_accuracy: 0.9775\n",
      "Epoch 28/50\n",
      "56/56 [==============================] - 5s 85ms/step - loss: 0.0023 - accuracy: 1.0000 - val_loss: 0.0808 - val_accuracy: 0.9775\n",
      "Epoch 29/50\n",
      "56/56 [==============================] - 4s 77ms/step - loss: 0.0021 - accuracy: 1.0000 - val_loss: 0.0804 - val_accuracy: 0.9775\n",
      "Epoch 30/50\n",
      "56/56 [==============================] - 4s 76ms/step - loss: 0.0019 - accuracy: 1.0000 - val_loss: 0.0805 - val_accuracy: 0.9775\n",
      "Epoch 31/50\n",
      "56/56 [==============================] - 4s 73ms/step - loss: 0.0018 - accuracy: 1.0000 - val_loss: 0.0803 - val_accuracy: 0.9775\n",
      "Epoch 32/50\n",
      "56/56 [==============================] - 4s 68ms/step - loss: 0.0017 - accuracy: 1.0000 - val_loss: 0.0799 - val_accuracy: 0.9775\n",
      "Epoch 33/50\n",
      "56/56 [==============================] - 4s 64ms/step - loss: 0.0015 - accuracy: 1.0000 - val_loss: 0.0800 - val_accuracy: 0.9775\n",
      "Epoch 34/50\n",
      "56/56 [==============================] - 4s 63ms/step - loss: 0.0014 - accuracy: 1.0000 - val_loss: 0.0798 - val_accuracy: 0.9775\n",
      "Epoch 35/50\n",
      "56/56 [==============================] - 4s 64ms/step - loss: 0.0013 - accuracy: 1.0000 - val_loss: 0.0799 - val_accuracy: 0.9775\n",
      "Epoch 36/50\n",
      "56/56 [==============================] - 4s 63ms/step - loss: 0.0012 - accuracy: 1.0000 - val_loss: 0.0799 - val_accuracy: 0.9775\n",
      "Epoch 37/50\n",
      "56/56 [==============================] - 4s 64ms/step - loss: 0.0011 - accuracy: 1.0000 - val_loss: 0.0797 - val_accuracy: 0.9775\n",
      "Epoch 38/50\n",
      "56/56 [==============================] - 5s 81ms/step - loss: 0.0011 - accuracy: 1.0000 - val_loss: 0.0798 - val_accuracy: 0.9775\n",
      "Epoch 39/50\n",
      "56/56 [==============================] - 4s 72ms/step - loss: 9.9531e-04 - accuracy: 1.0000 - val_loss: 0.0798 - val_accuracy: 0.9775\n",
      "Epoch 40/50\n",
      "56/56 [==============================] - 4s 72ms/step - loss: 9.3185e-04 - accuracy: 1.0000 - val_loss: 0.0799 - val_accuracy: 0.9775\n",
      "Epoch 41/50\n",
      "56/56 [==============================] - 4s 72ms/step - loss: 8.7376e-04 - accuracy: 1.0000 - val_loss: 0.0801 - val_accuracy: 0.9775\n",
      "Epoch 42/50\n",
      "56/56 [==============================] - 4s 73ms/step - loss: 8.2196e-04 - accuracy: 1.0000 - val_loss: 0.0798 - val_accuracy: 0.9775\n",
      "Epoch 43/50\n",
      "56/56 [==============================] - 4s 72ms/step - loss: 7.7227e-04 - accuracy: 1.0000 - val_loss: 0.0799 - val_accuracy: 0.9775\n",
      "Epoch 44/50\n",
      "56/56 [==============================] - 4s 73ms/step - loss: 7.2565e-04 - accuracy: 1.0000 - val_loss: 0.0800 - val_accuracy: 0.9775\n",
      "Epoch 45/50\n",
      "56/56 [==============================] - 4s 73ms/step - loss: 6.8459e-04 - accuracy: 1.0000 - val_loss: 0.0800 - val_accuracy: 0.9775\n",
      "Epoch 46/50\n",
      "56/56 [==============================] - 4s 72ms/step - loss: 6.4606e-04 - accuracy: 1.0000 - val_loss: 0.0799 - val_accuracy: 0.9775\n",
      "Epoch 47/50\n",
      "56/56 [==============================] - 4s 72ms/step - loss: 6.0983e-04 - accuracy: 1.0000 - val_loss: 0.0801 - val_accuracy: 0.9753\n",
      "Epoch 48/50\n",
      "56/56 [==============================] - 5s 82ms/step - loss: 5.7658e-04 - accuracy: 1.0000 - val_loss: 0.0802 - val_accuracy: 0.9753\n",
      "Epoch 49/50\n",
      "56/56 [==============================] - 4s 73ms/step - loss: 5.4490e-04 - accuracy: 1.0000 - val_loss: 0.0801 - val_accuracy: 0.9775\n",
      "Epoch 50/50\n",
      "56/56 [==============================] - 4s 69ms/step - loss: 5.1648e-04 - accuracy: 1.0000 - val_loss: 0.0802 - val_accuracy: 0.9753\n"
     ]
    }
   ],
   "source": [
    "# Compile and fit\n",
    "model.compile(\n",
    "    loss = SparseCategoricalCrossentropy(from_logits=True),\n",
    "    optimizer = 'adam',\n",
    "    metrics = ['accuracy']\n",
    ")\n",
    "\n",
    "r = model.fit(\n",
    "    X_train, y_train,\n",
    "    validation_data=(X_test, y_test),\n",
    "    batch_size=32,\n",
    "    epochs=50\n",
    ")"
   ]
  },
  {
   "cell_type": "code",
   "execution_count": 19,
   "id": "d02d010d-add8-444f-a7e0-d2d7a052b1de",
   "metadata": {},
   "outputs": [
    {
     "data": {
      "image/png": "[encoded data removed]",
      "text/plain": [
       "<Figure size 640x480 with 1 Axes>"
      ]
     },
     "metadata": {},
     "output_type": "display_data"
    }
   ],
   "source": [
    "# Plot loss per iteration\n",
    "plt.plot(r.history['loss'], label='train loss')\n",
    "plt.plot(r.history['val_loss'], label='val loss')\n",
    "plt.legend();"
   ]
  },
  {
   "cell_type": "code",
   "execution_count": 20,
   "id": "da67efab-3adb-4416-8487-502d5d864b99",
   "metadata": {},
   "outputs": [
    {
     "data": {
      "image/png": "[encoded data removed]",
      "text/plain": [
       "<Figure size 640x480 with 1 Axes>"
      ]
     },
     "metadata": {},
     "output_type": "display_data"
    }
   ],
   "source": [
    "# Plot accuracy per iteration\n",
    "plt.plot(r.history['accuracy'], label='train acc')\n",
    "plt.plot(r.history['val_accuracy'], label='val acc')\n",
    "plt.legend();"
   ]
  },
  {
   "cell_type": "code",
   "execution_count": null,
   "id": "a8853592-91d0-4b61-a6ac-a89923b927b9",
   "metadata": {},
   "outputs": [],
   "source": []
  }
 ],
 "metadata": {
  "kernelspec": {
   "display_name": "Python 3 (ipykernel)",
   "language": "python",
   "name": "python3"
  },
  "language_info": {
   "codemirror_mode": {
    "name": "ipython",
    "version": 3
   },
   "file_extension": ".py",
   "mimetype": "text/x-python",
   "name": "python",
   "nbconvert_exporter": "python",
   "pygments_lexer": "ipython3",
   "version": "3.10.5"
  }
 },
 "nbformat": 4,
 "nbformat_minor": 5
}
