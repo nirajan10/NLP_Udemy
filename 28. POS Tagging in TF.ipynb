{
 "cells": [
  {
   "cell_type": "code",
   "execution_count": 1,
   "id": "5e054b75-4533-4909-a520-0c654bafecad",
   "metadata": {},
   "outputs": [],
   "source": [
    "import nltk\n",
    "from nltk.corpus import brown"
   ]
  },
  {
   "cell_type": "code",
   "execution_count": 2,
   "id": "5549c427-07e0-4587-aca7-997e558c4917",
   "metadata": {},
   "outputs": [
    {
     "name": "stderr",
     "output_type": "stream",
     "text": [
      "[nltk_data] Downloading package brown to\n",
      "[nltk_data]     C:\\Users\\Nirajan\\AppData\\Roaming\\nltk_data...\n",
      "[nltk_data]   Package brown is already up-to-date!\n",
      "[nltk_data] Downloading package universal_tagset to\n",
      "[nltk_data]     C:\\Users\\Nirajan\\AppData\\Roaming\\nltk_data...\n",
      "[nltk_data]   Package universal_tagset is already up-to-date!\n"
     ]
    },
    {
     "data": {
      "text/plain": [
       "True"
      ]
     },
     "execution_count": 2,
     "metadata": {},
     "output_type": "execute_result"
    }
   ],
   "source": [
    "nltk.download('brown')\n",
    "nltk.download('universal_tagset')"
   ]
  },
  {
   "cell_type": "code",
   "execution_count": 3,
   "id": "75caa514-9c72-4d40-b645-cf9c8b00a165",
   "metadata": {},
   "outputs": [],
   "source": [
    "corpus = brown.tagged_sents(tagset='universal')"
   ]
  },
  {
   "cell_type": "code",
   "execution_count": 4,
   "id": "96ad0663-e087-423e-a052-5a73b705305c",
   "metadata": {},
   "outputs": [
    {
     "data": {
      "text/plain": [
       "[[('The', 'DET'), ('Fulton', 'NOUN'), ('County', 'NOUN'), ('Grand', 'ADJ'), ('Jury', 'NOUN'), ('said', 'VERB'), ('Friday', 'NOUN'), ('an', 'DET'), ('investigation', 'NOUN'), ('of', 'ADP'), (\"Atlanta's\", 'NOUN'), ('recent', 'ADJ'), ('primary', 'NOUN'), ('election', 'NOUN'), ('produced', 'VERB'), ('``', '.'), ('no', 'DET'), ('evidence', 'NOUN'), (\"''\", '.'), ('that', 'ADP'), ('any', 'DET'), ('irregularities', 'NOUN'), ('took', 'VERB'), ('place', 'NOUN'), ('.', '.')], [('The', 'DET'), ('jury', 'NOUN'), ('further', 'ADV'), ('said', 'VERB'), ('in', 'ADP'), ('term-end', 'NOUN'), ('presentments', 'NOUN'), ('that', 'ADP'), ('the', 'DET'), ('City', 'NOUN'), ('Executive', 'ADJ'), ('Committee', 'NOUN'), (',', '.'), ('which', 'DET'), ('had', 'VERB'), ('over-all', 'ADJ'), ('charge', 'NOUN'), ('of', 'ADP'), ('the', 'DET'), ('election', 'NOUN'), (',', '.'), ('``', '.'), ('deserves', 'VERB'), ('the', 'DET'), ('praise', 'NOUN'), ('and', 'CONJ'), ('thanks', 'NOUN'), ('of', 'ADP'), ('the', 'DET'), ('City', 'NOUN'), ('of', 'ADP'), ('Atlanta', 'NOUN'), (\"''\", '.'), ('for', 'ADP'), ('the', 'DET'), ('manner', 'NOUN'), ('in', 'ADP'), ('which', 'DET'), ('the', 'DET'), ('election', 'NOUN'), ('was', 'VERB'), ('conducted', 'VERB'), ('.', '.')], ...]"
      ]
     },
     "execution_count": 4,
     "metadata": {},
     "output_type": "execute_result"
    }
   ],
   "source": [
    "corpus"
   ]
  },
  {
   "cell_type": "code",
   "execution_count": 5,
   "id": "6597d855-9b1b-432e-aa3a-dc4fe9f4169d",
   "metadata": {},
   "outputs": [
    {
     "data": {
      "text/plain": [
       "57340"
      ]
     },
     "execution_count": 5,
     "metadata": {},
     "output_type": "execute_result"
    }
   ],
   "source": [
    "len(corpus)"
   ]
  },
  {
   "cell_type": "code",
   "execution_count": 6,
   "id": "ac29c301-648f-432e-aed7-b42fa5422746",
   "metadata": {},
   "outputs": [],
   "source": [
    "inputs = []\n",
    "targets = []\n",
    "\n",
    "for sentence_tag_pairs in corpus:\n",
    "    tokens = []\n",
    "    target = []\n",
    "    for token, tag in sentence_tag_pairs:\n",
    "        tokens.append(token)\n",
    "        target.append(tag)\n",
    "    inputs.append(tokens)\n",
    "    targets.append(target)"
   ]
  },
  {
   "cell_type": "code",
   "execution_count": 7,
   "id": "3bdfc233-f6f5-450a-8cdf-5733c19bd9d7",
   "metadata": {},
   "outputs": [],
   "source": [
    "import numpy as np\n",
    "import pandas as pd\n",
    "import matplotlib.pyplot as plt\n",
    "import tensorflow as tf\n",
    "from sklearn.model_selection import train_test_split\n",
    "\n",
    "from tensorflow.keras.preprocessing.text import Tokenizer\n",
    "from tensorflow.keras.preprocessing.sequence import pad_sequences\n",
    "from tensorflow.keras.layers import Dense, Input, Bidirectional\n",
    "from tensorflow.keras.layers import LSTM, GRU, SimpleRNN, Embedding\n",
    "from tensorflow.keras.models import Model\n",
    "from tensorflow.keras.losses import SparseCategoricalCrossentropy"
   ]
  },
  {
   "cell_type": "code",
   "execution_count": 8,
   "id": "01c65d3d-6008-4f96-94e2-f4845c4d3670",
   "metadata": {},
   "outputs": [],
   "source": [
    "X_train_, X_test_, y_train_, y_test_ = train_test_split(inputs, targets, test_size=0.3)"
   ]
  },
  {
   "cell_type": "code",
   "execution_count": 9,
   "id": "aaa39350-6076-40b4-a2e2-44340d2d5289",
   "metadata": {},
   "outputs": [],
   "source": [
    "# Convert sentences to sequence\n",
    "MAX_VOCAB_SIZE = None\n",
    "\n",
    "# Capatalization might be useful\n",
    "should_lowercase = False\n",
    "\n",
    "tokenizer = Tokenizer(\n",
    "    num_words=MAX_VOCAB_SIZE, \n",
    "    lower=should_lowercase,\n",
    "    oov_token='UNK'\n",
    ")\n",
    "# otherwise unknown tokens will be removed and len(input) != len(target)\n",
    "# input words and target words will not be aligned!\n",
    "\n",
    "tokenizer.fit_on_texts(X_train_)\n",
    "X_train_unpadded = tokenizer.texts_to_sequences(X_train_)\n",
    "X_test_unpadded = tokenizer.texts_to_sequences(X_test_)"
   ]
  },
  {
   "cell_type": "code",
   "execution_count": 10,
   "id": "c278be25-caae-4ccd-b66a-394248525e1b",
   "metadata": {},
   "outputs": [
    {
     "name": "stdout",
     "output_type": "stream",
     "text": [
      "Found 47396 unique tokens.\n"
     ]
    }
   ],
   "source": [
    "# Get word - index mapping\n",
    "word2idx = tokenizer.word_index\n",
    "V = len(word2idx)\n",
    "print(f'Found {V} unique tokens.')"
   ]
  },
  {
   "cell_type": "code",
   "execution_count": 11,
   "id": "49c2c018-b898-49ad-ac3e-2537ba7a0549",
   "metadata": {},
   "outputs": [],
   "source": [
    "# https://stackoverflow.com/questions/11264684/flatten-list-of-lists\n",
    "def flatten(list_of_lists):\n",
    "  flattened = [val for sublist in list_of_lists for val in sublist]\n",
    "  return flattened"
   ]
  },
  {
   "cell_type": "code",
   "execution_count": 12,
   "id": "0084df1d-9203-4926-869b-18c15b0a029f",
   "metadata": {},
   "outputs": [
    {
     "data": {
      "text/plain": [
       "{'.',\n",
       " 'ADJ',\n",
       " 'ADP',\n",
       " 'ADV',\n",
       " 'CONJ',\n",
       " 'DET',\n",
       " 'NOUN',\n",
       " 'NUM',\n",
       " 'PRON',\n",
       " 'PRT',\n",
       " 'VERB',\n",
       " 'X'}"
      ]
     },
     "execution_count": 12,
     "metadata": {},
     "output_type": "execute_result"
    }
   ],
   "source": [
    "all_train_targets = set(flatten(y_train_))\n",
    "all_train_targets"
   ]
  },
  {
   "cell_type": "code",
   "execution_count": 13,
   "id": "1056829b-9007-4b96-91ae-ec27e6c4f24a",
   "metadata": {},
   "outputs": [
    {
     "data": {
      "text/plain": [
       "{'.',\n",
       " 'ADJ',\n",
       " 'ADP',\n",
       " 'ADV',\n",
       " 'CONJ',\n",
       " 'DET',\n",
       " 'NOUN',\n",
       " 'NUM',\n",
       " 'PRON',\n",
       " 'PRT',\n",
       " 'VERB',\n",
       " 'X'}"
      ]
     },
     "execution_count": 13,
     "metadata": {},
     "output_type": "execute_result"
    }
   ],
   "source": [
    "all_test_targets = set(flatten(y_test_))\n",
    "all_test_targets"
   ]
  },
  {
   "cell_type": "code",
   "execution_count": 14,
   "id": "683c0ebd-6055-41f4-b42e-a25bf77e67a8",
   "metadata": {},
   "outputs": [
    {
     "data": {
      "text/plain": [
       "True"
      ]
     },
     "execution_count": 14,
     "metadata": {},
     "output_type": "execute_result"
    }
   ],
   "source": [
    "all_train_targets == all_test_targets"
   ]
  },
  {
   "cell_type": "code",
   "execution_count": 15,
   "id": "add0e23f-3790-415d-9847-d95cead1abb5",
   "metadata": {},
   "outputs": [],
   "source": [
    "# Convert targets to sequences\n",
    "tag_tokenizer = Tokenizer()\n",
    "tag_tokenizer.fit_on_texts(y_train_)\n",
    "y_train = tag_tokenizer.texts_to_sequences(y_train_)\n",
    "y_test = tag_tokenizer.texts_to_sequences(y_test_)\n",
    "\n",
    "# save for later\n",
    "y_train_unpadded = y_train\n",
    "y_test_unpadded = y_test"
   ]
  },
  {
   "cell_type": "code",
   "execution_count": 16,
   "id": "e33d2751-d72c-4015-9957-a71c554f3d3f",
   "metadata": {},
   "outputs": [],
   "source": [
    "# before padding, find max document length\n",
    "# because we don't want to truncate any inputs\n",
    "# which would also truncate targets\n",
    "\n",
    "maxlen_train = max(len(sent) for sent in X_train_)\n",
    "maxlen_test = max(len(sent) for sent in X_test_)\n",
    "T = max((maxlen_train, maxlen_test))"
   ]
  },
  {
   "cell_type": "code",
   "execution_count": 17,
   "id": "6cd7ce4c-d89e-4422-894b-672e6f0930d0",
   "metadata": {},
   "outputs": [
    {
     "name": "stdout",
     "output_type": "stream",
     "text": [
      "Shape of data train tensor: (40138, 180)\n"
     ]
    }
   ],
   "source": [
    "# pad sequences so that we get a N x T matrix\n",
    "X_train = pad_sequences(X_train_unpadded, maxlen=T)\n",
    "print('Shape of data train tensor:', X_train.shape)"
   ]
  },
  {
   "cell_type": "code",
   "execution_count": 18,
   "id": "16f845f4-bf58-477a-ba44-1de5a85be9b9",
   "metadata": {},
   "outputs": [
    {
     "name": "stdout",
     "output_type": "stream",
     "text": [
      "Shape of data test tensor: (17202, 180)\n"
     ]
    }
   ],
   "source": [
    "X_test = pad_sequences(X_test_unpadded, maxlen=T)\n",
    "print('Shape of data test tensor:', X_test.shape)"
   ]
  },
  {
   "cell_type": "code",
   "execution_count": 19,
   "id": "9ea45ed7-9ecc-40be-bd30-bd53ab525227",
   "metadata": {},
   "outputs": [
    {
     "name": "stdout",
     "output_type": "stream",
     "text": [
      "Shape of train targets tensor: (40138, 180)\n"
     ]
    }
   ],
   "source": [
    "y_train = pad_sequences(y_train, maxlen=T)\n",
    "print('Shape of train targets tensor:', y_train.shape)"
   ]
  },
  {
   "cell_type": "code",
   "execution_count": 20,
   "id": "2eacf2f7-5fad-4dbc-ba18-d911e5e20a71",
   "metadata": {},
   "outputs": [
    {
     "name": "stdout",
     "output_type": "stream",
     "text": [
      "Shape of test targets tensor: (17202, 180)\n"
     ]
    }
   ],
   "source": [
    "y_test = pad_sequences(y_test, maxlen=T)\n",
    "print('Shape of test targets tensor:', y_test.shape)"
   ]
  },
  {
   "cell_type": "code",
   "execution_count": 21,
   "id": "2dce7884-20cd-4621-ae03-69deea32d76d",
   "metadata": {},
   "outputs": [
    {
     "data": {
      "text/plain": [
       "13"
      ]
     },
     "execution_count": 21,
     "metadata": {},
     "output_type": "execute_result"
    }
   ],
   "source": [
    "# number of classes\n",
    "K = len(tag_tokenizer.word_index) + 1\n",
    "K"
   ]
  },
  {
   "cell_type": "code",
   "execution_count": 22,
   "id": "3e313cda-7b45-4d5e-925e-d4c5d3242ce2",
   "metadata": {},
   "outputs": [],
   "source": [
    "# Create a model\n",
    "\n",
    "# We get to choose embedding dimensionality\n",
    "D = 32\n",
    "\n",
    "i = Input(shape=(T,))\n",
    "# mask_zero=True way slower on GPU than CPU\n",
    "x = Embedding(V+1, D, mask_zero=True)(i)\n",
    "x = Bidirectional(LSTM(32, return_sequences=True))(x)\n",
    "x = Dense(K)(x)\n",
    "\n",
    "model = Model(i, x)"
   ]
  },
  {
   "cell_type": "code",
   "execution_count": 23,
   "id": "a9fa72b1-bae9-4a0e-8935-1a40b0dbd8f6",
   "metadata": {},
   "outputs": [
    {
     "name": "stdout",
     "output_type": "stream",
     "text": [
      "Epoch 1/5\n",
      "1255/1255 [==============================] - 153s 117ms/step - loss: 0.0534 - accuracy: 0.8574 - val_loss: 0.0122 - val_accuracy: 0.9668\n",
      "Epoch 2/5\n",
      "1255/1255 [==============================] - 151s 120ms/step - loss: 0.0079 - accuracy: 0.9783 - val_loss: 0.0099 - val_accuracy: 0.9719\n",
      "Epoch 3/5\n",
      "1255/1255 [==============================] - 147s 117ms/step - loss: 0.0049 - accuracy: 0.9863 - val_loss: 0.0095 - val_accuracy: 0.9734\n",
      "Epoch 4/5\n",
      "1255/1255 [==============================] - 174s 139ms/step - loss: 0.0037 - accuracy: 0.9897 - val_loss: 0.0099 - val_accuracy: 0.9735\n",
      "Epoch 5/5\n",
      "1255/1255 [==============================] - 168s 134ms/step - loss: 0.0029 - accuracy: 0.9919 - val_loss: 0.0104 - val_accuracy: 0.9731\n"
     ]
    }
   ],
   "source": [
    "# Compile and fit\n",
    "model.compile(\n",
    "    loss = SparseCategoricalCrossentropy(from_logits=True),\n",
    "    optimizer = 'adam',\n",
    "    metrics = ['accuracy']\n",
    ")\n",
    "\n",
    "# NOTE: you \"could\" speed this up by creating a custom loss, since Tensorflow's\n",
    "# implementation of mask_zero currently sucks, but it's sufficiently advanced\n",
    "# to be outside the scope of this course\n",
    "# In my experiments, CPU is faster than GPU in all cases, and CPU for custom\n",
    "# loss is faster than CPU for mask_zero\n",
    "\n",
    "# > 300-400s per epoch on CPU\n",
    "# > 30 MINUTES per epoch on GPU\n",
    "\n",
    "r = model.fit(\n",
    "    X_train, y_train,\n",
    "    validation_data=(X_test, y_test),\n",
    "    batch_size=32,\n",
    "    epochs=5\n",
    ")"
   ]
  },
  {
   "cell_type": "code",
   "execution_count": 24,
   "id": "17820342-8c5d-440f-b09e-8992420e7f78",
   "metadata": {},
   "outputs": [
    {
     "data": {
      "image/png": "[encoded data removed]",
      "text/plain": [
       "<Figure size 640x480 with 1 Axes>"
      ]
     },
     "metadata": {},
     "output_type": "display_data"
    }
   ],
   "source": [
    "# Plot loss per iteration\n",
    "plt.plot(r.history['loss'], label='train loss')\n",
    "plt.plot(r.history['val_loss'], label='val loss')\n",
    "plt.legend();"
   ]
  },
  {
   "cell_type": "code",
   "execution_count": 25,
   "id": "649811e8-9948-4d1b-8900-0fcaddc617bc",
   "metadata": {},
   "outputs": [
    {
     "data": {
      "image/png": "[encoded data removed]",
      "text/plain": [
       "<Figure size 640x480 with 1 Axes>"
      ]
     },
     "metadata": {},
     "output_type": "display_data"
    }
   ],
   "source": [
    "# Plot accuracy per iteration\n",
    "plt.plot(r.history['accuracy'], label='train acc')\n",
    "plt.plot(r.history['val_accuracy'], label='val acc')\n",
    "plt.legend();"
   ]
  },
  {
   "cell_type": "code",
   "execution_count": 26,
   "id": "5d56cc7b-da23-48d7-80c0-6fa114bb93a0",
   "metadata": {},
   "outputs": [],
   "source": [
    "# True model accuracy - above includes padding\n",
    "\n",
    "# first get length of each sequence\n",
    "train_lengths = []\n",
    "for sentence in X_train_unpadded:\n",
    "    train_lengths.append(len(sentence))\n",
    "\n",
    "test_lengths = []\n",
    "for sentence in X_test_unpadded:\n",
    "    test_lengths.append(len(sentence))"
   ]
  },
  {
   "cell_type": "code",
   "execution_count": 27,
   "id": "68a91528-f0ec-4041-8b57-295944b7a40e",
   "metadata": {},
   "outputs": [
    {
     "name": "stdout",
     "output_type": "stream",
     "text": [
      "1255/1255 [==============================] - 40s 30ms/step\n"
     ]
    }
   ],
   "source": [
    "train_probs = model.predict(X_train) # N x T x K\n",
    "train_predictions = []\n",
    "for probs, length in zip(train_probs, train_lengths):\n",
    "  # probs is T x K\n",
    "  probs_ = probs[-length:]\n",
    "  preds = np.argmax(probs_, axis=1)\n",
    "  train_predictions.append(preds)\n",
    "\n",
    "# flatten\n",
    "flat_train_predictions = flatten(train_predictions)\n",
    "flat_train_targets = flatten(y_train_unpadded)"
   ]
  },
  {
   "cell_type": "code",
   "execution_count": 28,
   "id": "edfd90c9-1ed4-4b22-92ef-c5e0118cf542",
   "metadata": {},
   "outputs": [
    {
     "name": "stdout",
     "output_type": "stream",
     "text": [
      "538/538 [==============================] - 16s 29ms/step\n"
     ]
    }
   ],
   "source": [
    "test_probs = model.predict(X_test) # N x T x K\n",
    "test_predictions = []\n",
    "for probs, length in zip(test_probs, test_lengths):\n",
    "  # probs is T x K\n",
    "  probs_ = probs[-length:]\n",
    "  preds = np.argmax(probs_, axis=1)\n",
    "  test_predictions.append(preds)\n",
    "\n",
    "# flatten\n",
    "flat_test_predictions = flatten(test_predictions)\n",
    "flat_test_targets = flatten(y_test_unpadded)"
   ]
  },
  {
   "cell_type": "code",
   "execution_count": 29,
   "id": "b880d316-96de-4e7d-aa98-423df11a37d3",
   "metadata": {},
   "outputs": [
    {
     "name": "stdout",
     "output_type": "stream",
     "text": [
      "Train acc: 0.9942731835273206\n",
      "Test acc: 0.9730879531484161\n",
      "Train f1: 0.9871864039123864\n",
      "Test f1: 0.9327747156804308\n"
     ]
    }
   ],
   "source": [
    "from sklearn.metrics import accuracy_score, f1_score\n",
    "\n",
    "print(\"Train acc:\", accuracy_score(flat_train_targets, flat_train_predictions))\n",
    "print(\"Test acc:\", accuracy_score(flat_test_targets, flat_test_predictions))\n",
    "\n",
    "print(\"Train f1:\",\n",
    "      f1_score(flat_train_targets, flat_train_predictions, average='macro'))\n",
    "print(\"Test f1:\",\n",
    "      f1_score(flat_test_targets, flat_test_predictions, average='macro'))"
   ]
  },
  {
   "cell_type": "code",
   "execution_count": 33,
   "id": "a8d8c623-f347-4704-babc-6763a11d20d7",
   "metadata": {},
   "outputs": [],
   "source": [
    "### Baseline model: map word to tag\n",
    "from collections import Counter\n",
    "\n",
    "# https://stackoverflow.com/questions/1518522/find-the-most-common-element-in-a-list\n",
    "def most_common(lst):\n",
    "  data = Counter(lst)\n",
    "  return data.most_common(1)[0][0]"
   ]
  },
  {
   "cell_type": "code",
   "execution_count": 37,
   "id": "a5e656cf-7375-4a62-b0d0-270061f45068",
   "metadata": {},
   "outputs": [],
   "source": [
    "token2tags = {k: [] for k, v in word2idx.items()}\n",
    "\n",
    "# remove UNK token\n",
    "del token2tags['UNK']\n",
    "\n",
    "for tokens, tags in zip(X_train_, y_train_):\n",
    "  for token, tag in zip(tokens, tags):\n",
    "    if should_lowercase:\n",
    "      token = token.lower()\n",
    "    if token in token2tags:\n",
    "      token2tags[token].append(tag)\n",
    "\n",
    "token2tag = {k: most_common(v) for k, v in token2tags.items()}"
   ]
  },
  {
   "cell_type": "code",
   "execution_count": 38,
   "id": "24e9ccd5-c3fd-4eb0-9f5f-e0405b35440f",
   "metadata": {},
   "outputs": [],
   "source": [
    "# compute accuracy\n",
    "\n",
    "train_predictions = []\n",
    "for sentence in X_train_:\n",
    "  predictions = []\n",
    "  for token in sentence:\n",
    "    if should_lowercase:\n",
    "      token = token.lower()\n",
    "    predicted_tag = token2tag[token]\n",
    "    predictions.append(predicted_tag)\n",
    "  train_predictions.append(predictions)\n",
    "flat_train_predictions = flatten(train_predictions)\n",
    "flat_train_targets = flatten(y_train_)"
   ]
  },
  {
   "cell_type": "code",
   "execution_count": 39,
   "id": "11d41501-1a49-4b06-9cb8-aead3ce3808c",
   "metadata": {},
   "outputs": [],
   "source": [
    "test_predictions = []\n",
    "for sentence in X_test_:\n",
    "  predictions = []\n",
    "  for token in sentence:\n",
    "    predicted_tag = token2tag.get(token, 'INCORRECT')\n",
    "    predictions.append(predicted_tag)\n",
    "  test_predictions.append(predictions)\n",
    "flat_test_predictions = flatten(test_predictions)\n",
    "flat_test_targets = flatten(y_test_)"
   ]
  },
  {
   "cell_type": "code",
   "execution_count": 40,
   "id": "9857366e-edf4-4385-8dd6-6d2705754d80",
   "metadata": {},
   "outputs": [
    {
     "name": "stdout",
     "output_type": "stream",
     "text": [
      "Train acc: 0.9572719752292754\n",
      "Test acc: 0.9276400758231674\n",
      "Train f1: 0.9385902014999014\n",
      "Test f1: 0.8279065434750679\n"
     ]
    }
   ],
   "source": [
    "print(\"Train acc:\", accuracy_score(flat_train_targets, flat_train_predictions))\n",
    "print(\"Test acc:\", accuracy_score(flat_test_targets, flat_test_predictions))\n",
    "\n",
    "print(\"Train f1:\",\n",
    "      f1_score(flat_train_targets, flat_train_predictions, average='macro'))\n",
    "print(\"Test f1:\",\n",
    "      f1_score(flat_test_targets, flat_test_predictions, average='macro'))"
   ]
  },
  {
   "cell_type": "code",
   "execution_count": 41,
   "id": "e26a1b86-f3dd-4482-b8ca-e32fd0cfa801",
   "metadata": {},
   "outputs": [],
   "source": [
    "# Exercise #1: use different layers (GRU, SimpleRNN), different number of hidden\n",
    "# units, number of layers, etc. as before\n",
    "# Also, repeat the exercise with CNNs instead of RNNs"
   ]
  },
  {
   "cell_type": "code",
   "execution_count": 42,
   "id": "5f2074c4-7f97-4468-bab6-a1f87e31f4c4",
   "metadata": {},
   "outputs": [],
   "source": [
    "# Exercise #2: repeat the same code, but include the 2 mistakes\n",
    "# Mistake #1: not having an OOV token (target len != input len, misalignment)\n",
    "#     Also, verify that target misalignment exists\n",
    "# Mistake #2: not ignoring padding in loss computation\n",
    "# Observe that you get 99% accuracy, even with a bad model.\n",
    "# Exercise: why is the accuracy so high? (discuss on Q&A with your peers)\n",
    "\n",
    "# I've seen these mistakes on Kaggle and on blogs (you know how I like\n",
    "# to read a.k.a. judge bad DS/ML bloggers and marketers). The mistake arises\n",
    "# from \"trusting the library too much\", assuming you can just use the\n",
    "# Tokenizer() with default values and Embedding() with default values, and not\n",
    "# thinking about what they actually do.\n",
    "\n",
    "# i.e. it's important to THINK, not just \"use libraries\"."
   ]
  },
  {
   "cell_type": "code",
   "execution_count": null,
   "id": "4dbd6c98-c636-427e-8ba8-3583f1b2237f",
   "metadata": {},
   "outputs": [],
   "source": []
  }
 ],
 "metadata": {
  "kernelspec": {
   "display_name": "Python 3 (ipykernel)",
   "language": "python",
   "name": "python3"
  },
  "language_info": {
   "codemirror_mode": {
    "name": "ipython",
    "version": 3
   },
   "file_extension": ".py",
   "mimetype": "text/x-python",
   "name": "python",
   "nbconvert_exporter": "python",
   "pygments_lexer": "ipython3",
   "version": "3.10.5"
  }
 },
 "nbformat": 4,
 "nbformat_minor": 5
}
